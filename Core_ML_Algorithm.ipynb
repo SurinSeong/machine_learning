{
 "cells": [
  {
   "cell_type": "code",
   "execution_count": 2,
   "id": "6644beba-16e7-4804-bab3-8c3b5b8f0b3d",
   "metadata": {},
   "outputs": [],
   "source": [
    "import numpy as np\n",
    "import pandas as pd\n",
    "import matplotlib.pyplot as plt\n",
    "\n",
    "from sklearn.model_selection import train_test_split, cross_val_score, StratifiedKFold\n",
    "from matplotlib import pyplot\n",
    "\n",
    "from sklearn.preprocessing import StandardScaler # 정규화"
   ]
  },
  {
   "cell_type": "code",
   "execution_count": 3,
   "id": "76fbbc3d-1d97-4f3a-abf6-369d37832dac",
   "metadata": {},
   "outputs": [
    {
     "name": "stdout",
     "output_type": "stream",
     "text": [
      "(768, 9)\n"
     ]
    },
    {
     "data": {
      "text/html": [
       "<div>\n",
       "<style scoped>\n",
       "    .dataframe tbody tr th:only-of-type {\n",
       "        vertical-align: middle;\n",
       "    }\n",
       "\n",
       "    .dataframe tbody tr th {\n",
       "        vertical-align: top;\n",
       "    }\n",
       "\n",
       "    .dataframe thead th {\n",
       "        text-align: right;\n",
       "    }\n",
       "</style>\n",
       "<table border=\"1\" class=\"dataframe\">\n",
       "  <thead>\n",
       "    <tr style=\"text-align: right;\">\n",
       "      <th></th>\n",
       "      <th>pregnant</th>\n",
       "      <th>plasma</th>\n",
       "      <th>pressure</th>\n",
       "      <th>thickness</th>\n",
       "      <th>insulin</th>\n",
       "      <th>bmi</th>\n",
       "      <th>pedigree</th>\n",
       "      <th>age</th>\n",
       "      <th>diabetes</th>\n",
       "    </tr>\n",
       "  </thead>\n",
       "  <tbody>\n",
       "    <tr>\n",
       "      <th>0</th>\n",
       "      <td>6</td>\n",
       "      <td>148</td>\n",
       "      <td>72</td>\n",
       "      <td>35</td>\n",
       "      <td>0</td>\n",
       "      <td>33.6</td>\n",
       "      <td>0.627</td>\n",
       "      <td>50</td>\n",
       "      <td>1</td>\n",
       "    </tr>\n",
       "    <tr>\n",
       "      <th>1</th>\n",
       "      <td>1</td>\n",
       "      <td>85</td>\n",
       "      <td>66</td>\n",
       "      <td>29</td>\n",
       "      <td>0</td>\n",
       "      <td>26.6</td>\n",
       "      <td>0.351</td>\n",
       "      <td>31</td>\n",
       "      <td>0</td>\n",
       "    </tr>\n",
       "  </tbody>\n",
       "</table>\n",
       "</div>"
      ],
      "text/plain": [
       "   pregnant  plasma  pressure  thickness  insulin   bmi  pedigree  age  \\\n",
       "0         6     148        72         35        0  33.6     0.627   50   \n",
       "1         1      85        66         29        0  26.6     0.351   31   \n",
       "\n",
       "   diabetes  \n",
       "0         1  \n",
       "1         0  "
      ]
     },
     "execution_count": 3,
     "metadata": {},
     "output_type": "execute_result"
    }
   ],
   "source": [
    "# 데이터 불러오기 : pima-indians\n",
    "raw = pd.read_csv('./data/pima-indians-diabetes3.csv')\n",
    "df = raw.copy()\n",
    "print(df.shape)\n",
    "df.head(2)"
   ]
  },
  {
   "cell_type": "code",
   "execution_count": 3,
   "id": "d5468ebe-e801-40d2-bf1a-4b0fae372653",
   "metadata": {},
   "outputs": [
    {
     "data": {
      "text/plain": [
       "Index(['pregnant', 'plasma', 'pressure', 'thickness', 'insulin', 'bmi',\n",
       "       'pedigree', 'age', 'diabetes'],\n",
       "      dtype='object')"
      ]
     },
     "execution_count": 3,
     "metadata": {},
     "output_type": "execute_result"
    }
   ],
   "source": [
    "df.columns"
   ]
  },
  {
   "cell_type": "code",
   "execution_count": 4,
   "id": "70c29829-4c32-4b73-829a-13cc86cce9fa",
   "metadata": {},
   "outputs": [],
   "source": [
    "# 독립변수, 종속변수 나누기\n",
    "X = df.iloc[:, :-1]\n",
    "y = df.iloc[:, -1] # diabetes"
   ]
  },
  {
   "cell_type": "code",
   "execution_count": 5,
   "id": "0e3051be-5ea4-4344-bc0a-b6bb9b3653ce",
   "metadata": {},
   "outputs": [
    {
     "data": {
      "text/plain": [
       "array([[ 0.63994726,  0.84832379,  0.14964075, ...,  0.20401277,\n",
       "         0.46849198,  1.4259954 ],\n",
       "       [-0.84488505, -1.12339636, -0.16054575, ..., -0.68442195,\n",
       "        -0.36506078, -0.19067191],\n",
       "       [ 1.23388019,  1.94372388, -0.26394125, ..., -1.10325546,\n",
       "         0.60439732, -0.10558415],\n",
       "       ...,\n",
       "       [ 0.3429808 ,  0.00330087,  0.14964075, ..., -0.73518964,\n",
       "        -0.68519336, -0.27575966],\n",
       "       [-0.84488505,  0.1597866 , -0.47073225, ..., -0.24020459,\n",
       "        -0.37110101,  1.17073215],\n",
       "       [-0.84488505, -0.8730192 ,  0.04624525, ..., -0.20212881,\n",
       "        -0.47378505, -0.87137393]])"
      ]
     },
     "execution_count": 5,
     "metadata": {},
     "output_type": "execute_result"
    }
   ],
   "source": [
    "# 정규화하기\n",
    "scaler = StandardScaler()\n",
    "\n",
    "# 표준화 : 평균 0, 분산 (표준편차) 1\n",
    "scaler.fit_transform(X)"
   ]
  },
  {
   "cell_type": "code",
   "execution_count": 6,
   "id": "27a6eefa-ef04-43ff-a6e7-e76bde31a470",
   "metadata": {},
   "outputs": [
    {
     "data": {
      "text/html": [
       "<div>\n",
       "<style scoped>\n",
       "    .dataframe tbody tr th:only-of-type {\n",
       "        vertical-align: middle;\n",
       "    }\n",
       "\n",
       "    .dataframe tbody tr th {\n",
       "        vertical-align: top;\n",
       "    }\n",
       "\n",
       "    .dataframe thead th {\n",
       "        text-align: right;\n",
       "    }\n",
       "</style>\n",
       "<table border=\"1\" class=\"dataframe\">\n",
       "  <thead>\n",
       "    <tr style=\"text-align: right;\">\n",
       "      <th></th>\n",
       "      <th>pregnant</th>\n",
       "      <th>plasma</th>\n",
       "      <th>pressure</th>\n",
       "      <th>thickness</th>\n",
       "      <th>insulin</th>\n",
       "      <th>bmi</th>\n",
       "      <th>pedigree</th>\n",
       "      <th>age</th>\n",
       "    </tr>\n",
       "  </thead>\n",
       "  <tbody>\n",
       "    <tr>\n",
       "      <th>0</th>\n",
       "      <td>0.639947</td>\n",
       "      <td>0.848324</td>\n",
       "      <td>0.149641</td>\n",
       "      <td>0.907270</td>\n",
       "      <td>-0.692891</td>\n",
       "      <td>0.204013</td>\n",
       "      <td>0.468492</td>\n",
       "      <td>1.425995</td>\n",
       "    </tr>\n",
       "    <tr>\n",
       "      <th>1</th>\n",
       "      <td>-0.844885</td>\n",
       "      <td>-1.123396</td>\n",
       "      <td>-0.160546</td>\n",
       "      <td>0.530902</td>\n",
       "      <td>-0.692891</td>\n",
       "      <td>-0.684422</td>\n",
       "      <td>-0.365061</td>\n",
       "      <td>-0.190672</td>\n",
       "    </tr>\n",
       "    <tr>\n",
       "      <th>2</th>\n",
       "      <td>1.233880</td>\n",
       "      <td>1.943724</td>\n",
       "      <td>-0.263941</td>\n",
       "      <td>-1.288212</td>\n",
       "      <td>-0.692891</td>\n",
       "      <td>-1.103255</td>\n",
       "      <td>0.604397</td>\n",
       "      <td>-0.105584</td>\n",
       "    </tr>\n",
       "    <tr>\n",
       "      <th>3</th>\n",
       "      <td>-0.844885</td>\n",
       "      <td>-0.998208</td>\n",
       "      <td>-0.160546</td>\n",
       "      <td>0.154533</td>\n",
       "      <td>0.123302</td>\n",
       "      <td>-0.494043</td>\n",
       "      <td>-0.920763</td>\n",
       "      <td>-1.041549</td>\n",
       "    </tr>\n",
       "    <tr>\n",
       "      <th>4</th>\n",
       "      <td>-1.141852</td>\n",
       "      <td>0.504055</td>\n",
       "      <td>-1.504687</td>\n",
       "      <td>0.907270</td>\n",
       "      <td>0.765836</td>\n",
       "      <td>1.409746</td>\n",
       "      <td>5.484909</td>\n",
       "      <td>-0.020496</td>\n",
       "    </tr>\n",
       "    <tr>\n",
       "      <th>...</th>\n",
       "      <td>...</td>\n",
       "      <td>...</td>\n",
       "      <td>...</td>\n",
       "      <td>...</td>\n",
       "      <td>...</td>\n",
       "      <td>...</td>\n",
       "      <td>...</td>\n",
       "      <td>...</td>\n",
       "    </tr>\n",
       "    <tr>\n",
       "      <th>763</th>\n",
       "      <td>1.827813</td>\n",
       "      <td>-0.622642</td>\n",
       "      <td>0.356432</td>\n",
       "      <td>1.722735</td>\n",
       "      <td>0.870031</td>\n",
       "      <td>0.115169</td>\n",
       "      <td>-0.908682</td>\n",
       "      <td>2.532136</td>\n",
       "    </tr>\n",
       "    <tr>\n",
       "      <th>764</th>\n",
       "      <td>-0.547919</td>\n",
       "      <td>0.034598</td>\n",
       "      <td>0.046245</td>\n",
       "      <td>0.405445</td>\n",
       "      <td>-0.692891</td>\n",
       "      <td>0.610154</td>\n",
       "      <td>-0.398282</td>\n",
       "      <td>-0.531023</td>\n",
       "    </tr>\n",
       "    <tr>\n",
       "      <th>765</th>\n",
       "      <td>0.342981</td>\n",
       "      <td>0.003301</td>\n",
       "      <td>0.149641</td>\n",
       "      <td>0.154533</td>\n",
       "      <td>0.279594</td>\n",
       "      <td>-0.735190</td>\n",
       "      <td>-0.685193</td>\n",
       "      <td>-0.275760</td>\n",
       "    </tr>\n",
       "    <tr>\n",
       "      <th>766</th>\n",
       "      <td>-0.844885</td>\n",
       "      <td>0.159787</td>\n",
       "      <td>-0.470732</td>\n",
       "      <td>-1.288212</td>\n",
       "      <td>-0.692891</td>\n",
       "      <td>-0.240205</td>\n",
       "      <td>-0.371101</td>\n",
       "      <td>1.170732</td>\n",
       "    </tr>\n",
       "    <tr>\n",
       "      <th>767</th>\n",
       "      <td>-0.844885</td>\n",
       "      <td>-0.873019</td>\n",
       "      <td>0.046245</td>\n",
       "      <td>0.656358</td>\n",
       "      <td>-0.692891</td>\n",
       "      <td>-0.202129</td>\n",
       "      <td>-0.473785</td>\n",
       "      <td>-0.871374</td>\n",
       "    </tr>\n",
       "  </tbody>\n",
       "</table>\n",
       "<p>768 rows × 8 columns</p>\n",
       "</div>"
      ],
      "text/plain": [
       "     pregnant    plasma  pressure  thickness   insulin       bmi  pedigree  \\\n",
       "0    0.639947  0.848324  0.149641   0.907270 -0.692891  0.204013  0.468492   \n",
       "1   -0.844885 -1.123396 -0.160546   0.530902 -0.692891 -0.684422 -0.365061   \n",
       "2    1.233880  1.943724 -0.263941  -1.288212 -0.692891 -1.103255  0.604397   \n",
       "3   -0.844885 -0.998208 -0.160546   0.154533  0.123302 -0.494043 -0.920763   \n",
       "4   -1.141852  0.504055 -1.504687   0.907270  0.765836  1.409746  5.484909   \n",
       "..        ...       ...       ...        ...       ...       ...       ...   \n",
       "763  1.827813 -0.622642  0.356432   1.722735  0.870031  0.115169 -0.908682   \n",
       "764 -0.547919  0.034598  0.046245   0.405445 -0.692891  0.610154 -0.398282   \n",
       "765  0.342981  0.003301  0.149641   0.154533  0.279594 -0.735190 -0.685193   \n",
       "766 -0.844885  0.159787 -0.470732  -1.288212 -0.692891 -0.240205 -0.371101   \n",
       "767 -0.844885 -0.873019  0.046245   0.656358 -0.692891 -0.202129 -0.473785   \n",
       "\n",
       "          age  \n",
       "0    1.425995  \n",
       "1   -0.190672  \n",
       "2   -0.105584  \n",
       "3   -1.041549  \n",
       "4   -0.020496  \n",
       "..        ...  \n",
       "763  2.532136  \n",
       "764 -0.531023  \n",
       "765 -0.275760  \n",
       "766  1.170732  \n",
       "767 -0.871374  \n",
       "\n",
       "[768 rows x 8 columns]"
      ]
     },
     "execution_count": 6,
     "metadata": {},
     "output_type": "execute_result"
    }
   ],
   "source": [
    "X_scaled = pd.DataFrame(scaler.fit_transform(X), columns=X.columns)\n",
    "X_scaled"
   ]
  },
  {
   "cell_type": "code",
   "execution_count": 7,
   "id": "77912e5a-c744-4546-ae99-be84ac8d8b83",
   "metadata": {},
   "outputs": [
    {
     "data": {
      "image/png": "[encoded data removed]",
      "text/plain": [
       "<Figure size 1200x400 with 2 Axes>"
      ]
     },
     "metadata": {},
     "output_type": "display_data"
    }
   ],
   "source": [
    "# 시각화\n",
    "fig, ax = plt.subplots(1, 2, figsize=(12, 4))\n",
    "\n",
    "X.plot(kind='kde', title='Raw Data', ax=ax[0])\n",
    "X_scaled.plot(kind='kde', title='Standard Scaled Data', ax=ax[1])\n",
    "\n",
    "plt.show()"
   ]
  },
  {
   "cell_type": "code",
   "execution_count": 8,
   "id": "a132d44b-2b82-422f-888d-2a504e3c3c31",
   "metadata": {},
   "outputs": [],
   "source": [
    "# 데이터셋 구분 (학습용, 평가용)\n",
    "X_train, X_test, y_train, t_test = \\\n",
    "train_test_split(X, y, test_size=0.25, random_state=42)"
   ]
  },
  {
   "cell_type": "markdown",
   "id": "2200750d-24f2-4634-ad5e-c89d20fb5333",
   "metadata": {},
   "source": [
    "## 의사결정나무"
   ]
  },
  {
   "cell_type": "code",
   "execution_count": 10,
   "id": "68822b86-cff5-4cc5-94ef-fb1d11d18459",
   "metadata": {},
   "outputs": [
    {
     "name": "stdout",
     "output_type": "stream",
     "text": [
      "Acc : 71.88%\n",
      "Std : 6.82%\n"
     ]
    }
   ],
   "source": [
    "from sklearn.tree import DecisionTreeClassifier\n",
    "\n",
    "# 모델 생성\n",
    "model = DecisionTreeClassifier()\n",
    "\n",
    "# 학습 실행\n",
    "model.fit(X_train, y_train)\n",
    "\n",
    "# test data에 적용하기\n",
    "y_pred = model.predict(X_test)\n",
    "\n",
    "# 계층별 교차 검증\n",
    "kfold = StratifiedKFold(n_splits=10, shuffle=True)\n",
    "\n",
    "# 교차 검증을 통해 정확도 계산하기\n",
    "accuracy = cross_val_score(estimator=model, X=X_train, y=y_train, cv=kfold)\n",
    "\n",
    "# 정확도와 표준편차 출력하기\n",
    "print('Acc : {:.2f}%'.format(accuracy.mean() * 100))\n",
    "print('Std : {:.2f}%'.format(accuracy.std() * 100))"
   ]
  },
  {
   "cell_type": "markdown",
   "id": "fa495a9e-14a3-40f6-8b07-fa675177a51e",
   "metadata": {},
   "source": [
    "## 랜덤 포레스트 (RandomForest)"
   ]
  },
  {
   "cell_type": "code",
   "execution_count": 11,
   "id": "45bd3e90-38da-437b-b4a2-a5c1eccd2af7",
   "metadata": {},
   "outputs": [
    {
     "name": "stdout",
     "output_type": "stream",
     "text": [
      "Acc : 77.10%\n",
      "Std : 6.64%\n"
     ]
    }
   ],
   "source": [
    "from sklearn.ensemble import RandomForestClassifier\n",
    "\n",
    "# 모델 생성\n",
    "model = RandomForestClassifier(n_estimators=50) # n_estimaters : 몇 개의 결정 트리를 사용할 것인지 결정하는 옵션\n",
    "\n",
    "# 모델 fitting\n",
    "model.fit(X_train, y_train)\n",
    "\n",
    "# test data로 예측\n",
    "y_pred = model.predict(X_test)\n",
    "\n",
    "# 계층별 교차 검증\n",
    "kfold = StratifiedKFold(n_splits=10, shuffle=True)\n",
    "\n",
    "# 교차 검증을 통해 정확도 계산하기\n",
    "accuracy = cross_val_score(estimator=model, X=X_train, y=y_train, cv=kfold)\n",
    "\n",
    "# 정확도와 표준편차 출력하기\n",
    "print('Acc : {:.2f}%'.format(accuracy.mean() * 100))\n",
    "print('Std : {:.2f}%'.format(accuracy.std() * 100))"
   ]
  },
  {
   "cell_type": "markdown",
   "id": "4b152629-cecc-480a-a6ee-3e6c2e6bb4d0",
   "metadata": {},
   "source": [
    "## 가우시안 나이브 베이즈"
   ]
  },
  {
   "cell_type": "code",
   "execution_count": 12,
   "id": "d5a19716-e9d8-44e2-85d0-63c82b2eb326",
   "metadata": {},
   "outputs": [
    {
     "name": "stdout",
     "output_type": "stream",
     "text": [
      "Acc : 74.67%\n",
      "Std : 4.89%\n"
     ]
    }
   ],
   "source": [
    "from sklearn.naive_bayes import GaussianNB\n",
    "\n",
    "# 모델 생성\n",
    "model = GaussianNB()\n",
    "\n",
    "# 모델 fitting\n",
    "model.fit(X_train, y_train)\n",
    "\n",
    "# test data로 예측\n",
    "y_pred = model.predict(X_test)\n",
    "\n",
    "# 계층별 교차 검증\n",
    "kfold = StratifiedKFold(n_splits=10, shuffle=True)\n",
    "\n",
    "# 교차 검증을 통해 정확도 계산하기\n",
    "accuracy = cross_val_score(estimator=model, X=X_train, y=y_train, cv=kfold)\n",
    "\n",
    "# 정확도와 표준편차 출력하기\n",
    "print('Acc : {:.2f}%'.format(accuracy.mean() * 100))\n",
    "print('Std : {:.2f}%'.format(accuracy.std() * 100))"
   ]
  },
  {
   "cell_type": "markdown",
   "id": "83b9730c-64af-4852-8ab0-de9ae52c1868",
   "metadata": {},
   "source": [
    "## KNN 최근접 이웃 지도학습"
   ]
  },
  {
   "cell_type": "code",
   "execution_count": 13,
   "id": "1808c5cc-d34f-4808-93d1-9221f462edd2",
   "metadata": {},
   "outputs": [
    {
     "name": "stdout",
     "output_type": "stream",
     "text": [
      "Acc : 73.06%\n",
      "Std : 5.13%\n"
     ]
    }
   ],
   "source": [
    "from sklearn.neighbors import KNeighborsClassifier\n",
    "\n",
    "model = KNeighborsClassifier()\n",
    "\n",
    "# 모델 fitting\n",
    "model.fit(X_train, y_train)\n",
    "\n",
    "# test data로 예측\n",
    "y_pred = model.predict(X_test)\n",
    "\n",
    "# 계층별 교차 검증\n",
    "kfold = StratifiedKFold(n_splits=10, shuffle=True)\n",
    "\n",
    "# 교차 검증을 통해 정확도 계산하기\n",
    "accuracy = cross_val_score(estimator=model, X=X_train, y=y_train, cv=kfold)\n",
    "\n",
    "# 정확도와 표준편차 출력하기\n",
    "print('Acc : {:.2f}%'.format(accuracy.mean() * 100))\n",
    "print('Std : {:.2f}%'.format(accuracy.std() * 100))"
   ]
  },
  {
   "cell_type": "markdown",
   "id": "07ae2071-8bbc-4a70-bdbd-7ffa1de66145",
   "metadata": {},
   "source": [
    "## 에이다부스트 AdaBoost"
   ]
  },
  {
   "cell_type": "code",
   "execution_count": 14,
   "id": "8257b10c-4c84-43af-9d16-27f327e9d8e4",
   "metadata": {},
   "outputs": [
    {
     "name": "stdout",
     "output_type": "stream",
     "text": [
      "Acc : 74.99%\n",
      "Std : 2.69%\n"
     ]
    }
   ],
   "source": [
    "from sklearn.ensemble import AdaBoostClassifier\n",
    "\n",
    "# 모델 생성\n",
    "model = AdaBoostClassifier()\n",
    "\n",
    "# 모델 fitting\n",
    "model.fit(X_train, y_train)\n",
    "\n",
    "# test data로 예측\n",
    "y_pred = model.predict(X_test)\n",
    "\n",
    "# 계층별 교차 검증\n",
    "kfold = StratifiedKFold(n_splits=10, shuffle=True)\n",
    "\n",
    "# 교차 검증을 통해 정확도 계산하기\n",
    "accuracy = cross_val_score(estimator=model, X=X_train, y=y_train, cv=kfold)\n",
    "\n",
    "# 정확도와 표준편차 출력하기\n",
    "print('Acc : {:.2f}%'.format(accuracy.mean() * 100))\n",
    "print('Std : {:.2f}%'.format(accuracy.std() * 100))"
   ]
  },
  {
   "cell_type": "markdown",
   "id": "daa054a1-85df-4192-9866-75af6c819c70",
   "metadata": {},
   "source": [
    "## 이차 판별 분석"
   ]
  },
  {
   "cell_type": "code",
   "execution_count": 15,
   "id": "61028890-fee5-4366-ab1a-574e836da9ba",
   "metadata": {},
   "outputs": [
    {
     "name": "stdout",
     "output_type": "stream",
     "text": [
      "Acc : 73.64%\n",
      "Std : 6.10%\n"
     ]
    }
   ],
   "source": [
    "from sklearn.discriminant_analysis import QuadraticDiscriminantAnalysis\n",
    "\n",
    "# 모델 생성\n",
    "model = QuadraticDiscriminantAnalysis()\n",
    "\n",
    "# 모델 fitting\n",
    "model.fit(X_train, y_train)\n",
    "\n",
    "# test data로 예측\n",
    "y_pred = model.predict(X_test)\n",
    "\n",
    "# 계층별 교차 검증\n",
    "kfold = StratifiedKFold(n_splits=10, shuffle=True)\n",
    "\n",
    "# 교차 검증을 통해 정확도 계산하기\n",
    "accuracy = cross_val_score(estimator=model, X=X_train, y=y_train, cv=kfold)\n",
    "\n",
    "# 정확도와 표준편차 출력하기\n",
    "print('Acc : {:.2f}%'.format(accuracy.mean() * 100))\n",
    "print('Std : {:.2f}%'.format(accuracy.std() * 100))"
   ]
  },
  {
   "cell_type": "markdown",
   "id": "bf6507df-5bed-4684-ab4a-436fd347026c",
   "metadata": {},
   "source": [
    "## 서포트 벡터 머신 Support Vector Machine"
   ]
  },
  {
   "cell_type": "code",
   "execution_count": 9,
   "id": "f0c76c58-1e18-4180-a906-90d2cc1c3e43",
   "metadata": {},
   "outputs": [
    {
     "name": "stdout",
     "output_type": "stream",
     "text": [
      "Acc : 77.26%\n",
      "Std : 6.18%\n"
     ]
    }
   ],
   "source": [
    "from sklearn.svm import SVC\n",
    "\n",
    "# 모델 생성\n",
    "model = SVC(kernel='linear')\n",
    "\n",
    "# fitting\n",
    "model.fit(X_train, y_train)\n",
    "\n",
    "# test data로 예측\n",
    "y_pred = model.predict(X_test)\n",
    "\n",
    "# 계층별 교차 검증\n",
    "kfold = StratifiedKFold(n_splits=10, shuffle=True)\n",
    "\n",
    "# 교차 검증을 통해 정확도 계산하기\n",
    "accuracy = cross_val_score(estimator=model, X=X_train, y=y_train, cv=kfold)\n",
    "\n",
    "# 정확도와 표준편차 출력하기\n",
    "print('Acc : {:.2f}%'.format(accuracy.mean() * 100))\n",
    "print('Std : {:.2f}%'.format(accuracy.std() * 100))"
   ]
  },
  {
   "cell_type": "markdown",
   "id": "0277bf2b-fe13-4423-bb70-a9c4583e0a78",
   "metadata": {},
   "source": [
    "## 서포트 벡터 머신 - RBF kernel\n",
    "* 비선형 (선형으로 분리될 수 없는 경우 사용)"
   ]
  },
  {
   "cell_type": "code",
   "execution_count": 16,
   "id": "ced74550-c6ef-427e-a6b4-8b55a083e523",
   "metadata": {},
   "outputs": [
    {
     "name": "stdout",
     "output_type": "stream",
     "text": [
      "Acc : 75.86%\n",
      "Std : 5.34%\n"
     ]
    }
   ],
   "source": [
    "# 모델 생성\n",
    "model = SVC(kernel='rbf')\n",
    "\n",
    "# fitting\n",
    "model.fit(X_train, y_train)\n",
    "\n",
    "# test data로 예측\n",
    "y_pred = model.predict(X_test)\n",
    "\n",
    "# 계층별 교차 검증\n",
    "kfold = StratifiedKFold(n_splits=10, shuffle=True)\n",
    "\n",
    "# 교차 검증을 통해 정확도 계산하기\n",
    "accuracy = cross_val_score(estimator=model, X=X_train, y=y_train, cv=kfold)\n",
    "\n",
    "# 정확도와 표준편차 출력하기\n",
    "print('Acc : {:.2f}%'.format(accuracy.mean() * 100))\n",
    "print('Std : {:.2f}%'.format(accuracy.std() * 100))"
   ]
  },
  {
   "cell_type": "markdown",
   "id": "611d0f2d-cce2-4056-bca8-02ebb60d3596",
   "metadata": {},
   "source": [
    "## 보팅 Voting"
   ]
  },
  {
   "cell_type": "code",
   "execution_count": 18,
   "id": "8edddd94-d45e-422b-908a-34eb016b5584",
   "metadata": {},
   "outputs": [
    {
     "name": "stdout",
     "output_type": "stream",
     "text": [
      "Acc : 76.39%\n",
      "Std : 6.50%\n"
     ]
    }
   ],
   "source": [
    "from sklearn.ensemble import VotingClassifier\n",
    "\n",
    "model1 = AdaBoostClassifier()\n",
    "model2 = RandomForestClassifier()\n",
    "model3 = SVC(kernel='linear')\n",
    "\n",
    "voting = VotingClassifier(estimators=[('lr', model1), ('rf', model2), ('svc', model3)])\n",
    "\n",
    "# fitting\n",
    "voting.fit(X_train, y_train)\n",
    "\n",
    "# test data로 예측\n",
    "y_pred = voting.predict(X_test)\n",
    "\n",
    "# 계층별 교차 검증\n",
    "kfold = StratifiedKFold(n_splits=10, shuffle=True)\n",
    "\n",
    "# 교차 검증을 통해 정확도 계산하기\n",
    "accuracy = cross_val_score(estimator=voting, X=X_train, y=y_train, cv=kfold)\n",
    "\n",
    "# 정확도와 표준편차 출력하기\n",
    "print('Acc : {:.2f}%'.format(accuracy.mean() * 100))\n",
    "print('Std : {:.2f}%'.format(accuracy.std() * 100))"
   ]
  },
  {
   "cell_type": "markdown",
   "id": "7a3eec56-1f41-4da9-9c3f-493701f68c0e",
   "metadata": {},
   "source": [
    "## 배깅"
   ]
  },
  {
   "cell_type": "code",
   "execution_count": 17,
   "id": "5a8f9fa0-e584-42aa-a7c3-43cc7daab58e",
   "metadata": {
    "scrolled": true
   },
   "outputs": [
    {
     "name": "stderr",
     "output_type": "stream",
     "text": [
      "C:\\ProgramData\\anaconda3\\Lib\\site-packages\\sklearn\\ensemble\\_base.py:166: FutureWarning: `base_estimator` was renamed to `estimator` in version 1.2 and will be removed in 1.4.\n",
      "  warnings.warn(\n",
      "C:\\ProgramData\\anaconda3\\Lib\\site-packages\\sklearn\\ensemble\\_base.py:166: FutureWarning: `base_estimator` was renamed to `estimator` in version 1.2 and will be removed in 1.4.\n",
      "  warnings.warn(\n",
      "C:\\ProgramData\\anaconda3\\Lib\\site-packages\\sklearn\\ensemble\\_base.py:166: FutureWarning: `base_estimator` was renamed to `estimator` in version 1.2 and will be removed in 1.4.\n",
      "  warnings.warn(\n",
      "C:\\ProgramData\\anaconda3\\Lib\\site-packages\\sklearn\\ensemble\\_base.py:166: FutureWarning: `base_estimator` was renamed to `estimator` in version 1.2 and will be removed in 1.4.\n",
      "  warnings.warn(\n",
      "C:\\ProgramData\\anaconda3\\Lib\\site-packages\\sklearn\\ensemble\\_base.py:166: FutureWarning: `base_estimator` was renamed to `estimator` in version 1.2 and will be removed in 1.4.\n",
      "  warnings.warn(\n",
      "C:\\ProgramData\\anaconda3\\Lib\\site-packages\\sklearn\\ensemble\\_base.py:166: FutureWarning: `base_estimator` was renamed to `estimator` in version 1.2 and will be removed in 1.4.\n",
      "  warnings.warn(\n",
      "C:\\ProgramData\\anaconda3\\Lib\\site-packages\\sklearn\\ensemble\\_base.py:166: FutureWarning: `base_estimator` was renamed to `estimator` in version 1.2 and will be removed in 1.4.\n",
      "  warnings.warn(\n",
      "C:\\ProgramData\\anaconda3\\Lib\\site-packages\\sklearn\\ensemble\\_base.py:166: FutureWarning: `base_estimator` was renamed to `estimator` in version 1.2 and will be removed in 1.4.\n",
      "  warnings.warn(\n",
      "C:\\ProgramData\\anaconda3\\Lib\\site-packages\\sklearn\\ensemble\\_base.py:166: FutureWarning: `base_estimator` was renamed to `estimator` in version 1.2 and will be removed in 1.4.\n",
      "  warnings.warn(\n",
      "C:\\ProgramData\\anaconda3\\Lib\\site-packages\\sklearn\\ensemble\\_base.py:166: FutureWarning: `base_estimator` was renamed to `estimator` in version 1.2 and will be removed in 1.4.\n",
      "  warnings.warn(\n",
      "C:\\ProgramData\\anaconda3\\Lib\\site-packages\\sklearn\\ensemble\\_base.py:166: FutureWarning: `base_estimator` was renamed to `estimator` in version 1.2 and will be removed in 1.4.\n",
      "  warnings.warn(\n"
     ]
    },
    {
     "name": "stdout",
     "output_type": "stream",
     "text": [
      "Acc : 76.03%\n",
      "Std : 5.57%\n"
     ]
    }
   ],
   "source": [
    "from sklearn.ensemble import BaggingClassifier\n",
    "\n",
    "model = BaggingClassifier(base_estimator=SVC(kernel='rbf'), n_estimators=10)\n",
    "\n",
    "# fitting\n",
    "model.fit(X_train, y_train)\n",
    "\n",
    "# test data로 예측\n",
    "y_pred = model.predict(X_test)\n",
    "\n",
    "# 계층별 교차 검증\n",
    "kfold = StratifiedKFold(n_splits=10, shuffle=True)\n",
    "\n",
    "# 교차 검증을 통해 정확도 계산하기\n",
    "accuracy = cross_val_score(estimator=model, X=X_train, y=y_train, cv=kfold)\n",
    "\n",
    "# 정확도와 표준편차 출력하기\n",
    "print('Acc : {:.2f}%'.format(accuracy.mean() * 100))\n",
    "print('Std : {:.2f}%'.format(accuracy.std() * 100))"
   ]
  },
  {
   "cell_type": "markdown",
   "id": "84d78037-4f26-4101-88e4-163478f189db",
   "metadata": {},
   "source": [
    "## 한 번에 끝내는 알고리즘 성능비교"
   ]
  },
  {
   "cell_type": "code",
   "execution_count": 20,
   "id": "29050885-5fb2-473c-8132-fd6ec0e9139c",
   "metadata": {},
   "outputs": [],
   "source": [
    "# 사용할 분류기 모두 지정\n",
    "classifiers = \\\n",
    "[\n",
    "    DecisionTreeClassifier(),\n",
    "    RandomForestClassifier(),\n",
    "    GaussianNB(),\n",
    "    KNeighborsClassifier(),\n",
    "    SVC(kernel='linear'),\n",
    "    SVC(kernel='rbf'),\n",
    "    AdaBoostClassifier(),\n",
    "    QuadraticDiscriminantAnalysis(),\n",
    "    VotingClassifier(\n",
    "        estimators=[\n",
    "            ('1', AdaBoostClassifier()),\n",
    "            ('2', RandomForestClassifier()),\n",
    "            ('3', SVC(kernel='linear')),\n",
    "        ]\n",
    "    ),\n",
    "    BaggingClassifier(base_estimator=SVC(kernel='rbf'), n_estimators=10, random_state=42)\n",
    "]\n",
    "\n",
    "# 각 분류기의 이름 지정\n",
    "classifiers_name = \\\n",
    "[\n",
    "    'dt',\n",
    "    'rf',\n",
    "    'gnb',\n",
    "    'knn',\n",
    "    'svm_linear',\n",
    "    'svm_rbf',\n",
    "    'adaboost',\n",
    "    'qda',\n",
    "    'voting',\n",
    "    'bagging'\n",
    "]"
   ]
  },
  {
   "cell_type": "code",
   "execution_count": 21,
   "id": "c7888cc0-9e37-40a7-9e5f-0d048fa47ad6",
   "metadata": {
    "scrolled": true
   },
   "outputs": [
    {
     "name": "stdout",
     "output_type": "stream",
     "text": [
      "========== dt ==========\n",
      "Acc : 73.97%\n",
      "Std : 3.52%\n",
      "========== rf ==========\n",
      "Acc : 77.27%\n",
      "Std : 7.94%\n",
      "========== gnb ==========\n",
      "Acc : 75.34%\n",
      "Std : 3.78%\n",
      "========== knn ==========\n",
      "Acc : 73.97%\n",
      "Std : 3.60%\n",
      "========== svm_linear ==========\n",
      "Acc : 77.25%\n",
      "Std : 4.45%\n",
      "========== svm_rbf ==========\n",
      "Acc : 76.58%\n",
      "Std : 4.89%\n",
      "========== adaboost ==========\n",
      "Acc : 75.52%\n",
      "Std : 4.65%\n",
      "========== qda ==========\n",
      "Acc : 72.57%\n",
      "Std : 4.69%\n",
      "========== voting ==========\n",
      "Acc : 76.75%\n",
      "Std : 3.57%\n"
     ]
    },
    {
     "name": "stderr",
     "output_type": "stream",
     "text": [
      "C:\\ProgramData\\anaconda3\\Lib\\site-packages\\sklearn\\ensemble\\_base.py:166: FutureWarning: `base_estimator` was renamed to `estimator` in version 1.2 and will be removed in 1.4.\n",
      "  warnings.warn(\n",
      "C:\\ProgramData\\anaconda3\\Lib\\site-packages\\sklearn\\ensemble\\_base.py:166: FutureWarning: `base_estimator` was renamed to `estimator` in version 1.2 and will be removed in 1.4.\n",
      "  warnings.warn(\n",
      "C:\\ProgramData\\anaconda3\\Lib\\site-packages\\sklearn\\ensemble\\_base.py:166: FutureWarning: `base_estimator` was renamed to `estimator` in version 1.2 and will be removed in 1.4.\n",
      "  warnings.warn(\n",
      "C:\\ProgramData\\anaconda3\\Lib\\site-packages\\sklearn\\ensemble\\_base.py:166: FutureWarning: `base_estimator` was renamed to `estimator` in version 1.2 and will be removed in 1.4.\n",
      "  warnings.warn(\n",
      "C:\\ProgramData\\anaconda3\\Lib\\site-packages\\sklearn\\ensemble\\_base.py:166: FutureWarning: `base_estimator` was renamed to `estimator` in version 1.2 and will be removed in 1.4.\n",
      "  warnings.warn(\n",
      "C:\\ProgramData\\anaconda3\\Lib\\site-packages\\sklearn\\ensemble\\_base.py:166: FutureWarning: `base_estimator` was renamed to `estimator` in version 1.2 and will be removed in 1.4.\n",
      "  warnings.warn(\n",
      "C:\\ProgramData\\anaconda3\\Lib\\site-packages\\sklearn\\ensemble\\_base.py:166: FutureWarning: `base_estimator` was renamed to `estimator` in version 1.2 and will be removed in 1.4.\n",
      "  warnings.warn(\n",
      "C:\\ProgramData\\anaconda3\\Lib\\site-packages\\sklearn\\ensemble\\_base.py:166: FutureWarning: `base_estimator` was renamed to `estimator` in version 1.2 and will be removed in 1.4.\n",
      "  warnings.warn(\n",
      "C:\\ProgramData\\anaconda3\\Lib\\site-packages\\sklearn\\ensemble\\_base.py:166: FutureWarning: `base_estimator` was renamed to `estimator` in version 1.2 and will be removed in 1.4.\n",
      "  warnings.warn(\n",
      "C:\\ProgramData\\anaconda3\\Lib\\site-packages\\sklearn\\ensemble\\_base.py:166: FutureWarning: `base_estimator` was renamed to `estimator` in version 1.2 and will be removed in 1.4.\n",
      "  warnings.warn(\n"
     ]
    },
    {
     "name": "stdout",
     "output_type": "stream",
     "text": [
      "========== bagging ==========\n",
      "Acc : 77.07%\n",
      "Std : 4.22%\n"
     ]
    }
   ],
   "source": [
    "# 결과가 저장될 리스트\n",
    "model_accuracy = []\n",
    "model_means = []\n",
    "model_names = []\n",
    "\n",
    "# 각 분류기 실행 >> 결과 저장\n",
    "classifier_data = zip(classifiers_name, classifiers)\n",
    "\n",
    "for name, classifier in classifier_data:\n",
    "    # 계층별 교차 검증\n",
    "    kfold = StratifiedKFold(n_splits=10, shuffle=True)\n",
    "    # 교차 검증을 통한 정확도 계산\n",
    "    accuracy = cross_val_score(estimator=classifier, X=X_train, y=y_train, cv=kfold)\n",
    "    # 정확도 & 표준편차 확인하기\n",
    "    print('='*10, name, '='*10)\n",
    "    print('Acc : {:.2f}%'.format(accuracy.mean() * 100))\n",
    "    print('Std : {:.2f}%'.format(accuracy.std() * 100))\n",
    "    # 결과 저장\n",
    "    model_accuracy.append(accuracy)\n",
    "    model_means.append(accuracy.mean()*100)\n",
    "    model_names.append(name)"
   ]
  },
  {
   "cell_type": "code",
   "execution_count": 22,
   "id": "ab3d9d6e-382f-43c1-9567-d4bd6efd3437",
   "metadata": {},
   "outputs": [
    {
     "data": {
      "image/png": "[encoded data removed]",
      "text/plain": [
       "<Figure size 1000x600 with 1 Axes>"
      ]
     },
     "metadata": {},
     "output_type": "display_data"
    }
   ],
   "source": [
    "# 각 분류기별 정확도 평균 값을 막대 그래프로 출력하기\n",
    "plt.figure(figsize=(10, 6))\n",
    "plt.ylim([60, 80])\n",
    "plt.bar(model_names, model_means)\n",
    "plt.show()"
   ]
  },
  {
   "cell_type": "code",
   "execution_count": 23,
   "id": "1d3b01bb-e4c8-413f-b9a9-e3b191bfbeb7",
   "metadata": {},
   "outputs": [
    {
     "data": {
      "image/png": "[encoded data removed]",
      "text/plain": [
       "<Figure size 1000x600 with 1 Axes>"
      ]
     },
     "metadata": {},
     "output_type": "display_data"
    }
   ],
   "source": [
    "# 각 분류기별 결과값을 boxplot로 출력하기\n",
    "fig = plt.figure(figsize=(10, 6))\n",
    "ax = fig.add_subplot(111)\n",
    "ax.boxplot(model_accuracy)\n",
    "ax.set_xticklabels(model_names)\n",
    "plt.show()"
   ]
  },
  {
   "cell_type": "code",
   "execution_count": null,
   "id": "8ee7fd44-a0e6-421f-acfd-5db449d0e92e",
   "metadata": {},
   "outputs": [],
   "source": []
  },
  {
   "cell_type": "code",
   "execution_count": null,
   "id": "3b812dc9-0fe1-40aa-afc8-adbdf638d554",
   "metadata": {},
   "outputs": [],
   "source": []
  },
  {
   "cell_type": "code",
   "execution_count": null,
   "id": "4558b6ea-8421-45ff-9d0e-312ff8591f8d",
   "metadata": {},
   "outputs": [],
   "source": []
  },
  {
   "cell_type": "code",
   "execution_count": null,
   "id": "e03dcc83-fbff-4180-af42-0297cd3bd703",
   "metadata": {},
   "outputs": [],
   "source": []
  },
  {
   "cell_type": "code",
   "execution_count": null,
   "id": "4b27a205-169d-46a0-b38c-691bbe852be2",
   "metadata": {},
   "outputs": [],
   "source": []
  }
 ],
 "metadata": {
  "kernelspec": {
   "display_name": "Python 3 (ipykernel)",
   "language": "python",
   "name": "python3"
  },
  "language_info": {
   "codemirror_mode": {
    "name": "ipython",
    "version": 3
   },
   "file_extension": ".py",
   "mimetype": "text/x-python",
   "name": "python",
   "nbconvert_exporter": "python",
   "pygments_lexer": "ipython3",
   "version": "3.11.7"
  }
 },
 "nbformat": 4,
 "nbformat_minor": 5
}
