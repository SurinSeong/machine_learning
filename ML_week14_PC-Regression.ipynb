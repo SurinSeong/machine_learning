{
 "cells": [
  {
   "cell_type": "code",
   "execution_count": 1,
   "id": "17ed7a3a-8460-4ce1-9804-5b656e0c9d91",
   "metadata": {},
   "outputs": [],
   "source": [
    "import numpy as np\n",
    "import pandas as pd\n",
    "import matplotlib.pyplot as plt\n",
    "\n",
    "from sklearn.decomposition import PCA\n",
    "\n",
    "from sklearn import datasets, linear_model\n",
    "\n",
    "from sklearn.metrics import mean_squared_error, r2_score"
   ]
  },
  {
   "cell_type": "code",
   "execution_count": 2,
   "id": "84f41e4c-c0d7-427f-9282-bb4298b7b111",
   "metadata": {},
   "outputs": [
    {
     "name": "stdout",
     "output_type": "stream",
     "text": [
      "(200, 4)\n"
     ]
    },
    {
     "data": {
      "text/html": [
       "<div>\n",
       "<style scoped>\n",
       "    .dataframe tbody tr th:only-of-type {\n",
       "        vertical-align: middle;\n",
       "    }\n",
       "\n",
       "    .dataframe tbody tr th {\n",
       "        vertical-align: top;\n",
       "    }\n",
       "\n",
       "    .dataframe thead th {\n",
       "        text-align: right;\n",
       "    }\n",
       "</style>\n",
       "<table border=\"1\" class=\"dataframe\">\n",
       "  <thead>\n",
       "    <tr style=\"text-align: right;\">\n",
       "      <th></th>\n",
       "      <th>TV</th>\n",
       "      <th>Radio</th>\n",
       "      <th>Newspaper</th>\n",
       "      <th>Sales</th>\n",
       "    </tr>\n",
       "  </thead>\n",
       "  <tbody>\n",
       "    <tr>\n",
       "      <th>1</th>\n",
       "      <td>230.1</td>\n",
       "      <td>37.8</td>\n",
       "      <td>69.2</td>\n",
       "      <td>22.1</td>\n",
       "    </tr>\n",
       "    <tr>\n",
       "      <th>2</th>\n",
       "      <td>44.5</td>\n",
       "      <td>39.3</td>\n",
       "      <td>45.1</td>\n",
       "      <td>10.4</td>\n",
       "    </tr>\n",
       "  </tbody>\n",
       "</table>\n",
       "</div>"
      ],
      "text/plain": [
       "      TV  Radio  Newspaper  Sales\n",
       "1  230.1   37.8       69.2   22.1\n",
       "2   44.5   39.3       45.1   10.4"
      ]
     },
     "execution_count": 2,
     "metadata": {},
     "output_type": "execute_result"
    }
   ],
   "source": [
    "path = '../datasets/ML_data/'\n",
    "\n",
    "raw = pd.read_csv(path+'Advertising.csv', index_col=0)\n",
    "ad = raw.copy()\n",
    "print(ad.shape)\n",
    "ad.head(2)"
   ]
  },
  {
   "cell_type": "markdown",
   "id": "0a2a06a4-f948-4c02-a801-0cc0c1f48abb",
   "metadata": {},
   "source": [
    "# PC-Regression 모델 적용하기"
   ]
  },
  {
   "cell_type": "code",
   "execution_count": 4,
   "id": "a7de8f35-be79-4ae2-9b76-bcd6f27b1949",
   "metadata": {},
   "outputs": [
    {
     "name": "stdout",
     "output_type": "stream",
     "text": [
      "(200, 3) (200, 1)\n"
     ]
    }
   ],
   "source": [
    "# 데이터 준비\n",
    "# X, y의 차원(타입)을 맞춰주는 것이 좋음\n",
    "X = ad.iloc[:, :-1]\n",
    "y = ad[['Sales']]\n",
    "\n",
    "print(X.shape, y.shape)"
   ]
  },
  {
   "cell_type": "code",
   "execution_count": 6,
   "id": "d6fb34d5-c851-45d0-a5aa-110379f646b9",
   "metadata": {},
   "outputs": [
    {
     "name": "stdout",
     "output_type": "stream",
     "text": [
      "[0.91415577 0.06398422]\n"
     ]
    }
   ],
   "source": [
    "# 주성분 분석 수행하기\n",
    "pca = PCA(n_components=2)\n",
    "\n",
    "# fitting\n",
    "pca.fit(X)\n",
    "\n",
    "# 주성분 비율 확인\n",
    "print(pca.explained_variance_ratio_) # 2개변수 : 97.7%\n",
    "\n",
    "# pc score\n",
    "# 근데 왜 또 fit_transform..?\n",
    "z = pca.fit_transform(X)"
   ]
  },
  {
   "cell_type": "code",
   "execution_count": 7,
   "id": "8146a39d-bac6-441b-a17c-a79d7ceeda0b",
   "metadata": {},
   "outputs": [],
   "source": [
    "# PCA힌 후 scaled 값 활용하기\n",
    "# 데이터 준비\n",
    "# 훈련용 데이터, 테스트 데이터 구분\n",
    "from sklearn.model_selection import train_test_split\n",
    "\n",
    "z_train, z_test, y_train, y_test = \\\n",
    "train_test_split(z, y, test_size=0.2, random_state=42)"
   ]
  },
  {
   "cell_type": "code",
   "execution_count": 8,
   "id": "8ed1e825-e275-447e-a8b2-47168c79ed26",
   "metadata": {},
   "outputs": [
    {
     "data": {
      "text/plain": [
       "((160, 2), (40, 2), (160, 1), (40, 1))"
      ]
     },
     "execution_count": 8,
     "metadata": {},
     "output_type": "execute_result"
    }
   ],
   "source": [
    "z_train.shape, z_test.shape, y_train.shape, y_test.shape"
   ]
  },
  {
   "cell_type": "code",
   "execution_count": 9,
   "id": "11d79c89-e5a9-45d7-81c5-c8ff69e75d55",
   "metadata": {},
   "outputs": [],
   "source": [
    "# 선형회귀 모델 생성\n",
    "model = linear_model.LinearRegression()\n",
    "\n",
    "# 학습\n",
    "model.fit(z_train, y_train)\n",
    "\n",
    "# train 예측\n",
    "z_train_pred = model.predict(z_train)\n",
    "\n",
    "# test 예측\n",
    "z_test_pred = model.predict(z_test)"
   ]
  },
  {
   "cell_type": "code",
   "execution_count": 10,
   "id": "7522e243-6219-452d-ab19-3a2eef21d243",
   "metadata": {},
   "outputs": [
    {
     "data": {
      "text/plain": [
       "(array([[11.60873346],\n",
       "        [13.23498023],\n",
       "        [ 9.67257788],\n",
       "        [ 8.9286559 ],\n",
       "        [15.87267065]]),\n",
       "      Sales\n",
       " 80    11.0\n",
       " 198   12.8\n",
       " 39    10.1\n",
       " 25     9.7\n",
       " 123   11.6)"
      ]
     },
     "execution_count": 10,
     "metadata": {},
     "output_type": "execute_result"
    }
   ],
   "source": [
    "# 예측값과 원래 결과 비교하기\n",
    "z_train_pred[:5], y_train[:5]"
   ]
  },
  {
   "cell_type": "code",
   "execution_count": 12,
   "id": "4fa296f2-9208-4917-b310-ef33a9911df6",
   "metadata": {},
   "outputs": [
    {
     "data": {
      "text/plain": [
       "(array([[16.6347724 ],\n",
       "        [18.56325639],\n",
       "        [21.78653861],\n",
       "        [ 9.25608939],\n",
       "        [16.1090779 ]]),\n",
       "      Sales\n",
       " 96    16.9\n",
       " 16    22.4\n",
       " 31    21.4\n",
       " 159    7.3\n",
       " 129   24.7)"
      ]
     },
     "execution_count": 12,
     "metadata": {},
     "output_type": "execute_result"
    }
   ],
   "source": [
    "z_test_pred[:5], y_test[:5]"
   ]
  },
  {
   "cell_type": "code",
   "execution_count": 15,
   "id": "ea80bdd5-d15b-4e6f-80ac-5875183a0bfe",
   "metadata": {},
   "outputs": [
    {
     "name": "stdout",
     "output_type": "stream",
     "text": [
      "coef : [[0.04735184 0.07753322]]\n",
      "train MSE : 7.746\n",
      "test MSE : 10.56\n",
      "train R2 score : 0.701\n",
      "test R2 score : 0.665\n"
     ]
    }
   ],
   "source": [
    "# coefficients\n",
    "print('coef :', model.coef_) # [pc1, pc2]\n",
    "# train / test MSE\n",
    "print('train MSE :', round(mean_squared_error(y_train, z_train_pred), 3))\n",
    "print('test MSE :', round(mean_squared_error(y_test, z_test_pred), 3))\n",
    "# 결정계수\n",
    "print('train R2 score :', round(r2_score(y_train, z_train_pred), 3))\n",
    "print('test R2 score :', round(r2_score(y_test, z_test_pred), 3))"
   ]
  },
  {
   "cell_type": "code",
   "execution_count": null,
   "id": "f9098592-bd2e-45bd-9b72-fbdf83537a4a",
   "metadata": {},
   "outputs": [],
   "source": []
  }
 ],
 "metadata": {
  "kernelspec": {
   "display_name": "Python 3 (ipykernel)",
   "language": "python",
   "name": "python3"
  },
  "language_info": {
   "codemirror_mode": {
    "name": "ipython",
    "version": 3
   },
   "file_extension": ".py",
   "mimetype": "text/x-python",
   "name": "python",
   "nbconvert_exporter": "python",
   "pygments_lexer": "ipython3",
   "version": "3.11.7"
  }
 },
 "nbformat": 4,
 "nbformat_minor": 5
}
