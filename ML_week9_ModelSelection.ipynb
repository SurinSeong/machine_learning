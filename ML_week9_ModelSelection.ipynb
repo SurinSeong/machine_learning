{
 "cells": [
  {
   "cell_type": "code",
   "execution_count": 1,
   "id": "3e5cb98c-7836-4777-a1d2-d887dafd90c2",
   "metadata": {},
   "outputs": [],
   "source": [
    "import numpy as np\n",
    "import pandas as pd\n",
    "\n",
    "from sklearn import linear_model\n",
    "from sklearn.metrics import mean_squared_error\n",
    "\n",
    "from sklearn.model_selection import KFold"
   ]
  },
  {
   "cell_type": "code",
   "execution_count": 2,
   "id": "3ec1569b-801c-43f4-bd09-765df268c487",
   "metadata": {},
   "outputs": [
    {
     "data": {
      "text/plain": [
       "array([0.51395349])"
      ]
     },
     "execution_count": 2,
     "metadata": {},
     "output_type": "execute_result"
    }
   ],
   "source": [
    "# Ridge regression\n",
    "model = linear_model.Ridge(alpha=0.1) # alpha : tuning parameter (lambda 상수), 값을 바꾸면 결과가 달라짐.\n",
    "\n",
    "# 훈련하기\n",
    "model.fit([[0, 0], [0, 0], [1, 1]], [0, 0.1, 1])\n",
    "\n",
    "# 예측하기\n",
    "pred = model.predict([[0, 1]])\n",
    "pred"
   ]
  },
  {
   "cell_type": "code",
   "execution_count": 3,
   "id": "05e65fda-59a3-4f5f-b184-0aeffe2cb9f3",
   "metadata": {},
   "outputs": [
    {
     "name": "stdout",
     "output_type": "stream",
     "text": [
      "coefficient : [0.44186047 0.44186047]\n"
     ]
    }
   ],
   "source": [
    "print('coefficient :', model.coef_)"
   ]
  },
  {
   "cell_type": "code",
   "execution_count": 4,
   "id": "91ae6180-4048-43b6-9811-cd7e07d10e1c",
   "metadata": {},
   "outputs": [
    {
     "data": {
      "text/plain": [
       "array([0.2])"
      ]
     },
     "execution_count": 4,
     "metadata": {},
     "output_type": "execute_result"
    }
   ],
   "source": [
    "# Lasso regression\n",
    "model = linear_model.Lasso(alpha=0.1) # alpha : tuning parameter (lambda 상수), 값을 바꾸면 결과가 달라짐.\n",
    "\n",
    "# 훈련하기\n",
    "model.fit([[0, 0], [0, 0], [1, 1]], [0, 0.1, 1])\n",
    "\n",
    "# 예측하기\n",
    "pred = model.predict([[0, 1]])\n",
    "pred"
   ]
  },
  {
   "cell_type": "code",
   "execution_count": 5,
   "id": "908260c3-d2e4-4e43-9f28-53bec2a51146",
   "metadata": {},
   "outputs": [
    {
     "name": "stdout",
     "output_type": "stream",
     "text": [
      "coefficient : [0.5 0. ]\n"
     ]
    }
   ],
   "source": [
    "print('coefficient :', model.coef_)"
   ]
  },
  {
   "cell_type": "markdown",
   "id": "b6fa9f2a-0c23-41b9-a42b-7fa20dcfd50f",
   "metadata": {},
   "source": [
    "* 실데이터"
   ]
  },
  {
   "cell_type": "code",
   "execution_count": 8,
   "id": "65152b07-6011-40ef-9654-c3fdf4f87027",
   "metadata": {},
   "outputs": [
    {
     "name": "stdout",
     "output_type": "stream",
     "text": [
      "(200, 4)\n"
     ]
    },
    {
     "data": {
      "text/html": [
       "<div>\n",
       "<style scoped>\n",
       "    .dataframe tbody tr th:only-of-type {\n",
       "        vertical-align: middle;\n",
       "    }\n",
       "\n",
       "    .dataframe tbody tr th {\n",
       "        vertical-align: top;\n",
       "    }\n",
       "\n",
       "    .dataframe thead th {\n",
       "        text-align: right;\n",
       "    }\n",
       "</style>\n",
       "<table border=\"1\" class=\"dataframe\">\n",
       "  <thead>\n",
       "    <tr style=\"text-align: right;\">\n",
       "      <th></th>\n",
       "      <th>TV</th>\n",
       "      <th>Radio</th>\n",
       "      <th>Newspaper</th>\n",
       "      <th>Sales</th>\n",
       "    </tr>\n",
       "  </thead>\n",
       "  <tbody>\n",
       "    <tr>\n",
       "      <th>1</th>\n",
       "      <td>230.1</td>\n",
       "      <td>37.8</td>\n",
       "      <td>69.2</td>\n",
       "      <td>22.1</td>\n",
       "    </tr>\n",
       "    <tr>\n",
       "      <th>2</th>\n",
       "      <td>44.5</td>\n",
       "      <td>39.3</td>\n",
       "      <td>45.1</td>\n",
       "      <td>10.4</td>\n",
       "    </tr>\n",
       "  </tbody>\n",
       "</table>\n",
       "</div>"
      ],
      "text/plain": [
       "      TV  Radio  Newspaper  Sales\n",
       "1  230.1   37.8       69.2   22.1\n",
       "2   44.5   39.3       45.1   10.4"
      ]
     },
     "execution_count": 8,
     "metadata": {},
     "output_type": "execute_result"
    }
   ],
   "source": [
    "path = '../datasets/ML_data/'\n",
    "\n",
    "raw = pd.read_csv(path+'Advertising.csv', index_col=0)\n",
    "ad = raw.copy()\n",
    "print(ad.shape)\n",
    "ad.head(2)"
   ]
  },
  {
   "cell_type": "code",
   "execution_count": 15,
   "id": "60058efc-0170-4291-869b-e82ae4c31915",
   "metadata": {
    "scrolled": true
   },
   "outputs": [
    {
     "name": "stdout",
     "output_type": "stream",
     "text": [
      "Lambda : 0.001\n",
      "========== Fold # 1 ==========\n",
      "coefficients : [0.04585753 0.18790125 0.00361145]\n",
      "----------------------------------------------------------------------------------------------------\n",
      "========== Fold # 2 ==========\n",
      "coefficients : [0.04513111 0.1879391  0.00140999]\n",
      "----------------------------------------------------------------------------------------------------\n",
      "========== Fold # 3 ==========\n",
      "coefficients : [ 0.04698029  0.18872464 -0.00235756]\n",
      "----------------------------------------------------------------------------------------------------\n",
      "========== Fold # 4 ==========\n",
      "coefficients : [ 0.04315907  0.20013028 -0.00758214]\n",
      "----------------------------------------------------------------------------------------------------\n",
      "========== Fold # 5 ==========\n",
      "coefficients : [ 0.047252    0.17991513 -0.00094029]\n",
      "----------------------------------------------------------------------------------------------------\n",
      "Average Validation MSE : 0.558\n",
      "====================================================================================================\n",
      "\n",
      "Lambda : 1\n",
      "========== Fold # 1 ==========\n",
      "coefficients : [0.04582866 0.18396308 0.00216856]\n",
      "----------------------------------------------------------------------------------------------------\n",
      "========== Fold # 2 ==========\n",
      "coefficients : [0.04501995 0.1840591  0.00038057]\n",
      "----------------------------------------------------------------------------------------------------\n",
      "========== Fold # 3 ==========\n",
      "coefficients : [ 0.04686138  0.18301965 -0.        ]\n",
      "----------------------------------------------------------------------------------------------------\n",
      "========== Fold # 4 ==========\n",
      "coefficients : [ 0.04313154  0.19314056 -0.0035882 ]\n",
      "----------------------------------------------------------------------------------------------------\n",
      "========== Fold # 5 ==========\n",
      "coefficients : [0.04715708 0.17475785 0.        ]\n",
      "----------------------------------------------------------------------------------------------------\n",
      "Average Validation MSE : 0.575\n",
      "====================================================================================================\n",
      "\n",
      "Lambda : 1000\n",
      "========== Fold # 1 ==========\n",
      "coefficients : [0. 0. 0.]\n",
      "----------------------------------------------------------------------------------------------------\n",
      "========== Fold # 2 ==========\n",
      "coefficients : [0. 0. 0.]\n",
      "----------------------------------------------------------------------------------------------------\n",
      "========== Fold # 3 ==========\n",
      "coefficients : [0. 0. 0.]\n",
      "----------------------------------------------------------------------------------------------------\n",
      "========== Fold # 4 ==========\n",
      "coefficients : [0. 0. 0.]\n",
      "----------------------------------------------------------------------------------------------------\n",
      "========== Fold # 5 ==========\n",
      "coefficients : [0. 0. 0.]\n",
      "----------------------------------------------------------------------------------------------------\n",
      "Average Validation MSE : 5.35\n",
      "====================================================================================================\n",
      "\n"
     ]
    }
   ],
   "source": [
    "# ad 데이터에 Lasso 적용하기 --> 최적의 lambda 선정\n",
    "n_fold = 5\n",
    "\n",
    "for t_param in (0.001, 1, 1000):\n",
    "    print('Lambda :', t_param)\n",
    "\n",
    "    # 모델 생성\n",
    "    kfold = KFold(n_splits=n_fold)\n",
    "    idx = 1\n",
    "    \n",
    "    sum_val_mse = 0\n",
    "    for train, val in kfold.split(ad):\n",
    "        print('='*10, 'Fold #', idx, '='*10)\n",
    "    \n",
    "        # train data의 feature, label\n",
    "        X_train = ad.iloc[train][['TV', 'Radio', 'Newspaper']]\n",
    "        y_train = ad.iloc[train][['Sales']]\n",
    "\n",
    "        # validation data의 feature, label\n",
    "        X_val = ad.iloc[val][['TV', 'Radio', 'Newspaper']]\n",
    "        y_val = ad.iloc[val][['Sales']]\n",
    "\n",
    "        # Lasso 적용하기\n",
    "        model = linear_model.Lasso(alpha=t_param)\n",
    "\n",
    "        # 훈련\n",
    "        model.fit(X_train, y_train)\n",
    "\n",
    "        # coefficient\n",
    "        print('coefficients :', model.coef_)\n",
    "\n",
    "        # validation set 예측\n",
    "        y_val_pred = model.predict(X_val)\n",
    "\n",
    "        # validation MSE\n",
    "        val_MSE = mean_squared_error(y_val, y_val_pred)\n",
    "        sum_val_mse = val_MSE\n",
    "\n",
    "        print('-'*100)\n",
    "        idx += 1\n",
    "\n",
    "    print('Average Validation MSE :', round(sum_val_mse/n_fold, 3))\n",
    "    print('='*100)\n",
    "    print()"
   ]
  },
  {
   "cell_type": "code",
   "execution_count": null,
   "id": "d44357a1-7e21-45e5-b746-41007d3f112e",
   "metadata": {},
   "outputs": [],
   "source": []
  }
 ],
 "metadata": {
  "kernelspec": {
   "display_name": "Python 3 (ipykernel)",
   "language": "python",
   "name": "python3"
  },
  "language_info": {
   "codemirror_mode": {
    "name": "ipython",
    "version": 3
   },
   "file_extension": ".py",
   "mimetype": "text/x-python",
   "name": "python",
   "nbconvert_exporter": "python",
   "pygments_lexer": "ipython3",
   "version": "3.11.7"
  }
 },
 "nbformat": 4,
 "nbformat_minor": 5
}
