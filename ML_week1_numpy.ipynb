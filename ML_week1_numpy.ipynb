{
 "cells": [
  {
   "cell_type": "code",
   "execution_count": 1,
   "id": "e8cdd489-3597-46e1-a477-80e5d6c42e2b",
   "metadata": {},
   "outputs": [],
   "source": [
    "import numpy as np"
   ]
  },
  {
   "cell_type": "code",
   "execution_count": 2,
   "id": "d5e0497e-d177-4f53-9437-8402fc60e5fc",
   "metadata": {},
   "outputs": [
    {
     "data": {
      "text/plain": [
       "array([1, 2, 3, 4, 5, 6])"
      ]
     },
     "execution_count": 2,
     "metadata": {},
     "output_type": "execute_result"
    }
   ],
   "source": [
    "# 1차원\n",
    "a = np.array([1, 2, 3, 4, 5, 6])\n",
    "a"
   ]
  },
  {
   "cell_type": "code",
   "execution_count": 7,
   "id": "7d618f8a-b7de-44d5-a36b-18a6f8cf55d8",
   "metadata": {},
   "outputs": [
    {
     "name": "stdout",
     "output_type": "stream",
     "text": [
      "[3 4]\n",
      "2\n",
      "[[3 4]\n",
      " [5 6]]\n",
      "[1 3]\n"
     ]
    },
    {
     "data": {
      "text/plain": [
       "array([[1, 2],\n",
       "       [3, 4],\n",
       "       [5, 6]])"
      ]
     },
     "execution_count": 7,
     "metadata": {},
     "output_type": "execute_result"
    }
   ],
   "source": [
    "# 2차원\n",
    "data = np.array([[1, 2], [3, 4], [5, 6]])\n",
    "print(data[1])\n",
    "print(data[0, 1])\n",
    "print(data[1:3])\n",
    "print(data[:2, 0])\n",
    "data"
   ]
  },
  {
   "cell_type": "code",
   "execution_count": 8,
   "id": "d5c13b0e-cf21-44e3-bedb-7d1c4d733e10",
   "metadata": {},
   "outputs": [
    {
     "data": {
      "text/plain": [
       "array([[0., 0., 0.],\n",
       "       [0., 0., 0.]])"
      ]
     },
     "execution_count": 8,
     "metadata": {},
     "output_type": "execute_result"
    }
   ],
   "source": [
    "# 0으로 채워진 array\n",
    "np.zeros([2, 3])"
   ]
  },
  {
   "cell_type": "code",
   "execution_count": 11,
   "id": "a49ffe77-7b9f-4c79-a3ef-58c69001f53c",
   "metadata": {},
   "outputs": [
    {
     "name": "stdout",
     "output_type": "stream",
     "text": [
      "3\n",
      "24\n",
      "(3, 2, 4)\n"
     ]
    }
   ],
   "source": [
    "# 배열의 차원, 크기, 모양\n",
    "array_example = np.array([[[0, 1, 2, 3],\n",
    "                           [4, 5, 6, 7]],\n",
    "                          [[0, 1, 2, 3],\n",
    "                           [4, 5, 6, 7]],\n",
    "                          [[0 ,1 ,2, 3],\n",
    "                           [4, 5, 6, 7]]])\n",
    "# 차원 확인하기\n",
    "print(array_example.ndim)\n",
    "# 크기 (= 개수)\n",
    "print(array_example.size)\n",
    "# 모양 (shape)\n",
    "print(array_example.shape)"
   ]
  },
  {
   "cell_type": "code",
   "execution_count": 14,
   "id": "94c8e043-635c-42a5-8ac2-417b2efc0e7a",
   "metadata": {},
   "outputs": [
    {
     "name": "stdout",
     "output_type": "stream",
     "text": [
      "[[1 2 3]\n",
      " [4 5 6]]\n",
      "[[1 2]\n",
      " [3 4]\n",
      " [5 6]]\n"
     ]
    },
    {
     "data": {
      "text/plain": [
       "array([[1, 3, 5],\n",
       "       [2, 4, 6]])"
      ]
     },
     "execution_count": 14,
     "metadata": {},
     "output_type": "execute_result"
    }
   ],
   "source": [
    "# array 모양 바꾸기\n",
    "# 1차원 배열\n",
    "a\n",
    "\n",
    "# 2차원 (reshape)\n",
    "print(a.reshape(2, 3))\n",
    "print(a.reshape(3, 2))\n",
    "\n",
    "# transpose : 전치 (행과 열을 바꿔줌)\n",
    "a.reshape(3, 2).T"
   ]
  },
  {
   "cell_type": "code",
   "execution_count": 16,
   "id": "aff8f23a-a6a3-4719-9598-7a2df53528dc",
   "metadata": {},
   "outputs": [
    {
     "data": {
      "text/plain": [
       "array([[2, 3],\n",
       "       [4, 5],\n",
       "       [6, 7]])"
      ]
     },
     "execution_count": 16,
     "metadata": {},
     "output_type": "execute_result"
    }
   ],
   "source": [
    "# 기본 연산\n",
    "ones_row = np.array([[1, 1]])\n",
    "\n",
    "# 더하기\n",
    "data + ones_row"
   ]
  },
  {
   "cell_type": "code",
   "execution_count": 17,
   "id": "ec999253-6e15-451f-9c51-dc54eb964401",
   "metadata": {},
   "outputs": [
    {
     "name": "stdout",
     "output_type": "stream",
     "text": [
      "6 1\n",
      "21\n"
     ]
    }
   ],
   "source": [
    "# 최댓값, 최솟값, \n",
    "print(data.max(), data.min())\n",
    "\n",
    "# 합\n",
    "print(data.sum())"
   ]
  },
  {
   "cell_type": "code",
   "execution_count": 18,
   "id": "8cf28e3b-310d-4855-8f31-b9c3e077ab70",
   "metadata": {},
   "outputs": [],
   "source": [
    "# 데이터 경로 설정\n",
    "path = '../datasets/ML_data/'"
   ]
  },
  {
   "cell_type": "code",
   "execution_count": 19,
   "id": "600f1957-4db2-4ef1-aeff-b2a552f90195",
   "metadata": {},
   "outputs": [],
   "source": [
    "# 저장할 데이터 생성\n",
    "csv_arr = np.array([[1, 2, 3, 4], [5, 6, 7, 8]])\n",
    "\n",
    "# 저장하기\n",
    "np.savetxt(path+'new_file.csv', csv_arr)"
   ]
  },
  {
   "cell_type": "code",
   "execution_count": 20,
   "id": "fe35869f-c449-4350-b213-4a84619ae170",
   "metadata": {},
   "outputs": [
    {
     "data": {
      "text/plain": [
       "array([[1., 2., 3., 4.],\n",
       "       [5., 6., 7., 8.]])"
      ]
     },
     "execution_count": 20,
     "metadata": {},
     "output_type": "execute_result"
    }
   ],
   "source": [
    "# 저장된 데이터 불러오기\n",
    "np.loadtxt(path+'new_file.csv')"
   ]
  },
  {
   "cell_type": "code",
   "execution_count": null,
   "id": "6b504c74-4900-4448-831d-1e5a1e58f436",
   "metadata": {},
   "outputs": [],
   "source": []
  }
 ],
 "metadata": {
  "kernelspec": {
   "display_name": "Python 3 (ipykernel)",
   "language": "python",
   "name": "python3"
  },
  "language_info": {
   "codemirror_mode": {
    "name": "ipython",
    "version": 3
   },
   "file_extension": ".py",
   "mimetype": "text/x-python",
   "name": "python",
   "nbconvert_exporter": "python",
   "pygments_lexer": "ipython3",
   "version": "3.11.7"
  }
 },
 "nbformat": 4,
 "nbformat_minor": 5
}
