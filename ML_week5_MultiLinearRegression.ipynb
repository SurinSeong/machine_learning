{
 "cells": [
  {
   "cell_type": "markdown",
   "id": "e738385c-3e9a-4fac-b0a6-0e694c8e0c56",
   "metadata": {},
   "source": [
    "# 다중 선형회귀 분석"
   ]
  },
  {
   "cell_type": "code",
   "execution_count": 2,
   "id": "974eb750-ed6c-4912-9931-6229d77a8f7f",
   "metadata": {},
   "outputs": [],
   "source": [
    "import numpy as np\n",
    "import pandas as pd\n",
    "import matplotlib.pyplot as plt\n",
    "import seaborn as sns\n",
    "%matplotlib inline\n",
    "\n",
    "from matplotlib import font_manager, rc, cm\n",
    "import matplotlib as mpl\n",
    "\n",
    "# 마이너스 깨짐 현상 해결\n",
    "mpl.rcParams['axes.unicode_minus'] = False\n",
    "plt.rcParams['font.family'] = 'NanumGothic'\n",
    "\n",
    "# 선형회귀 관련 라이브러리 가져오기\n",
    "from sklearn import datasets, linear_model\n",
    "from sklearn.metrics import mean_squared_error, r2_score\n",
    "\n",
    "import statsmodels.api as sm"
   ]
  },
  {
   "cell_type": "markdown",
   "id": "949e55a5-fd76-4508-b4e6-5f6d3782611d",
   "metadata": {},
   "source": [
    "* 간단한 예제"
   ]
  },
  {
   "cell_type": "code",
   "execution_count": 4,
   "id": "79991747-9259-4bd0-8a69-09ea8608471c",
   "metadata": {},
   "outputs": [],
   "source": [
    "# 데이터 설정\n",
    "X = np.array([[0, 1], [1, 2], [2, 2.5]])\n",
    "y = np.array([0, 1.2, 1.6])\n",
    "\n",
    "# 선형회귀 object 생성\n",
    "model = linear_model.LinearRegression()\n",
    "\n",
    "# 훈련\n",
    "model.fit(X, y)\n",
    "\n",
    "# training data 예측\n",
    "pred_train = model.predict(X)\n",
    "\n",
    "# test\n",
    "pred_test = model.predict([[1.5, 2]])"
   ]
  },
  {
   "cell_type": "code",
   "execution_count": 5,
   "id": "92173150-817a-4092-8cd3-b6b182a47de4",
   "metadata": {},
   "outputs": [
    {
     "data": {
      "text/plain": [
       "array([1.])"
      ]
     },
     "execution_count": 5,
     "metadata": {},
     "output_type": "execute_result"
    }
   ],
   "source": [
    "pred_test"
   ]
  },
  {
   "cell_type": "code",
   "execution_count": 6,
   "id": "82d79220-6c07-4b82-bb3b-22b891e5e80f",
   "metadata": {},
   "outputs": [
    {
     "data": {
      "text/plain": [
       "array([-0.4,  1.6])"
      ]
     },
     "execution_count": 6,
     "metadata": {},
     "output_type": "execute_result"
    }
   ],
   "source": [
    "model.coef_"
   ]
  },
  {
   "cell_type": "markdown",
   "id": "a2d25c7c-6f2e-43c5-aa7f-418fcdfd8d24",
   "metadata": {},
   "source": [
    "* 실데이터 분석하기"
   ]
  },
  {
   "cell_type": "markdown",
   "id": "c3effc60-c382-4e90-8a96-451285005acb",
   "metadata": {},
   "source": [
    "## 데이터 준비"
   ]
  },
  {
   "cell_type": "code",
   "execution_count": 8,
   "id": "0f115cd1-3aa2-4dea-8a61-ba944f117ad4",
   "metadata": {},
   "outputs": [
    {
     "name": "stdout",
     "output_type": "stream",
     "text": [
      "(200, 4)\n"
     ]
    },
    {
     "data": {
      "text/html": [
       "<div>\n",
       "<style scoped>\n",
       "    .dataframe tbody tr th:only-of-type {\n",
       "        vertical-align: middle;\n",
       "    }\n",
       "\n",
       "    .dataframe tbody tr th {\n",
       "        vertical-align: top;\n",
       "    }\n",
       "\n",
       "    .dataframe thead th {\n",
       "        text-align: right;\n",
       "    }\n",
       "</style>\n",
       "<table border=\"1\" class=\"dataframe\">\n",
       "  <thead>\n",
       "    <tr style=\"text-align: right;\">\n",
       "      <th></th>\n",
       "      <th>TV</th>\n",
       "      <th>Radio</th>\n",
       "      <th>Newspaper</th>\n",
       "      <th>Sales</th>\n",
       "    </tr>\n",
       "  </thead>\n",
       "  <tbody>\n",
       "    <tr>\n",
       "      <th>1</th>\n",
       "      <td>230.1</td>\n",
       "      <td>37.8</td>\n",
       "      <td>69.2</td>\n",
       "      <td>22.1</td>\n",
       "    </tr>\n",
       "    <tr>\n",
       "      <th>2</th>\n",
       "      <td>44.5</td>\n",
       "      <td>39.3</td>\n",
       "      <td>45.1</td>\n",
       "      <td>10.4</td>\n",
       "    </tr>\n",
       "  </tbody>\n",
       "</table>\n",
       "</div>"
      ],
      "text/plain": [
       "      TV  Radio  Newspaper  Sales\n",
       "1  230.1   37.8       69.2   22.1\n",
       "2   44.5   39.3       45.1   10.4"
      ]
     },
     "execution_count": 8,
     "metadata": {},
     "output_type": "execute_result"
    }
   ],
   "source": [
    "raw = pd.read_csv('../datasets/ML_data/Advertising.csv', index_col=0)\n",
    "ads = raw.copy()\n",
    "print(ads.shape)\n",
    "ads.head(2)"
   ]
  },
  {
   "cell_type": "code",
   "execution_count": 9,
   "id": "be46ae64-beea-4bfd-a42b-62dbaa594ee9",
   "metadata": {},
   "outputs": [
    {
     "name": "stdout",
     "output_type": "stream",
     "text": [
      "<class 'pandas.core.frame.DataFrame'>\n",
      "Index: 200 entries, 1 to 200\n",
      "Data columns (total 4 columns):\n",
      " #   Column     Non-Null Count  Dtype  \n",
      "---  ------     --------------  -----  \n",
      " 0   TV         200 non-null    float64\n",
      " 1   Radio      200 non-null    float64\n",
      " 2   Newspaper  200 non-null    float64\n",
      " 3   Sales      200 non-null    float64\n",
      "dtypes: float64(4)\n",
      "memory usage: 7.8 KB\n"
     ]
    }
   ],
   "source": [
    "ads.info()"
   ]
  },
  {
   "cell_type": "markdown",
   "id": "89332d3b-ea6c-4b99-92a1-1898bf19d9d9",
   "metadata": {},
   "source": [
    "## 데이터 전처리"
   ]
  },
  {
   "cell_type": "code",
   "execution_count": 10,
   "id": "df3666ec-f974-4d32-93a7-0cf694746d75",
   "metadata": {},
   "outputs": [],
   "source": [
    "# train, test 분리하기\n",
    "train = ads[:-20]\n",
    "test = ads[-20:]\n",
    "\n",
    "# train data의 feature, label 분리하기\n",
    "X_train = train[['TV', 'Radio', 'Newspaper']]\n",
    "y_train = train[['Sales']]\n",
    "\n",
    "# test data의 feature, label 분리하기\n",
    "X_test = test[['TV', 'Radio', 'Newspaper']]\n",
    "y_test = test[['Sales']]"
   ]
  },
  {
   "cell_type": "markdown",
   "id": "e9e8512f-ab24-41b0-b6d3-0a26e521ff3e",
   "metadata": {},
   "source": [
    "## 데이터 모델링"
   ]
  },
  {
   "cell_type": "markdown",
   "id": "a8eefd43-c022-4487-bfe8-e24fafb5a286",
   "metadata": {},
   "source": [
    "* 선형 회귀 모델 이용"
   ]
  },
  {
   "cell_type": "code",
   "execution_count": 11,
   "id": "1d84deb7-0e24-4192-bee8-a6949efff28f",
   "metadata": {},
   "outputs": [],
   "source": [
    "# 선형회귀 객체 만들기\n",
    "model = linear_model.LinearRegression()\n",
    "\n",
    "# train data로 학습시키기\n",
    "model.fit(X_train, y_train)\n",
    "\n",
    "# train data로 예측하기 (--> 실무용 ! : 모델의 적합도, 과적합 여부 판단을 위함.)\n",
    "y_train_pred = model.predict(X_train)\n",
    "\n",
    "# test data로 예측하기\n",
    "y_test_pred = model.predict(X_test)"
   ]
  },
  {
   "cell_type": "code",
   "execution_count": 12,
   "id": "4cead79e-f8d9-4855-938a-fe67dfd9ad43",
   "metadata": {},
   "outputs": [
    {
     "data": {
      "text/plain": [
       "array([[ 0.04638909,  0.18867512, -0.0024597 ]])"
      ]
     },
     "execution_count": 12,
     "metadata": {},
     "output_type": "execute_result"
    }
   ],
   "source": [
    "# 기울기 확인하기\n",
    "model.coef_"
   ]
  },
  {
   "cell_type": "code",
   "execution_count": 13,
   "id": "1b688126-94f2-425b-a291-0da7fb5fe015",
   "metadata": {},
   "outputs": [
    {
     "name": "stdout",
     "output_type": "stream",
     "text": [
      "train MSE : 2.8274188814916763\n",
      "test MSE : 2.4528179307176847\n"
     ]
    }
   ],
   "source": [
    "# train MSE\n",
    "print('train MSE :', mean_squared_error(y_train, y_train_pred))\n",
    "\n",
    "# test MSE\n",
    "print('test MSE :', mean_squared_error(y_test, y_test_pred))"
   ]
  },
  {
   "cell_type": "code",
   "execution_count": 14,
   "id": "189f04d7-28d2-4fbb-9e6f-9e8ea7c927dd",
   "metadata": {},
   "outputs": [
    {
     "name": "stdout",
     "output_type": "stream",
     "text": [
      "train R^2 : 0.8923555807586848\n",
      "test R^2 : 0.9288231093749743\n"
     ]
    }
   ],
   "source": [
    "# R^2 확인 --> train보다 test의 점수가 더 높으면 과소적합 의심하기 --> 데이터의 개수를 늘려야한다.\n",
    "# train\n",
    "print('train R^2 :', r2_score(y_train, y_train_pred))\n",
    "\n",
    "# test\n",
    "print('test R^2 :', r2_score(y_test, y_test_pred))"
   ]
  },
  {
   "cell_type": "markdown",
   "id": "773a8f14-1001-461a-a877-7e8821d0ea6c",
   "metadata": {},
   "source": [
    "* statsmodel 이용\n",
    "    * 반드시 **x0** 추가 !!"
   ]
  },
  {
   "cell_type": "code",
   "execution_count": 15,
   "id": "0c04379a-ef14-40a0-a4e1-836a4123b791",
   "metadata": {},
   "outputs": [],
   "source": [
    "sm_X_train = X_train.copy()\n",
    "sm_X_test = X_test.copy()\n",
    "\n",
    "# x0 추가\n",
    "sm_X_train['x0'] = 1\n",
    "sm_X_test['x0'] = 1"
   ]
  },
  {
   "cell_type": "code",
   "execution_count": 16,
   "id": "c0393e3e-7aae-4d3b-adf5-3ac5aa1dbca1",
   "metadata": {
    "scrolled": true
   },
   "outputs": [
    {
     "data": {
      "text/html": [
       "<table class=\"simpletable\">\n",
       "<caption>OLS Regression Results</caption>\n",
       "<tr>\n",
       "  <th>Dep. Variable:</th>          <td>Sales</td>      <th>  R-squared:         </th> <td>   0.892</td>\n",
       "</tr>\n",
       "<tr>\n",
       "  <th>Model:</th>                   <td>OLS</td>       <th>  Adj. R-squared:    </th> <td>   0.891</td>\n",
       "</tr>\n",
       "<tr>\n",
       "  <th>Method:</th>             <td>Least Squares</td>  <th>  F-statistic:       </th> <td>   486.3</td>\n",
       "</tr>\n",
       "<tr>\n",
       "  <th>Date:</th>             <td>Mon, 17 Jun 2024</td> <th>  Prob (F-statistic):</th> <td>6.57e-85</td>\n",
       "</tr>\n",
       "<tr>\n",
       "  <th>Time:</th>                 <td>14:21:18</td>     <th>  Log-Likelihood:    </th> <td> -348.95</td>\n",
       "</tr>\n",
       "<tr>\n",
       "  <th>No. Observations:</th>      <td>   180</td>      <th>  AIC:               </th> <td>   705.9</td>\n",
       "</tr>\n",
       "<tr>\n",
       "  <th>Df Residuals:</th>          <td>   176</td>      <th>  BIC:               </th> <td>   718.7</td>\n",
       "</tr>\n",
       "<tr>\n",
       "  <th>Df Model:</th>              <td>     3</td>      <th>                     </th>     <td> </td>   \n",
       "</tr>\n",
       "<tr>\n",
       "  <th>Covariance Type:</th>      <td>nonrobust</td>    <th>                     </th>     <td> </td>   \n",
       "</tr>\n",
       "</table>\n",
       "<table class=\"simpletable\">\n",
       "<tr>\n",
       "      <td></td>         <th>coef</th>     <th>std err</th>      <th>t</th>      <th>P>|t|</th>  <th>[0.025</th>    <th>0.975]</th>  \n",
       "</tr>\n",
       "<tr>\n",
       "  <th>TV</th>        <td>    0.0464</td> <td>    0.001</td> <td>   31.154</td> <td> 0.000</td> <td>    0.043</td> <td>    0.049</td>\n",
       "</tr>\n",
       "<tr>\n",
       "  <th>Radio</th>     <td>    0.1887</td> <td>    0.009</td> <td>   20.347</td> <td> 0.000</td> <td>    0.170</td> <td>    0.207</td>\n",
       "</tr>\n",
       "<tr>\n",
       "  <th>Newspaper</th> <td>   -0.0025</td> <td>    0.006</td> <td>   -0.395</td> <td> 0.693</td> <td>   -0.015</td> <td>    0.010</td>\n",
       "</tr>\n",
       "<tr>\n",
       "  <th>x0</th>        <td>    2.8399</td> <td>    0.342</td> <td>    8.293</td> <td> 0.000</td> <td>    2.164</td> <td>    3.516</td>\n",
       "</tr>\n",
       "</table>\n",
       "<table class=\"simpletable\">\n",
       "<tr>\n",
       "  <th>Omnibus:</th>       <td>56.196</td> <th>  Durbin-Watson:     </th> <td>   2.104</td>\n",
       "</tr>\n",
       "<tr>\n",
       "  <th>Prob(Omnibus):</th> <td> 0.000</td> <th>  Jarque-Bera (JB):  </th> <td> 140.467</td>\n",
       "</tr>\n",
       "<tr>\n",
       "  <th>Skew:</th>          <td>-1.343</td> <th>  Prob(JB):          </th> <td>3.15e-31</td>\n",
       "</tr>\n",
       "<tr>\n",
       "  <th>Kurtosis:</th>      <td> 6.394</td> <th>  Cond. No.          </th> <td>    467.</td>\n",
       "</tr>\n",
       "</table><br/><br/>Notes:<br/>[1] Standard Errors assume that the covariance matrix of the errors is correctly specified."
      ],
      "text/latex": [
       "\\begin{center}\n",
       "\\begin{tabular}{lclc}\n",
       "\\toprule\n",
       "\\textbf{Dep. Variable:}    &      Sales       & \\textbf{  R-squared:         } &     0.892   \\\\\n",
       "\\textbf{Model:}            &       OLS        & \\textbf{  Adj. R-squared:    } &     0.891   \\\\\n",
       "\\textbf{Method:}           &  Least Squares   & \\textbf{  F-statistic:       } &     486.3   \\\\\n",
       "\\textbf{Date:}             & Mon, 17 Jun 2024 & \\textbf{  Prob (F-statistic):} &  6.57e-85   \\\\\n",
       "\\textbf{Time:}             &     14:21:18     & \\textbf{  Log-Likelihood:    } &   -348.95   \\\\\n",
       "\\textbf{No. Observations:} &         180      & \\textbf{  AIC:               } &     705.9   \\\\\n",
       "\\textbf{Df Residuals:}     &         176      & \\textbf{  BIC:               } &     718.7   \\\\\n",
       "\\textbf{Df Model:}         &           3      & \\textbf{                     } &             \\\\\n",
       "\\textbf{Covariance Type:}  &    nonrobust     & \\textbf{                     } &             \\\\\n",
       "\\bottomrule\n",
       "\\end{tabular}\n",
       "\\begin{tabular}{lcccccc}\n",
       "                   & \\textbf{coef} & \\textbf{std err} & \\textbf{t} & \\textbf{P$> |$t$|$} & \\textbf{[0.025} & \\textbf{0.975]}  \\\\\n",
       "\\midrule\n",
       "\\textbf{TV}        &       0.0464  &        0.001     &    31.154  &         0.000        &        0.043    &        0.049     \\\\\n",
       "\\textbf{Radio}     &       0.1887  &        0.009     &    20.347  &         0.000        &        0.170    &        0.207     \\\\\n",
       "\\textbf{Newspaper} &      -0.0025  &        0.006     &    -0.395  &         0.693        &       -0.015    &        0.010     \\\\\n",
       "\\textbf{x0}        &       2.8399  &        0.342     &     8.293  &         0.000        &        2.164    &        3.516     \\\\\n",
       "\\bottomrule\n",
       "\\end{tabular}\n",
       "\\begin{tabular}{lclc}\n",
       "\\textbf{Omnibus:}       & 56.196 & \\textbf{  Durbin-Watson:     } &    2.104  \\\\\n",
       "\\textbf{Prob(Omnibus):} &  0.000 & \\textbf{  Jarque-Bera (JB):  } &  140.467  \\\\\n",
       "\\textbf{Skew:}          & -1.343 & \\textbf{  Prob(JB):          } & 3.15e-31  \\\\\n",
       "\\textbf{Kurtosis:}      &  6.394 & \\textbf{  Cond. No.          } &     467.  \\\\\n",
       "\\bottomrule\n",
       "\\end{tabular}\n",
       "%\\caption{OLS Regression Results}\n",
       "\\end{center}\n",
       "\n",
       "Notes: \\newline\n",
       " [1] Standard Errors assume that the covariance matrix of the errors is correctly specified."
      ],
      "text/plain": [
       "<class 'statsmodels.iolib.summary.Summary'>\n",
       "\"\"\"\n",
       "                            OLS Regression Results                            \n",
       "==============================================================================\n",
       "Dep. Variable:                  Sales   R-squared:                       0.892\n",
       "Model:                            OLS   Adj. R-squared:                  0.891\n",
       "Method:                 Least Squares   F-statistic:                     486.3\n",
       "Date:                Mon, 17 Jun 2024   Prob (F-statistic):           6.57e-85\n",
       "Time:                        14:21:18   Log-Likelihood:                -348.95\n",
       "No. Observations:                 180   AIC:                             705.9\n",
       "Df Residuals:                     176   BIC:                             718.7\n",
       "Df Model:                           3                                         \n",
       "Covariance Type:            nonrobust                                         \n",
       "==============================================================================\n",
       "                 coef    std err          t      P>|t|      [0.025      0.975]\n",
       "------------------------------------------------------------------------------\n",
       "TV             0.0464      0.001     31.154      0.000       0.043       0.049\n",
       "Radio          0.1887      0.009     20.347      0.000       0.170       0.207\n",
       "Newspaper     -0.0025      0.006     -0.395      0.693      -0.015       0.010\n",
       "x0             2.8399      0.342      8.293      0.000       2.164       3.516\n",
       "==============================================================================\n",
       "Omnibus:                       56.196   Durbin-Watson:                   2.104\n",
       "Prob(Omnibus):                  0.000   Jarque-Bera (JB):              140.467\n",
       "Skew:                          -1.343   Prob(JB):                     3.15e-31\n",
       "Kurtosis:                       6.394   Cond. No.                         467.\n",
       "==============================================================================\n",
       "\n",
       "Notes:\n",
       "[1] Standard Errors assume that the covariance matrix of the errors is correctly specified.\n",
       "\"\"\""
      ]
     },
     "execution_count": 16,
     "metadata": {},
     "output_type": "execute_result"
    }
   ],
   "source": [
    "# train data 학습하기\n",
    "result = sm.OLS(y_train, sm_X_train).fit()\n",
    "\n",
    "# train data 결과 확인\n",
    "result.summary()"
   ]
  },
  {
   "cell_type": "markdown",
   "id": "fe16a6ee-2b1f-463d-8c6c-2f8eb2ec391f",
   "metadata": {},
   "source": [
    "# 다항 회귀 분석"
   ]
  },
  {
   "cell_type": "code",
   "execution_count": 17,
   "id": "edb00b70-6dd4-4018-87bc-7b1fef7a759a",
   "metadata": {},
   "outputs": [],
   "source": [
    "from sklearn.preprocessing import PolynomialFeatures"
   ]
  },
  {
   "cell_type": "markdown",
   "id": "a6ba4a1b-ee25-4a52-b646-52d34abfb99f",
   "metadata": {},
   "source": [
    "* 간단한 예제"
   ]
  },
  {
   "cell_type": "code",
   "execution_count": 18,
   "id": "54acbd56-35d4-4a83-ac3a-525b05108518",
   "metadata": {},
   "outputs": [
    {
     "data": {
      "text/plain": [
       "array([[ 1.,  0.,  1.,  0.,  0.,  1.],\n",
       "       [ 1.,  2.,  3.,  4.,  6.,  9.],\n",
       "       [ 1.,  4.,  5., 16., 20., 25.]])"
      ]
     },
     "execution_count": 18,
     "metadata": {},
     "output_type": "execute_result"
    }
   ],
   "source": [
    "# 데이터 만들기\n",
    "x = np.arange(6).reshape(3, 2)\n",
    "\n",
    "# [1, a, b, a^2, ab, b^2] feature 만들기\n",
    "poly = PolynomialFeatures(2)\n",
    "poly.fit_transform(x)"
   ]
  },
  {
   "cell_type": "code",
   "execution_count": 19,
   "id": "aad97556-0c53-40a3-aff2-41eb1f35fa95",
   "metadata": {},
   "outputs": [
    {
     "data": {
      "text/plain": [
       "array([[ 1.,  0.,  1.,  0.],\n",
       "       [ 1.,  2.,  3.,  6.],\n",
       "       [ 1.,  4.,  5., 20.]])"
      ]
     },
     "execution_count": 19,
     "metadata": {},
     "output_type": "execute_result"
    }
   ],
   "source": [
    "# interaction feature만 생성하고 싶을 때\n",
    "PolynomialFeatures(interaction_only=True).fit_transform(x)"
   ]
  },
  {
   "cell_type": "markdown",
   "id": "75894d47-53ba-4589-88ec-930ba9c16080",
   "metadata": {},
   "source": [
    "* 실데이터에 적용하자"
   ]
  },
  {
   "cell_type": "markdown",
   "id": "495d3e4c-9ada-495d-8dcb-78318e19044e",
   "metadata": {},
   "source": [
    "## 데이터 준비"
   ]
  },
  {
   "cell_type": "code",
   "execution_count": 46,
   "id": "cbba3bcc-5ab2-4c83-8021-7bdc69a8f370",
   "metadata": {},
   "outputs": [
    {
     "name": "stdout",
     "output_type": "stream",
     "text": [
      "(397, 9)\n"
     ]
    },
    {
     "data": {
      "text/html": [
       "<div>\n",
       "<style scoped>\n",
       "    .dataframe tbody tr th:only-of-type {\n",
       "        vertical-align: middle;\n",
       "    }\n",
       "\n",
       "    .dataframe tbody tr th {\n",
       "        vertical-align: top;\n",
       "    }\n",
       "\n",
       "    .dataframe thead th {\n",
       "        text-align: right;\n",
       "    }\n",
       "</style>\n",
       "<table border=\"1\" class=\"dataframe\">\n",
       "  <thead>\n",
       "    <tr style=\"text-align: right;\">\n",
       "      <th></th>\n",
       "      <th>mpg</th>\n",
       "      <th>cylinders</th>\n",
       "      <th>displacement</th>\n",
       "      <th>horsepower</th>\n",
       "      <th>weight</th>\n",
       "      <th>acceleration</th>\n",
       "      <th>year</th>\n",
       "      <th>origin</th>\n",
       "      <th>name</th>\n",
       "    </tr>\n",
       "  </thead>\n",
       "  <tbody>\n",
       "    <tr>\n",
       "      <th>0</th>\n",
       "      <td>18.0</td>\n",
       "      <td>8</td>\n",
       "      <td>307.0</td>\n",
       "      <td>130</td>\n",
       "      <td>3504</td>\n",
       "      <td>12.0</td>\n",
       "      <td>70</td>\n",
       "      <td>1</td>\n",
       "      <td>chevrolet chevelle malibu</td>\n",
       "    </tr>\n",
       "    <tr>\n",
       "      <th>1</th>\n",
       "      <td>15.0</td>\n",
       "      <td>8</td>\n",
       "      <td>350.0</td>\n",
       "      <td>165</td>\n",
       "      <td>3693</td>\n",
       "      <td>11.5</td>\n",
       "      <td>70</td>\n",
       "      <td>1</td>\n",
       "      <td>buick skylark 320</td>\n",
       "    </tr>\n",
       "  </tbody>\n",
       "</table>\n",
       "</div>"
      ],
      "text/plain": [
       "    mpg  cylinders  displacement horsepower  weight  acceleration  year  \\\n",
       "0  18.0          8         307.0        130    3504          12.0    70   \n",
       "1  15.0          8         350.0        165    3693          11.5    70   \n",
       "\n",
       "   origin                       name  \n",
       "0       1  chevrolet chevelle malibu  \n",
       "1       1          buick skylark 320  "
      ]
     },
     "execution_count": 46,
     "metadata": {},
     "output_type": "execute_result"
    }
   ],
   "source": [
    "raw = pd.read_csv('../datasets/ML_data/Auto.csv')\n",
    "auto = raw.copy()\n",
    "print(auto.shape)\n",
    "auto.head(2)"
   ]
  },
  {
   "cell_type": "code",
   "execution_count": 47,
   "id": "eef351f6-37db-4aec-893d-551002fc38bc",
   "metadata": {},
   "outputs": [
    {
     "name": "stdout",
     "output_type": "stream",
     "text": [
      "<class 'pandas.core.frame.DataFrame'>\n",
      "RangeIndex: 397 entries, 0 to 396\n",
      "Data columns (total 9 columns):\n",
      " #   Column        Non-Null Count  Dtype  \n",
      "---  ------        --------------  -----  \n",
      " 0   mpg           397 non-null    float64\n",
      " 1   cylinders     397 non-null    int64  \n",
      " 2   displacement  397 non-null    float64\n",
      " 3   horsepower    397 non-null    object \n",
      " 4   weight        397 non-null    int64  \n",
      " 5   acceleration  397 non-null    float64\n",
      " 6   year          397 non-null    int64  \n",
      " 7   origin        397 non-null    int64  \n",
      " 8   name          397 non-null    object \n",
      "dtypes: float64(3), int64(4), object(2)\n",
      "memory usage: 28.0+ KB\n"
     ]
    }
   ],
   "source": [
    "auto.info()"
   ]
  },
  {
   "cell_type": "markdown",
   "id": "5811f9b6-e099-4bed-a30c-02c3e5d6d769",
   "metadata": {},
   "source": [
    "## 데이터 전처리"
   ]
  },
  {
   "cell_type": "code",
   "execution_count": 49,
   "id": "02ee9345-9d45-4470-b0b1-cd5c1d81ccd0",
   "metadata": {},
   "outputs": [
    {
     "data": {
      "text/plain": [
       "mpg             0\n",
       "cylinders       0\n",
       "displacement    0\n",
       "horsepower      0\n",
       "weight          0\n",
       "acceleration    0\n",
       "year            0\n",
       "origin          0\n",
       "name            0\n",
       "dtype: int64"
      ]
     },
     "execution_count": 49,
     "metadata": {},
     "output_type": "execute_result"
    }
   ],
   "source": [
    "# 결측치 확인하기\n",
    "auto.isnull().sum()"
   ]
  },
  {
   "cell_type": "code",
   "execution_count": 48,
   "id": "e2c2f738-31f6-451e-99f8-874fe6c8cee2",
   "metadata": {},
   "outputs": [
    {
     "data": {
      "text/plain": [
       "array(['130', '165', '150', '140', '198', '220', '215', '225', '190',\n",
       "       '170', '160', '95', '97', '85', '88', '46', '87', '90', '113',\n",
       "       '200', '210', '193', '?', '100', '105', '175', '153', '180', '110',\n",
       "       '72', '86', '70', '76', '65', '69', '60', '80', '54', '208', '155',\n",
       "       '112', '92', '145', '137', '158', '167', '94', '107', '230', '49',\n",
       "       '75', '91', '122', '67', '83', '78', '52', '61', '93', '148',\n",
       "       '129', '96', '71', '98', '115', '53', '81', '79', '120', '152',\n",
       "       '102', '108', '68', '58', '149', '89', '63', '48', '66', '139',\n",
       "       '103', '125', '133', '138', '135', '142', '77', '62', '132', '84',\n",
       "       '64', '74', '116', '82'], dtype=object)"
      ]
     },
     "execution_count": 48,
     "metadata": {},
     "output_type": "execute_result"
    }
   ],
   "source": [
    "# horsepower 확인하기\n",
    "auto.horsepower.unique() #--> '?' 존재"
   ]
  },
  {
   "cell_type": "code",
   "execution_count": 50,
   "id": "7ac9f385-34e5-49e4-8da2-6bf5acb24e69",
   "metadata": {},
   "outputs": [],
   "source": [
    "# '?' --> '0'\n",
    "auto.horsepower = auto.horsepower.replace('?', '0')\n",
    "\n",
    "# 숫자로 데이터 타입 변경\n",
    "auto.horsepower = pd.to_numeric(auto.horsepower)"
   ]
  },
  {
   "cell_type": "code",
   "execution_count": 51,
   "id": "ee4a0c09-2ad0-4a83-8956-f0cc7ec7b3e6",
   "metadata": {},
   "outputs": [
    {
     "name": "stdout",
     "output_type": "stream",
     "text": [
      "<class 'pandas.core.frame.DataFrame'>\n",
      "RangeIndex: 397 entries, 0 to 396\n",
      "Data columns (total 9 columns):\n",
      " #   Column        Non-Null Count  Dtype  \n",
      "---  ------        --------------  -----  \n",
      " 0   mpg           397 non-null    float64\n",
      " 1   cylinders     397 non-null    int64  \n",
      " 2   displacement  397 non-null    float64\n",
      " 3   horsepower    397 non-null    int64  \n",
      " 4   weight        397 non-null    int64  \n",
      " 5   acceleration  397 non-null    float64\n",
      " 6   year          397 non-null    int64  \n",
      " 7   origin        397 non-null    int64  \n",
      " 8   name          397 non-null    object \n",
      "dtypes: float64(3), int64(5), object(1)\n",
      "memory usage: 28.0+ KB\n"
     ]
    }
   ],
   "source": [
    "auto.info() # --> horsepower 데이터 타입 int 변경 확인 완료"
   ]
  },
  {
   "cell_type": "code",
   "execution_count": 57,
   "id": "509233b7-a368-4695-bd78-21fd56f93ff8",
   "metadata": {},
   "outputs": [],
   "source": [
    "# horsepower에 대한 다양한 feature 생성하기\n",
    "auto['horsepower_2'] = auto.horsepower ** 2\n",
    "# auto['horsepower_3'] = auto.horsepower ** 3\n",
    "# auto['horsepower_4'] = auto.horsepower ** 4\n",
    "# auto['horsepower_5'] = auto.horsepower ** 5"
   ]
  },
  {
   "cell_type": "code",
   "execution_count": 58,
   "id": "554dc445-084b-4231-af4f-4526e47cb2d8",
   "metadata": {},
   "outputs": [],
   "source": [
    "# weight에 대한 다양한 feature 생성하기\n",
    "auto['weight_2'] = auto.weight ** 2\n",
    "# auto['weight_3'] = auto.weight ** 3\n",
    "# auto['weight_4'] = auto.weight ** 4\n",
    "# auto['weight_5'] = auto.weight ** 5"
   ]
  },
  {
   "cell_type": "code",
   "execution_count": 61,
   "id": "1b320b8f-f297-4e07-9c91-74b4a5a25644",
   "metadata": {},
   "outputs": [],
   "source": [
    "auto_new = auto[['mpg', 'cylinders', 'displacement', 'horsepower', 'weight', 'acceleration', 'year', 'origin', 'horsepower_2', 'weight_2']]"
   ]
  },
  {
   "cell_type": "code",
   "execution_count": 62,
   "id": "8db5b84e-4641-4a07-ab47-5ef3e09439e4",
   "metadata": {},
   "outputs": [],
   "source": [
    "# 데이터 분리하기\n",
    "# train / test 분리\n",
    "train = auto_new[:-40]\n",
    "test = auto_new[-40:]\n",
    "\n",
    "# train data의 feature, label 분리하기\n",
    "X_train = train.iloc[:, 1:]\n",
    "y_train = train[['mpg']]\n",
    "\n",
    "# test data의 feature, label 분리하기\n",
    "X_test = test.iloc[:, 1:]\n",
    "y_test = test[['mpg']]"
   ]
  },
  {
   "cell_type": "markdown",
   "id": "0334b315-3468-40c0-b73e-8ebb12050757",
   "metadata": {},
   "source": [
    "## 데이터 모델링"
   ]
  },
  {
   "cell_type": "markdown",
   "id": "3d812f7d-4839-4de5-83d5-701efdb1bc87",
   "metadata": {},
   "source": [
    "* auto 다중선형회귀 (sklearn)"
   ]
  },
  {
   "cell_type": "code",
   "execution_count": 63,
   "id": "18907f56-8663-40d1-b1e5-9b5830e8bc0b",
   "metadata": {},
   "outputs": [],
   "source": [
    "# 모델 생성\n",
    "model = linear_model.LinearRegression()\n",
    "\n",
    "# train data로 학습하기\n",
    "model.fit(X_train, y_train)\n",
    "\n",
    "# train data로 예측하기\n",
    "y_train_pred = model.predict(X_train)\n",
    "\n",
    "# test data로 예측하기\n",
    "y_test_pred = model.predict(X_test)"
   ]
  },
  {
   "cell_type": "code",
   "execution_count": 64,
   "id": "8d4d3c61-628c-4a5c-aa24-7df909f447fa",
   "metadata": {},
   "outputs": [
    {
     "data": {
      "text/plain": [
       "array([[ 1.79631495e-02,  2.19582716e-03, -5.69324477e-02,\n",
       "        -1.86702200e-02,  2.17092386e-02,  7.86730375e-01,\n",
       "         6.67420780e-01,  1.76005475e-04,  2.00279982e-06]])"
      ]
     },
     "execution_count": 64,
     "metadata": {},
     "output_type": "execute_result"
    }
   ],
   "source": [
    "# 기울기\n",
    "model.coef_"
   ]
  },
  {
   "cell_type": "code",
   "execution_count": 65,
   "id": "f771fc69-1ba5-4c3d-aadd-fe92cb9603bc",
   "metadata": {},
   "outputs": [
    {
     "name": "stdout",
     "output_type": "stream",
     "text": [
      "train MSE : 8.113109015284703\n",
      "test MSE : 13.467169758134819\n"
     ]
    }
   ],
   "source": [
    "# MSE\n",
    "print('train MSE :', mean_squared_error(y_train, y_train_pred))\n",
    "print('test MSE :', mean_squared_error(y_test, y_test_pred))"
   ]
  },
  {
   "cell_type": "code",
   "execution_count": 66,
   "id": "b888e0f4-0250-46a9-996d-ef64ea6bb494",
   "metadata": {},
   "outputs": [
    {
     "name": "stdout",
     "output_type": "stream",
     "text": [
      "train R^2 : 0.8607104046047545\n",
      "test R^2 : 0.5834749147470137\n"
     ]
    }
   ],
   "source": [
    "# r2_score\n",
    "print('train R^2 :', r2_score(y_train, y_train_pred))\n",
    "print('test R^2 :', r2_score(y_test, y_test_pred))"
   ]
  },
  {
   "cell_type": "code",
   "execution_count": null,
   "id": "6c3a6ccc-4812-49f3-a540-c47abfe56f01",
   "metadata": {},
   "outputs": [],
   "source": []
  },
  {
   "cell_type": "code",
   "execution_count": null,
   "id": "f2d5f5bf-203f-42e7-b9d8-034cdeac5ba3",
   "metadata": {},
   "outputs": [],
   "source": []
  }
 ],
 "metadata": {
  "kernelspec": {
   "display_name": "Python 3 (ipykernel)",
   "language": "python",
   "name": "python3"
  },
  "language_info": {
   "codemirror_mode": {
    "name": "ipython",
    "version": 3
   },
   "file_extension": ".py",
   "mimetype": "text/x-python",
   "name": "python",
   "nbconvert_exporter": "python",
   "pygments_lexer": "ipython3",
   "version": "3.11.7"
  }
 },
 "nbformat": 4,
 "nbformat_minor": 5
}
