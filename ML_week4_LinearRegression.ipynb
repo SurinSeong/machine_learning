{
 "cells": [
  {
   "cell_type": "markdown",
   "id": "13761f93-19a9-40ec-b82a-a34f13e227d2",
   "metadata": {},
   "source": [
    "# 단순 선형 회귀"
   ]
  },
  {
   "cell_type": "code",
   "execution_count": 1,
   "id": "2012aaaf-0e35-4855-9ad8-18ce25740ea2",
   "metadata": {},
   "outputs": [],
   "source": [
    "import numpy as np\n",
    "import pandas as pd\n",
    "import matplotlib.pyplot as plt\n",
    "\n",
    "# 선형회귀 관련 scikit-learn library\n",
    "from sklearn import datasets, linear_model\n",
    "from sklearn.metrics import mean_squared_error, r2_score\n",
    "\n",
    "import statsmodels.api as sm"
   ]
  },
  {
   "cell_type": "code",
   "execution_count": 4,
   "id": "3bee884b-a3ea-4d1d-8a98-4267eb119f83",
   "metadata": {},
   "outputs": [
    {
     "data": {
      "text/html": [
       "<style>#sk-container-id-1 {color: black;background-color: white;}#sk-container-id-1 pre{padding: 0;}#sk-container-id-1 div.sk-toggleable {background-color: white;}#sk-container-id-1 label.sk-toggleable__label {cursor: pointer;display: block;width: 100%;margin-bottom: 0;padding: 0.3em;box-sizing: border-box;text-align: center;}#sk-container-id-1 label.sk-toggleable__label-arrow:before {content: \"▸\";float: left;margin-right: 0.25em;color: #696969;}#sk-container-id-1 label.sk-toggleable__label-arrow:hover:before {color: black;}#sk-container-id-1 div.sk-estimator:hover label.sk-toggleable__label-arrow:before {color: black;}#sk-container-id-1 div.sk-toggleable__content {max-height: 0;max-width: 0;overflow: hidden;text-align: left;background-color: #f0f8ff;}#sk-container-id-1 div.sk-toggleable__content pre {margin: 0.2em;color: black;border-radius: 0.25em;background-color: #f0f8ff;}#sk-container-id-1 input.sk-toggleable__control:checked~div.sk-toggleable__content {max-height: 200px;max-width: 100%;overflow: auto;}#sk-container-id-1 input.sk-toggleable__control:checked~label.sk-toggleable__label-arrow:before {content: \"▾\";}#sk-container-id-1 div.sk-estimator input.sk-toggleable__control:checked~label.sk-toggleable__label {background-color: #d4ebff;}#sk-container-id-1 div.sk-label input.sk-toggleable__control:checked~label.sk-toggleable__label {background-color: #d4ebff;}#sk-container-id-1 input.sk-hidden--visually {border: 0;clip: rect(1px 1px 1px 1px);clip: rect(1px, 1px, 1px, 1px);height: 1px;margin: -1px;overflow: hidden;padding: 0;position: absolute;width: 1px;}#sk-container-id-1 div.sk-estimator {font-family: monospace;background-color: #f0f8ff;border: 1px dotted black;border-radius: 0.25em;box-sizing: border-box;margin-bottom: 0.5em;}#sk-container-id-1 div.sk-estimator:hover {background-color: #d4ebff;}#sk-container-id-1 div.sk-parallel-item::after {content: \"\";width: 100%;border-bottom: 1px solid gray;flex-grow: 1;}#sk-container-id-1 div.sk-label:hover label.sk-toggleable__label {background-color: #d4ebff;}#sk-container-id-1 div.sk-serial::before {content: \"\";position: absolute;border-left: 1px solid gray;box-sizing: border-box;top: 0;bottom: 0;left: 50%;z-index: 0;}#sk-container-id-1 div.sk-serial {display: flex;flex-direction: column;align-items: center;background-color: white;padding-right: 0.2em;padding-left: 0.2em;position: relative;}#sk-container-id-1 div.sk-item {position: relative;z-index: 1;}#sk-container-id-1 div.sk-parallel {display: flex;align-items: stretch;justify-content: center;background-color: white;position: relative;}#sk-container-id-1 div.sk-item::before, #sk-container-id-1 div.sk-parallel-item::before {content: \"\";position: absolute;border-left: 1px solid gray;box-sizing: border-box;top: 0;bottom: 0;left: 50%;z-index: -1;}#sk-container-id-1 div.sk-parallel-item {display: flex;flex-direction: column;z-index: 1;position: relative;background-color: white;}#sk-container-id-1 div.sk-parallel-item:first-child::after {align-self: flex-end;width: 50%;}#sk-container-id-1 div.sk-parallel-item:last-child::after {align-self: flex-start;width: 50%;}#sk-container-id-1 div.sk-parallel-item:only-child::after {width: 0;}#sk-container-id-1 div.sk-dashed-wrapped {border: 1px dashed gray;margin: 0 0.4em 0.5em 0.4em;box-sizing: border-box;padding-bottom: 0.4em;background-color: white;}#sk-container-id-1 div.sk-label label {font-family: monospace;font-weight: bold;display: inline-block;line-height: 1.2em;}#sk-container-id-1 div.sk-label-container {text-align: center;}#sk-container-id-1 div.sk-container {/* jupyter's `normalize.less` sets `[hidden] { display: none; }` but bootstrap.min.css set `[hidden] { display: none !important; }` so we also need the `!important` here to be able to override the default hidden behavior on the sphinx rendered scikit-learn.org. See: https://github.com/scikit-learn/scikit-learn/issues/21755 */display: inline-block !important;position: relative;}#sk-container-id-1 div.sk-text-repr-fallback {display: none;}</style><div id=\"sk-container-id-1\" class=\"sk-top-container\"><div class=\"sk-text-repr-fallback\"><pre>LinearRegression()</pre><b>In a Jupyter environment, please rerun this cell to show the HTML representation or trust the notebook. <br />On GitHub, the HTML representation is unable to render, please try loading this page with nbviewer.org.</b></div><div class=\"sk-container\" hidden><div class=\"sk-item\"><div class=\"sk-estimator sk-toggleable\"><input class=\"sk-toggleable__control sk-hidden--visually\" id=\"sk-estimator-id-1\" type=\"checkbox\" checked><label for=\"sk-estimator-id-1\" class=\"sk-toggleable__label sk-toggleable__label-arrow\">LinearRegression</label><div class=\"sk-toggleable__content\"><pre>LinearRegression()</pre></div></div></div></div></div>"
      ],
      "text/plain": [
       "LinearRegression()"
      ]
     },
     "execution_count": 4,
     "metadata": {},
     "output_type": "execute_result"
    }
   ],
   "source": [
    "# 간단한 예제\n",
    "X = np.array([[0], [1], [2]])\n",
    "y = np.array([0, 1.2, 1.6])\n",
    "\n",
    "# model 변수 저장\n",
    "model = linear_model.LinearRegression()\n",
    "\n",
    "# 훈련\n",
    "model.fit(X, y)"
   ]
  },
  {
   "cell_type": "code",
   "execution_count": 5,
   "id": "4fd09a09-00d6-40f0-8fef-843f76aa7208",
   "metadata": {},
   "outputs": [
    {
     "data": {
      "text/plain": [
       "array([0.13333333, 0.93333333, 1.73333333])"
      ]
     },
     "execution_count": 5,
     "metadata": {},
     "output_type": "execute_result"
    }
   ],
   "source": [
    "# train 예측하기 --> 회귀선 예측하기\n",
    "pred_train = model.predict(X)\n",
    "pred_train"
   ]
  },
  {
   "cell_type": "code",
   "execution_count": 6,
   "id": "1988d7bb-19f6-48e1-84f5-e776b0b2bf60",
   "metadata": {},
   "outputs": [
    {
     "data": {
      "text/plain": [
       "array([1.33333333])"
      ]
     },
     "execution_count": 6,
     "metadata": {},
     "output_type": "execute_result"
    }
   ],
   "source": [
    "# test --> 새로운 값 넣어서 예측값 확인하기\n",
    "pred_test = model.predict([[1.5]])\n",
    "pred_test"
   ]
  },
  {
   "cell_type": "code",
   "execution_count": 11,
   "id": "f4dcd38b-deb1-4992-a4d1-13f7be402630",
   "metadata": {},
   "outputs": [
    {
     "data": {
      "text/plain": [
       "array([0.8])"
      ]
     },
     "execution_count": 11,
     "metadata": {},
     "output_type": "execute_result"
    }
   ],
   "source": [
    "# 기울기 : coefficient\n",
    "model.coef_"
   ]
  },
  {
   "cell_type": "code",
   "execution_count": 10,
   "id": "87e9d009-b5b8-4e12-b25c-3a3410c3667d",
   "metadata": {
    "scrolled": true
   },
   "outputs": [
    {
     "data": {
      "image/png": "[encoded data removed]",
      "text/plain": [
       "<Figure size 640x480 with 1 Axes>"
      ]
     },
     "metadata": {},
     "output_type": "display_data"
    }
   ],
   "source": [
    "# 시각화\n",
    "# 실제 값\n",
    "plt.scatter(X, y, color='black')\n",
    "# 예측값\n",
    "plt.scatter(1.5, pred_test, color='red')\n",
    "\n",
    "plt.plot(X, pred_train, color='blue', linewidth=3)\n",
    "plt.xlabel('X')\n",
    "plt.ylabel('y')\n",
    "\n",
    "plt.grid()\n",
    "plt.show()"
   ]
  },
  {
   "cell_type": "markdown",
   "id": "2d73ce7f-4c1c-41f4-b0a8-d22cddcb1524",
   "metadata": {},
   "source": [
    "## 실데이터에 적용하기"
   ]
  },
  {
   "cell_type": "code",
   "execution_count": 13,
   "id": "70b57f01-3343-4aa1-a083-bdbd7b8aff97",
   "metadata": {},
   "outputs": [
    {
     "name": "stdout",
     "output_type": "stream",
     "text": [
      "(200, 4)\n"
     ]
    },
    {
     "data": {
      "text/html": [
       "<div>\n",
       "<style scoped>\n",
       "    .dataframe tbody tr th:only-of-type {\n",
       "        vertical-align: middle;\n",
       "    }\n",
       "\n",
       "    .dataframe tbody tr th {\n",
       "        vertical-align: top;\n",
       "    }\n",
       "\n",
       "    .dataframe thead th {\n",
       "        text-align: right;\n",
       "    }\n",
       "</style>\n",
       "<table border=\"1\" class=\"dataframe\">\n",
       "  <thead>\n",
       "    <tr style=\"text-align: right;\">\n",
       "      <th></th>\n",
       "      <th>TV</th>\n",
       "      <th>Radio</th>\n",
       "      <th>Newspaper</th>\n",
       "      <th>Sales</th>\n",
       "    </tr>\n",
       "  </thead>\n",
       "  <tbody>\n",
       "    <tr>\n",
       "      <th>1</th>\n",
       "      <td>230.1</td>\n",
       "      <td>37.8</td>\n",
       "      <td>69.2</td>\n",
       "      <td>22.1</td>\n",
       "    </tr>\n",
       "    <tr>\n",
       "      <th>2</th>\n",
       "      <td>44.5</td>\n",
       "      <td>39.3</td>\n",
       "      <td>45.1</td>\n",
       "      <td>10.4</td>\n",
       "    </tr>\n",
       "  </tbody>\n",
       "</table>\n",
       "</div>"
      ],
      "text/plain": [
       "      TV  Radio  Newspaper  Sales\n",
       "1  230.1   37.8       69.2   22.1\n",
       "2   44.5   39.3       45.1   10.4"
      ]
     },
     "execution_count": 13,
     "metadata": {},
     "output_type": "execute_result"
    }
   ],
   "source": [
    "raw = pd.read_csv('../datasets/ML_data/Advertising.csv', index_col=0)\n",
    "ad = raw.copy()\n",
    "print(ad.shape)\n",
    "ad.head(2)"
   ]
  },
  {
   "cell_type": "code",
   "execution_count": 17,
   "id": "f171cd9a-64da-42e8-9f84-24f0f199990a",
   "metadata": {},
   "outputs": [],
   "source": [
    "# 선형회귀 모델 적용하기\n",
    "# train/test data 분리하기 >> 과적합 방지\n",
    "train = ad[:-20]\n",
    "test = ad[-20:]\n",
    "\n",
    "# train data의 feature과 label 분리하기\n",
    "X_train = train.iloc[:, :-1]\n",
    "y_train = train[['Sales']]\n",
    "\n",
    "# test data의 feature과 label 분리하기\n",
    "X_test = test.iloc[:, :-1]\n",
    "y_test = test[['Sales']]"
   ]
  },
  {
   "cell_type": "markdown",
   "id": "14712650-24e2-46f4-85a2-104f4c0f76dc",
   "metadata": {},
   "source": [
    "*  TV"
   ]
  },
  {
   "cell_type": "code",
   "execution_count": 18,
   "id": "75fa7445-2c4a-465e-aad4-26ed0641d434",
   "metadata": {},
   "outputs": [
    {
     "data": {
      "text/html": [
       "<style>#sk-container-id-2 {color: black;background-color: white;}#sk-container-id-2 pre{padding: 0;}#sk-container-id-2 div.sk-toggleable {background-color: white;}#sk-container-id-2 label.sk-toggleable__label {cursor: pointer;display: block;width: 100%;margin-bottom: 0;padding: 0.3em;box-sizing: border-box;text-align: center;}#sk-container-id-2 label.sk-toggleable__label-arrow:before {content: \"▸\";float: left;margin-right: 0.25em;color: #696969;}#sk-container-id-2 label.sk-toggleable__label-arrow:hover:before {color: black;}#sk-container-id-2 div.sk-estimator:hover label.sk-toggleable__label-arrow:before {color: black;}#sk-container-id-2 div.sk-toggleable__content {max-height: 0;max-width: 0;overflow: hidden;text-align: left;background-color: #f0f8ff;}#sk-container-id-2 div.sk-toggleable__content pre {margin: 0.2em;color: black;border-radius: 0.25em;background-color: #f0f8ff;}#sk-container-id-2 input.sk-toggleable__control:checked~div.sk-toggleable__content {max-height: 200px;max-width: 100%;overflow: auto;}#sk-container-id-2 input.sk-toggleable__control:checked~label.sk-toggleable__label-arrow:before {content: \"▾\";}#sk-container-id-2 div.sk-estimator input.sk-toggleable__control:checked~label.sk-toggleable__label {background-color: #d4ebff;}#sk-container-id-2 div.sk-label input.sk-toggleable__control:checked~label.sk-toggleable__label {background-color: #d4ebff;}#sk-container-id-2 input.sk-hidden--visually {border: 0;clip: rect(1px 1px 1px 1px);clip: rect(1px, 1px, 1px, 1px);height: 1px;margin: -1px;overflow: hidden;padding: 0;position: absolute;width: 1px;}#sk-container-id-2 div.sk-estimator {font-family: monospace;background-color: #f0f8ff;border: 1px dotted black;border-radius: 0.25em;box-sizing: border-box;margin-bottom: 0.5em;}#sk-container-id-2 div.sk-estimator:hover {background-color: #d4ebff;}#sk-container-id-2 div.sk-parallel-item::after {content: \"\";width: 100%;border-bottom: 1px solid gray;flex-grow: 1;}#sk-container-id-2 div.sk-label:hover label.sk-toggleable__label {background-color: #d4ebff;}#sk-container-id-2 div.sk-serial::before {content: \"\";position: absolute;border-left: 1px solid gray;box-sizing: border-box;top: 0;bottom: 0;left: 50%;z-index: 0;}#sk-container-id-2 div.sk-serial {display: flex;flex-direction: column;align-items: center;background-color: white;padding-right: 0.2em;padding-left: 0.2em;position: relative;}#sk-container-id-2 div.sk-item {position: relative;z-index: 1;}#sk-container-id-2 div.sk-parallel {display: flex;align-items: stretch;justify-content: center;background-color: white;position: relative;}#sk-container-id-2 div.sk-item::before, #sk-container-id-2 div.sk-parallel-item::before {content: \"\";position: absolute;border-left: 1px solid gray;box-sizing: border-box;top: 0;bottom: 0;left: 50%;z-index: -1;}#sk-container-id-2 div.sk-parallel-item {display: flex;flex-direction: column;z-index: 1;position: relative;background-color: white;}#sk-container-id-2 div.sk-parallel-item:first-child::after {align-self: flex-end;width: 50%;}#sk-container-id-2 div.sk-parallel-item:last-child::after {align-self: flex-start;width: 50%;}#sk-container-id-2 div.sk-parallel-item:only-child::after {width: 0;}#sk-container-id-2 div.sk-dashed-wrapped {border: 1px dashed gray;margin: 0 0.4em 0.5em 0.4em;box-sizing: border-box;padding-bottom: 0.4em;background-color: white;}#sk-container-id-2 div.sk-label label {font-family: monospace;font-weight: bold;display: inline-block;line-height: 1.2em;}#sk-container-id-2 div.sk-label-container {text-align: center;}#sk-container-id-2 div.sk-container {/* jupyter's `normalize.less` sets `[hidden] { display: none; }` but bootstrap.min.css set `[hidden] { display: none !important; }` so we also need the `!important` here to be able to override the default hidden behavior on the sphinx rendered scikit-learn.org. See: https://github.com/scikit-learn/scikit-learn/issues/21755 */display: inline-block !important;position: relative;}#sk-container-id-2 div.sk-text-repr-fallback {display: none;}</style><div id=\"sk-container-id-2\" class=\"sk-top-container\"><div class=\"sk-text-repr-fallback\"><pre>LinearRegression()</pre><b>In a Jupyter environment, please rerun this cell to show the HTML representation or trust the notebook. <br />On GitHub, the HTML representation is unable to render, please try loading this page with nbviewer.org.</b></div><div class=\"sk-container\" hidden><div class=\"sk-item\"><div class=\"sk-estimator sk-toggleable\"><input class=\"sk-toggleable__control sk-hidden--visually\" id=\"sk-estimator-id-2\" type=\"checkbox\" checked><label for=\"sk-estimator-id-2\" class=\"sk-toggleable__label sk-toggleable__label-arrow\">LinearRegression</label><div class=\"sk-toggleable__content\"><pre>LinearRegression()</pre></div></div></div></div></div>"
      ],
      "text/plain": [
       "LinearRegression()"
      ]
     },
     "execution_count": 18,
     "metadata": {},
     "output_type": "execute_result"
    }
   ],
   "source": [
    "# 모델링 - 선형회귀\n",
    "model = linear_model.LinearRegression()\n",
    "\n",
    "# 훈련\n",
    "model.fit(X_train[['TV']], y_train) # train data 중 TV만 사용"
   ]
  },
  {
   "cell_type": "code",
   "execution_count": 20,
   "id": "536ff086-c4bf-4086-87ba-b35c41a72ea3",
   "metadata": {},
   "outputs": [
    {
     "data": {
      "text/plain": [
       "array([[17.95508512],\n",
       "       [ 9.25168867],\n",
       "       [ 7.97150159]])"
      ]
     },
     "execution_count": 20,
     "metadata": {},
     "output_type": "execute_result"
    }
   ],
   "source": [
    "# 훈련용 데이터 이용 >> 예측\n",
    "y_train_pred = model.predict(X_train[['TV']])\n",
    "y_train_pred[:3]"
   ]
  },
  {
   "cell_type": "code",
   "execution_count": 21,
   "id": "2252aea2-bc49-41ba-8cfb-26e676102dbf",
   "metadata": {},
   "outputs": [
    {
     "data": {
      "text/plain": [
       "array([[14.50842759],\n",
       "       [17.41112285],\n",
       "       [ 9.80034028]])"
      ]
     },
     "execution_count": 21,
     "metadata": {},
     "output_type": "execute_result"
    }
   ],
   "source": [
    "# 평가용 데이터 이용 >> 예측\n",
    "y_test_pred = model.predict(X_test[['TV']])\n",
    "y_test_pred[:3]"
   ]
  },
  {
   "cell_type": "code",
   "execution_count": 22,
   "id": "8281a9ee-9992-4989-9b0e-e63d327eb4de",
   "metadata": {},
   "outputs": [
    {
     "data": {
      "text/plain": [
       "array([[0.0468933]])"
      ]
     },
     "execution_count": 22,
     "metadata": {},
     "output_type": "execute_result"
    }
   ],
   "source": [
    "# 기울기 확인\n",
    "model.coef_"
   ]
  },
  {
   "cell_type": "code",
   "execution_count": 23,
   "id": "9c6780db-7f5d-4d31-a994-2538402a433c",
   "metadata": {},
   "outputs": [
    {
     "data": {
      "text/plain": [
       "10.316339960041683"
      ]
     },
     "execution_count": 23,
     "metadata": {},
     "output_type": "execute_result"
    }
   ],
   "source": [
    "# 훈련용 MSE 확인\n",
    "mean_squared_error(y_train, y_train_pred)"
   ]
  },
  {
   "cell_type": "code",
   "execution_count": 24,
   "id": "2abe3a70-69a0-405d-9c76-b713ef85b9e1",
   "metadata": {},
   "outputs": [
    {
     "data": {
      "text/plain": [
       "12.324071145849308"
      ]
     },
     "execution_count": 24,
     "metadata": {},
     "output_type": "execute_result"
    }
   ],
   "source": [
    "# 평가용 MSE 확인\n",
    "mean_squared_error(y_test, y_test_pred)"
   ]
  },
  {
   "cell_type": "code",
   "execution_count": 26,
   "id": "b463ecd2-a3a1-4830-8f2b-bb8a3900f47b",
   "metadata": {},
   "outputs": [
    {
     "name": "stdout",
     "output_type": "stream",
     "text": [
      "train R^2 : 0.6072402179372907\n",
      "test R^2 : 0.6423749789914126\n"
     ]
    }
   ],
   "source": [
    "# 훈련용 데이터에 대한 결정계수 확인 (R^2)\n",
    "print(f'train R^2 : {r2_score(y_train, y_train_pred)}\\ntest R^2 : {r2_score(y_test, y_test_pred)}')"
   ]
  },
  {
   "cell_type": "code",
   "execution_count": 27,
   "id": "03ad5852-9bb0-4b6a-aa6e-f0e4f30bc24d",
   "metadata": {},
   "outputs": [],
   "source": [
    "# statsmodels 활용, 선형회귀분석\n",
    "# statsmodels의 OLS 함수는 데이터 내에 intercept하는 feature가 필요하다.\n",
    "sm_X_train = X_train\n",
    "sm_X_train['x0'] = 1\n",
    "\n",
    "sm_X_test = X_test\n",
    "sm_X_test['x0'] = 1"
   ]
  },
  {
   "cell_type": "code",
   "execution_count": 35,
   "id": "95173a3a-c587-4998-ae82-649fbcc81712",
   "metadata": {
    "scrolled": true
   },
   "outputs": [
    {
     "data": {
      "text/html": [
       "<table class=\"simpletable\">\n",
       "<caption>OLS Regression Results</caption>\n",
       "<tr>\n",
       "  <th>Dep. Variable:</th>          <td>Sales</td>      <th>  R-squared:         </th> <td>   0.607</td>\n",
       "</tr>\n",
       "<tr>\n",
       "  <th>Model:</th>                   <td>OLS</td>       <th>  Adj. R-squared:    </th> <td>   0.605</td>\n",
       "</tr>\n",
       "<tr>\n",
       "  <th>Method:</th>             <td>Least Squares</td>  <th>  F-statistic:       </th> <td>   275.2</td>\n",
       "</tr>\n",
       "<tr>\n",
       "  <th>Date:</th>             <td>Fri, 14 Jun 2024</td> <th>  Prob (F-statistic):</th> <td>5.76e-38</td>\n",
       "</tr>\n",
       "<tr>\n",
       "  <th>Time:</th>                 <td>17:14:23</td>     <th>  Log-Likelihood:    </th> <td> -465.44</td>\n",
       "</tr>\n",
       "<tr>\n",
       "  <th>No. Observations:</th>      <td>   180</td>      <th>  AIC:               </th> <td>   934.9</td>\n",
       "</tr>\n",
       "<tr>\n",
       "  <th>Df Residuals:</th>          <td>   178</td>      <th>  BIC:               </th> <td>   941.3</td>\n",
       "</tr>\n",
       "<tr>\n",
       "  <th>Df Model:</th>              <td>     1</td>      <th>                     </th>     <td> </td>   \n",
       "</tr>\n",
       "<tr>\n",
       "  <th>Covariance Type:</th>      <td>nonrobust</td>    <th>                     </th>     <td> </td>   \n",
       "</tr>\n",
       "</table>\n",
       "<table class=\"simpletable\">\n",
       "<tr>\n",
       "   <td></td>     <th>coef</th>     <th>std err</th>      <th>t</th>      <th>P>|t|</th>  <th>[0.025</th>    <th>0.975]</th>  \n",
       "</tr>\n",
       "<tr>\n",
       "  <th>x0</th> <td>    7.1649</td> <td>    0.478</td> <td>   14.978</td> <td> 0.000</td> <td>    6.221</td> <td>    8.109</td>\n",
       "</tr>\n",
       "<tr>\n",
       "  <th>TV</th> <td>    0.0469</td> <td>    0.003</td> <td>   16.589</td> <td> 0.000</td> <td>    0.041</td> <td>    0.052</td>\n",
       "</tr>\n",
       "</table>\n",
       "<table class=\"simpletable\">\n",
       "<tr>\n",
       "  <th>Omnibus:</th>       <td> 0.515</td> <th>  Durbin-Watson:     </th> <td>   1.890</td>\n",
       "</tr>\n",
       "<tr>\n",
       "  <th>Prob(Omnibus):</th> <td> 0.773</td> <th>  Jarque-Bera (JB):  </th> <td>   0.547</td>\n",
       "</tr>\n",
       "<tr>\n",
       "  <th>Skew:</th>          <td>-0.127</td> <th>  Prob(JB):          </th> <td>   0.761</td>\n",
       "</tr>\n",
       "<tr>\n",
       "  <th>Kurtosis:</th>      <td> 2.906</td> <th>  Cond. No.          </th> <td>    336.</td>\n",
       "</tr>\n",
       "</table><br/><br/>Notes:<br/>[1] Standard Errors assume that the covariance matrix of the errors is correctly specified."
      ],
      "text/latex": [
       "\\begin{center}\n",
       "\\begin{tabular}{lclc}\n",
       "\\toprule\n",
       "\\textbf{Dep. Variable:}    &      Sales       & \\textbf{  R-squared:         } &     0.607   \\\\\n",
       "\\textbf{Model:}            &       OLS        & \\textbf{  Adj. R-squared:    } &     0.605   \\\\\n",
       "\\textbf{Method:}           &  Least Squares   & \\textbf{  F-statistic:       } &     275.2   \\\\\n",
       "\\textbf{Date:}             & Fri, 14 Jun 2024 & \\textbf{  Prob (F-statistic):} &  5.76e-38   \\\\\n",
       "\\textbf{Time:}             &     17:14:23     & \\textbf{  Log-Likelihood:    } &   -465.44   \\\\\n",
       "\\textbf{No. Observations:} &         180      & \\textbf{  AIC:               } &     934.9   \\\\\n",
       "\\textbf{Df Residuals:}     &         178      & \\textbf{  BIC:               } &     941.3   \\\\\n",
       "\\textbf{Df Model:}         &           1      & \\textbf{                     } &             \\\\\n",
       "\\textbf{Covariance Type:}  &    nonrobust     & \\textbf{                     } &             \\\\\n",
       "\\bottomrule\n",
       "\\end{tabular}\n",
       "\\begin{tabular}{lcccccc}\n",
       "            & \\textbf{coef} & \\textbf{std err} & \\textbf{t} & \\textbf{P$> |$t$|$} & \\textbf{[0.025} & \\textbf{0.975]}  \\\\\n",
       "\\midrule\n",
       "\\textbf{x0} &       7.1649  &        0.478     &    14.978  &         0.000        &        6.221    &        8.109     \\\\\n",
       "\\textbf{TV} &       0.0469  &        0.003     &    16.589  &         0.000        &        0.041    &        0.052     \\\\\n",
       "\\bottomrule\n",
       "\\end{tabular}\n",
       "\\begin{tabular}{lclc}\n",
       "\\textbf{Omnibus:}       &  0.515 & \\textbf{  Durbin-Watson:     } &    1.890  \\\\\n",
       "\\textbf{Prob(Omnibus):} &  0.773 & \\textbf{  Jarque-Bera (JB):  } &    0.547  \\\\\n",
       "\\textbf{Skew:}          & -0.127 & \\textbf{  Prob(JB):          } &    0.761  \\\\\n",
       "\\textbf{Kurtosis:}      &  2.906 & \\textbf{  Cond. No.          } &     336.  \\\\\n",
       "\\bottomrule\n",
       "\\end{tabular}\n",
       "%\\caption{OLS Regression Results}\n",
       "\\end{center}\n",
       "\n",
       "Notes: \\newline\n",
       " [1] Standard Errors assume that the covariance matrix of the errors is correctly specified."
      ],
      "text/plain": [
       "<class 'statsmodels.iolib.summary.Summary'>\n",
       "\"\"\"\n",
       "                            OLS Regression Results                            \n",
       "==============================================================================\n",
       "Dep. Variable:                  Sales   R-squared:                       0.607\n",
       "Model:                            OLS   Adj. R-squared:                  0.605\n",
       "Method:                 Least Squares   F-statistic:                     275.2\n",
       "Date:                Fri, 14 Jun 2024   Prob (F-statistic):           5.76e-38\n",
       "Time:                        17:14:23   Log-Likelihood:                -465.44\n",
       "No. Observations:                 180   AIC:                             934.9\n",
       "Df Residuals:                     178   BIC:                             941.3\n",
       "Df Model:                           1                                         \n",
       "Covariance Type:            nonrobust                                         \n",
       "==============================================================================\n",
       "                 coef    std err          t      P>|t|      [0.025      0.975]\n",
       "------------------------------------------------------------------------------\n",
       "x0             7.1649      0.478     14.978      0.000       6.221       8.109\n",
       "TV             0.0469      0.003     16.589      0.000       0.041       0.052\n",
       "==============================================================================\n",
       "Omnibus:                        0.515   Durbin-Watson:                   1.890\n",
       "Prob(Omnibus):                  0.773   Jarque-Bera (JB):                0.547\n",
       "Skew:                          -0.127   Prob(JB):                        0.761\n",
       "Kurtosis:                       2.906   Cond. No.                         336.\n",
       "==============================================================================\n",
       "\n",
       "Notes:\n",
       "[1] Standard Errors assume that the covariance matrix of the errors is correctly specified.\n",
       "\"\"\""
      ]
     },
     "execution_count": 35,
     "metadata": {},
     "output_type": "execute_result"
    }
   ],
   "source": [
    "# 훈련하기 - train\n",
    "model = sm.OLS(y_train, sm_X_train[['x0', 'TV']]).fit()\n",
    "model.summary()"
   ]
  },
  {
   "cell_type": "code",
   "execution_count": null,
   "id": "beaa2a64-9fed-4e62-8098-4e4159970a3c",
   "metadata": {},
   "outputs": [],
   "source": [
    "# model.predict()"
   ]
  },
  {
   "cell_type": "code",
   "execution_count": 31,
   "id": "58ad88d9-bace-42d4-ad03-5bb9deb138ae",
   "metadata": {},
   "outputs": [
    {
     "data": {
      "image/png": "[encoded data removed]",
      "text/plain": [
       "<Figure size 640x480 with 1 Axes>"
      ]
     },
     "metadata": {},
     "output_type": "display_data"
    }
   ],
   "source": [
    "# 시각화\n",
    "# train data\n",
    "plt.scatter(X_train.TV, y_train.Sales, color='gray')\n",
    "# test data\n",
    "plt.scatter(X_test.TV, y_test.Sales, color='red')\n",
    "# 회귀선 그려보기\n",
    "plt.plot(X_train.TV, y_train_pred, color='green', linewidth=2)\n",
    "# 예측값 확인\n",
    "plt.scatter(X_test.TV, y_test_pred, color='blue', marker='^')\n",
    "\n",
    "plt.xlabel('TV')\n",
    "plt.ylabel('Sales')\n",
    "\n",
    "plt.grid()\n",
    "plt.show()"
   ]
  },
  {
   "cell_type": "markdown",
   "id": "e9b361be-4aa2-4a8b-bbc8-22a47e64eb17",
   "metadata": {},
   "source": [
    "* Radio"
   ]
  },
  {
   "cell_type": "code",
   "execution_count": 34,
   "id": "e6127921-7fce-418b-97d5-f85493b515a4",
   "metadata": {},
   "outputs": [
    {
     "name": "stdout",
     "output_type": "stream",
     "text": [
      "기울기 (coefficient) : [[0.19177198]]\n",
      "train MSE : 18.423285809082806 / train R^2 : 0.29859565046505787\n",
      "test MSE : 15.44584710102701 / test R^2 : 0.5517859862517418\n"
     ]
    }
   ],
   "source": [
    "# 모델 설정\n",
    "model = linear_model.LinearRegression()\n",
    "\n",
    "# 모델 훈련하기\n",
    "model.fit(X_train[['Radio']], y_train)\n",
    "\n",
    "# 예측하기 - 훈련용\n",
    "y_train_pred = model.predict(X_train[['Radio']])\n",
    "# 예측하기 - 평가용\n",
    "y_test_pred = model.predict(X_test[['Radio']])\n",
    "\n",
    "# 기울기, 훈련용 MSE, 훈련용 R^2, 평가용 MSE, 평가용 R^2 확인하기\n",
    "print('기울기 (coefficient) :', model.coef_)\n",
    "print('train MSE :', mean_squared_error(y_train, y_train_pred), '/ train R^2 :', r2_score(y_train, y_train_pred))\n",
    "print('test MSE :', mean_squared_error(y_test, y_test_pred), '/ test R^2 :', r2_score(y_test, y_test_pred))"
   ]
  },
  {
   "cell_type": "code",
   "execution_count": 37,
   "id": "656eeb9d-383a-48f3-8854-bacd6b8c73eb",
   "metadata": {
    "scrolled": true
   },
   "outputs": [
    {
     "data": {
      "text/html": [
       "<table class=\"simpletable\">\n",
       "<caption>OLS Regression Results</caption>\n",
       "<tr>\n",
       "  <th>Dep. Variable:</th>          <td>Sales</td>      <th>  R-squared:         </th> <td>   0.299</td>\n",
       "</tr>\n",
       "<tr>\n",
       "  <th>Model:</th>                   <td>OLS</td>       <th>  Adj. R-squared:    </th> <td>   0.295</td>\n",
       "</tr>\n",
       "<tr>\n",
       "  <th>Method:</th>             <td>Least Squares</td>  <th>  F-statistic:       </th> <td>   75.78</td>\n",
       "</tr>\n",
       "<tr>\n",
       "  <th>Date:</th>             <td>Fri, 14 Jun 2024</td> <th>  Prob (F-statistic):</th> <td>2.11e-15</td>\n",
       "</tr>\n",
       "<tr>\n",
       "  <th>Time:</th>                 <td>17:18:39</td>     <th>  Log-Likelihood:    </th> <td> -517.63</td>\n",
       "</tr>\n",
       "<tr>\n",
       "  <th>No. Observations:</th>      <td>   180</td>      <th>  AIC:               </th> <td>   1039.</td>\n",
       "</tr>\n",
       "<tr>\n",
       "  <th>Df Residuals:</th>          <td>   178</td>      <th>  BIC:               </th> <td>   1046.</td>\n",
       "</tr>\n",
       "<tr>\n",
       "  <th>Df Model:</th>              <td>     1</td>      <th>                     </th>     <td> </td>   \n",
       "</tr>\n",
       "<tr>\n",
       "  <th>Covariance Type:</th>      <td>nonrobust</td>    <th>                     </th>     <td> </td>   \n",
       "</tr>\n",
       "</table>\n",
       "<table class=\"simpletable\">\n",
       "<tr>\n",
       "    <td></td>       <th>coef</th>     <th>std err</th>      <th>t</th>      <th>P>|t|</th>  <th>[0.025</th>    <th>0.975]</th>  \n",
       "</tr>\n",
       "<tr>\n",
       "  <th>x0</th>    <td>    9.4721</td> <td>    0.614</td> <td>   15.433</td> <td> 0.000</td> <td>    8.261</td> <td>   10.683</td>\n",
       "</tr>\n",
       "<tr>\n",
       "  <th>Radio</th> <td>    0.1918</td> <td>    0.022</td> <td>    8.705</td> <td> 0.000</td> <td>    0.148</td> <td>    0.235</td>\n",
       "</tr>\n",
       "</table>\n",
       "<table class=\"simpletable\">\n",
       "<tr>\n",
       "  <th>Omnibus:</th>       <td>16.101</td> <th>  Durbin-Watson:     </th> <td>   2.002</td>\n",
       "</tr>\n",
       "<tr>\n",
       "  <th>Prob(Omnibus):</th> <td> 0.000</td> <th>  Jarque-Bera (JB):  </th> <td>  17.639</td>\n",
       "</tr>\n",
       "<tr>\n",
       "  <th>Skew:</th>          <td>-0.734</td> <th>  Prob(JB):          </th> <td>0.000148</td>\n",
       "</tr>\n",
       "<tr>\n",
       "  <th>Kurtosis:</th>      <td> 3.441</td> <th>  Cond. No.          </th> <td>    53.2</td>\n",
       "</tr>\n",
       "</table><br/><br/>Notes:<br/>[1] Standard Errors assume that the covariance matrix of the errors is correctly specified."
      ],
      "text/latex": [
       "\\begin{center}\n",
       "\\begin{tabular}{lclc}\n",
       "\\toprule\n",
       "\\textbf{Dep. Variable:}    &      Sales       & \\textbf{  R-squared:         } &     0.299   \\\\\n",
       "\\textbf{Model:}            &       OLS        & \\textbf{  Adj. R-squared:    } &     0.295   \\\\\n",
       "\\textbf{Method:}           &  Least Squares   & \\textbf{  F-statistic:       } &     75.78   \\\\\n",
       "\\textbf{Date:}             & Fri, 14 Jun 2024 & \\textbf{  Prob (F-statistic):} &  2.11e-15   \\\\\n",
       "\\textbf{Time:}             &     17:18:39     & \\textbf{  Log-Likelihood:    } &   -517.63   \\\\\n",
       "\\textbf{No. Observations:} &         180      & \\textbf{  AIC:               } &     1039.   \\\\\n",
       "\\textbf{Df Residuals:}     &         178      & \\textbf{  BIC:               } &     1046.   \\\\\n",
       "\\textbf{Df Model:}         &           1      & \\textbf{                     } &             \\\\\n",
       "\\textbf{Covariance Type:}  &    nonrobust     & \\textbf{                     } &             \\\\\n",
       "\\bottomrule\n",
       "\\end{tabular}\n",
       "\\begin{tabular}{lcccccc}\n",
       "               & \\textbf{coef} & \\textbf{std err} & \\textbf{t} & \\textbf{P$> |$t$|$} & \\textbf{[0.025} & \\textbf{0.975]}  \\\\\n",
       "\\midrule\n",
       "\\textbf{x0}    &       9.4721  &        0.614     &    15.433  &         0.000        &        8.261    &       10.683     \\\\\n",
       "\\textbf{Radio} &       0.1918  &        0.022     &     8.705  &         0.000        &        0.148    &        0.235     \\\\\n",
       "\\bottomrule\n",
       "\\end{tabular}\n",
       "\\begin{tabular}{lclc}\n",
       "\\textbf{Omnibus:}       & 16.101 & \\textbf{  Durbin-Watson:     } &    2.002  \\\\\n",
       "\\textbf{Prob(Omnibus):} &  0.000 & \\textbf{  Jarque-Bera (JB):  } &   17.639  \\\\\n",
       "\\textbf{Skew:}          & -0.734 & \\textbf{  Prob(JB):          } & 0.000148  \\\\\n",
       "\\textbf{Kurtosis:}      &  3.441 & \\textbf{  Cond. No.          } &     53.2  \\\\\n",
       "\\bottomrule\n",
       "\\end{tabular}\n",
       "%\\caption{OLS Regression Results}\n",
       "\\end{center}\n",
       "\n",
       "Notes: \\newline\n",
       " [1] Standard Errors assume that the covariance matrix of the errors is correctly specified."
      ],
      "text/plain": [
       "<class 'statsmodels.iolib.summary.Summary'>\n",
       "\"\"\"\n",
       "                            OLS Regression Results                            \n",
       "==============================================================================\n",
       "Dep. Variable:                  Sales   R-squared:                       0.299\n",
       "Model:                            OLS   Adj. R-squared:                  0.295\n",
       "Method:                 Least Squares   F-statistic:                     75.78\n",
       "Date:                Fri, 14 Jun 2024   Prob (F-statistic):           2.11e-15\n",
       "Time:                        17:18:39   Log-Likelihood:                -517.63\n",
       "No. Observations:                 180   AIC:                             1039.\n",
       "Df Residuals:                     178   BIC:                             1046.\n",
       "Df Model:                           1                                         \n",
       "Covariance Type:            nonrobust                                         \n",
       "==============================================================================\n",
       "                 coef    std err          t      P>|t|      [0.025      0.975]\n",
       "------------------------------------------------------------------------------\n",
       "x0             9.4721      0.614     15.433      0.000       8.261      10.683\n",
       "Radio          0.1918      0.022      8.705      0.000       0.148       0.235\n",
       "==============================================================================\n",
       "Omnibus:                       16.101   Durbin-Watson:                   2.002\n",
       "Prob(Omnibus):                  0.000   Jarque-Bera (JB):               17.639\n",
       "Skew:                          -0.734   Prob(JB):                     0.000148\n",
       "Kurtosis:                       3.441   Cond. No.                         53.2\n",
       "==============================================================================\n",
       "\n",
       "Notes:\n",
       "[1] Standard Errors assume that the covariance matrix of the errors is correctly specified.\n",
       "\"\"\""
      ]
     },
     "execution_count": 37,
     "metadata": {},
     "output_type": "execute_result"
    }
   ],
   "source": [
    "# statsmodels 활용하기\n",
    "model = sm.OLS(y_train, sm_X_train[['x0', 'Radio']]).fit()\n",
    "model.summary()"
   ]
  },
  {
   "cell_type": "code",
   "execution_count": 38,
   "id": "2af13972-20e7-46c6-bae0-ae312cdfd5e1",
   "metadata": {
    "scrolled": true
   },
   "outputs": [
    {
     "data": {
      "image/png": "[encoded data removed]",
      "text/plain": [
       "<Figure size 640x480 with 1 Axes>"
      ]
     },
     "metadata": {},
     "output_type": "display_data"
    }
   ],
   "source": [
    "# 시각화하기\n",
    "# train data\n",
    "plt.scatter(X_train.Radio, y_train.Sales, color='gray')\n",
    "# test data\n",
    "plt.scatter(X_test.Radio, y_test.Sales, color='red')\n",
    "# 회귀선 그려보기\n",
    "plt.plot(X_train.Radio, y_train_pred, color='green', linewidth=2)\n",
    "# 예측값 확인\n",
    "plt.scatter(X_test.Radio, y_test_pred, color='blue', marker='^')\n",
    "\n",
    "plt.xlabel('Radio')\n",
    "plt.ylabel('Sales')\n",
    "\n",
    "plt.grid()\n",
    "plt.show()"
   ]
  },
  {
   "cell_type": "markdown",
   "id": "5baddcef-d3a0-44ab-ade8-2b97255ff47a",
   "metadata": {},
   "source": [
    "* newspaper"
   ]
  },
  {
   "cell_type": "code",
   "execution_count": 40,
   "id": "b5e2721b-d8af-44c0-9122-d4aa5150e55d",
   "metadata": {},
   "outputs": [
    {
     "name": "stdout",
     "output_type": "stream",
     "text": [
      "기울기 (coefficient) : [[0.04801078]]\n",
      "train MSE : 25.17468566316838 / train R^2 : 0.04155891596623251\n",
      "test MSE : 30.406463968176674 / test R^2 : 0.11765258519475585\n"
     ]
    }
   ],
   "source": [
    "# 모델 설정\n",
    "model = linear_model.LinearRegression()\n",
    "\n",
    "# 모델 훈련하기\n",
    "model.fit(X_train[['Newspaper']], y_train)\n",
    "\n",
    "# 예측하기 - 훈련용\n",
    "y_train_pred = model.predict(X_train[['Newspaper']])\n",
    "# 예측하기 - 평가용\n",
    "y_test_pred = model.predict(X_test[['Newspaper']])\n",
    "\n",
    "# 기울기, 훈련용 MSE, 훈련용 R^2, 평가용 MSE, 평가용 R^2 확인하기\n",
    "print('기울기 (coefficient) :', model.coef_)\n",
    "print('train MSE :', mean_squared_error(y_train, y_train_pred), '/ train R^2 :', r2_score(y_train, y_train_pred))\n",
    "print('test MSE :', mean_squared_error(y_test, y_test_pred), '/ test R^2 :', r2_score(y_test, y_test_pred))"
   ]
  },
  {
   "cell_type": "code",
   "execution_count": 41,
   "id": "1e7872ab-3d5a-44c1-86ab-fd1ea5a9e667",
   "metadata": {
    "scrolled": true
   },
   "outputs": [
    {
     "data": {
      "text/html": [
       "<table class=\"simpletable\">\n",
       "<caption>OLS Regression Results</caption>\n",
       "<tr>\n",
       "  <th>Dep. Variable:</th>          <td>Sales</td>      <th>  R-squared:         </th> <td>   0.042</td>\n",
       "</tr>\n",
       "<tr>\n",
       "  <th>Model:</th>                   <td>OLS</td>       <th>  Adj. R-squared:    </th> <td>   0.036</td>\n",
       "</tr>\n",
       "<tr>\n",
       "  <th>Method:</th>             <td>Least Squares</td>  <th>  F-statistic:       </th> <td>   7.718</td>\n",
       "</tr>\n",
       "<tr>\n",
       "  <th>Date:</th>             <td>Fri, 14 Jun 2024</td> <th>  Prob (F-statistic):</th>  <td>0.00605</td>\n",
       "</tr>\n",
       "<tr>\n",
       "  <th>Time:</th>                 <td>17:22:39</td>     <th>  Log-Likelihood:    </th> <td> -545.73</td>\n",
       "</tr>\n",
       "<tr>\n",
       "  <th>No. Observations:</th>      <td>   180</td>      <th>  AIC:               </th> <td>   1095.</td>\n",
       "</tr>\n",
       "<tr>\n",
       "  <th>Df Residuals:</th>          <td>   178</td>      <th>  BIC:               </th> <td>   1102.</td>\n",
       "</tr>\n",
       "<tr>\n",
       "  <th>Df Model:</th>              <td>     1</td>      <th>                     </th>     <td> </td>   \n",
       "</tr>\n",
       "<tr>\n",
       "  <th>Covariance Type:</th>      <td>nonrobust</td>    <th>                     </th>     <td> </td>   \n",
       "</tr>\n",
       "</table>\n",
       "<table class=\"simpletable\">\n",
       "<tr>\n",
       "      <td></td>         <th>coef</th>     <th>std err</th>      <th>t</th>      <th>P>|t|</th>  <th>[0.025</th>    <th>0.975]</th>  \n",
       "</tr>\n",
       "<tr>\n",
       "  <th>x0</th>        <td>   12.5030</td> <td>    0.664</td> <td>   18.839</td> <td> 0.000</td> <td>   11.193</td> <td>   13.813</td>\n",
       "</tr>\n",
       "<tr>\n",
       "  <th>Newspaper</th> <td>    0.0480</td> <td>    0.017</td> <td>    2.778</td> <td> 0.006</td> <td>    0.014</td> <td>    0.082</td>\n",
       "</tr>\n",
       "</table>\n",
       "<table class=\"simpletable\">\n",
       "<tr>\n",
       "  <th>Omnibus:</th>       <td> 4.929</td> <th>  Durbin-Watson:     </th> <td>   1.976</td>\n",
       "</tr>\n",
       "<tr>\n",
       "  <th>Prob(Omnibus):</th> <td> 0.085</td> <th>  Jarque-Bera (JB):  </th> <td>   4.653</td>\n",
       "</tr>\n",
       "<tr>\n",
       "  <th>Skew:</th>          <td> 0.336</td> <th>  Prob(JB):          </th> <td>  0.0976</td>\n",
       "</tr>\n",
       "<tr>\n",
       "  <th>Kurtosis:</th>      <td> 2.590</td> <th>  Cond. No.          </th> <td>    67.8</td>\n",
       "</tr>\n",
       "</table><br/><br/>Notes:<br/>[1] Standard Errors assume that the covariance matrix of the errors is correctly specified."
      ],
      "text/latex": [
       "\\begin{center}\n",
       "\\begin{tabular}{lclc}\n",
       "\\toprule\n",
       "\\textbf{Dep. Variable:}    &      Sales       & \\textbf{  R-squared:         } &     0.042   \\\\\n",
       "\\textbf{Model:}            &       OLS        & \\textbf{  Adj. R-squared:    } &     0.036   \\\\\n",
       "\\textbf{Method:}           &  Least Squares   & \\textbf{  F-statistic:       } &     7.718   \\\\\n",
       "\\textbf{Date:}             & Fri, 14 Jun 2024 & \\textbf{  Prob (F-statistic):} &  0.00605    \\\\\n",
       "\\textbf{Time:}             &     17:22:39     & \\textbf{  Log-Likelihood:    } &   -545.73   \\\\\n",
       "\\textbf{No. Observations:} &         180      & \\textbf{  AIC:               } &     1095.   \\\\\n",
       "\\textbf{Df Residuals:}     &         178      & \\textbf{  BIC:               } &     1102.   \\\\\n",
       "\\textbf{Df Model:}         &           1      & \\textbf{                     } &             \\\\\n",
       "\\textbf{Covariance Type:}  &    nonrobust     & \\textbf{                     } &             \\\\\n",
       "\\bottomrule\n",
       "\\end{tabular}\n",
       "\\begin{tabular}{lcccccc}\n",
       "                   & \\textbf{coef} & \\textbf{std err} & \\textbf{t} & \\textbf{P$> |$t$|$} & \\textbf{[0.025} & \\textbf{0.975]}  \\\\\n",
       "\\midrule\n",
       "\\textbf{x0}        &      12.5030  &        0.664     &    18.839  &         0.000        &       11.193    &       13.813     \\\\\n",
       "\\textbf{Newspaper} &       0.0480  &        0.017     &     2.778  &         0.006        &        0.014    &        0.082     \\\\\n",
       "\\bottomrule\n",
       "\\end{tabular}\n",
       "\\begin{tabular}{lclc}\n",
       "\\textbf{Omnibus:}       &  4.929 & \\textbf{  Durbin-Watson:     } &    1.976  \\\\\n",
       "\\textbf{Prob(Omnibus):} &  0.085 & \\textbf{  Jarque-Bera (JB):  } &    4.653  \\\\\n",
       "\\textbf{Skew:}          &  0.336 & \\textbf{  Prob(JB):          } &   0.0976  \\\\\n",
       "\\textbf{Kurtosis:}      &  2.590 & \\textbf{  Cond. No.          } &     67.8  \\\\\n",
       "\\bottomrule\n",
       "\\end{tabular}\n",
       "%\\caption{OLS Regression Results}\n",
       "\\end{center}\n",
       "\n",
       "Notes: \\newline\n",
       " [1] Standard Errors assume that the covariance matrix of the errors is correctly specified."
      ],
      "text/plain": [
       "<class 'statsmodels.iolib.summary.Summary'>\n",
       "\"\"\"\n",
       "                            OLS Regression Results                            \n",
       "==============================================================================\n",
       "Dep. Variable:                  Sales   R-squared:                       0.042\n",
       "Model:                            OLS   Adj. R-squared:                  0.036\n",
       "Method:                 Least Squares   F-statistic:                     7.718\n",
       "Date:                Fri, 14 Jun 2024   Prob (F-statistic):            0.00605\n",
       "Time:                        17:22:39   Log-Likelihood:                -545.73\n",
       "No. Observations:                 180   AIC:                             1095.\n",
       "Df Residuals:                     178   BIC:                             1102.\n",
       "Df Model:                           1                                         \n",
       "Covariance Type:            nonrobust                                         \n",
       "==============================================================================\n",
       "                 coef    std err          t      P>|t|      [0.025      0.975]\n",
       "------------------------------------------------------------------------------\n",
       "x0            12.5030      0.664     18.839      0.000      11.193      13.813\n",
       "Newspaper      0.0480      0.017      2.778      0.006       0.014       0.082\n",
       "==============================================================================\n",
       "Omnibus:                        4.929   Durbin-Watson:                   1.976\n",
       "Prob(Omnibus):                  0.085   Jarque-Bera (JB):                4.653\n",
       "Skew:                           0.336   Prob(JB):                       0.0976\n",
       "Kurtosis:                       2.590   Cond. No.                         67.8\n",
       "==============================================================================\n",
       "\n",
       "Notes:\n",
       "[1] Standard Errors assume that the covariance matrix of the errors is correctly specified.\n",
       "\"\"\""
      ]
     },
     "execution_count": 41,
     "metadata": {},
     "output_type": "execute_result"
    }
   ],
   "source": [
    "# statsmodels 활용하기\n",
    "model = sm.OLS(y_train, sm_X_train[['x0', 'Newspaper']]).fit()\n",
    "model.summary()"
   ]
  },
  {
   "cell_type": "code",
   "execution_count": 42,
   "id": "bc88fed6-a46e-4a4f-aabf-b3ae75d3aa0a",
   "metadata": {
    "scrolled": true
   },
   "outputs": [
    {
     "data": {
      "image/png": "[encoded data removed]",
      "text/plain": [
       "<Figure size 640x480 with 1 Axes>"
      ]
     },
     "metadata": {},
     "output_type": "display_data"
    }
   ],
   "source": [
    "# 시각화하기\n",
    "# train data\n",
    "plt.scatter(X_train.Newspaper, y_train.Sales, color='gray')\n",
    "# test data\n",
    "plt.scatter(X_test.Newspaper, y_test.Sales, color='red')\n",
    "# 회귀선 그려보기\n",
    "plt.plot(X_train.Newspaper, y_train_pred, color='green', linewidth=2)\n",
    "# 예측값 확인\n",
    "plt.scatter(X_test.Newspaper, y_test_pred, color='blue', marker='^')\n",
    "\n",
    "plt.xlabel('Newspaper')\n",
    "plt.ylabel('Sales')\n",
    "\n",
    "plt.grid()\n",
    "plt.show()"
   ]
  }
 ],
 "metadata": {
  "kernelspec": {
   "display_name": "Python 3 (ipykernel)",
   "language": "python",
   "name": "python3"
  },
  "language_info": {
   "codemirror_mode": {
    "name": "ipython",
    "version": 3
   },
   "file_extension": ".py",
   "mimetype": "text/x-python",
   "name": "python",
   "nbconvert_exporter": "python",
   "pygments_lexer": "ipython3",
   "version": "3.11.7"
  }
 },
 "nbformat": 4,
 "nbformat_minor": 5
}
