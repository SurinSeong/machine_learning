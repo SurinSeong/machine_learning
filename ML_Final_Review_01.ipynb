{
 "cells": [
  {
   "cell_type": "markdown",
   "id": "4cc299bf-e0a2-477b-811c-8c94c526f9fc",
   "metadata": {},
   "source": [
    "# 지도 학습 - Classification"
   ]
  },
  {
   "cell_type": "code",
   "execution_count": 1,
   "id": "e1722515-d1a2-4cb3-90d4-df5c3474a720",
   "metadata": {},
   "outputs": [],
   "source": [
    "# 필요한 라이브러리 로드\n",
    "import numpy as np\n",
    "import pandas as pd\n",
    "import matplotlib.pyplot as plt\n",
    "import seaborn as sns\n",
    "\n",
    "from matplotlib import font_manager, rc, cm\n",
    "import matplotlib as mpl\n",
    "\n",
    "# 마이너스 깨짐 현상 해결하기\n",
    "mpl.rcParams['axes.unicode_minus'] = False\n",
    "# 한글 폰트 지정\n",
    "plt.rcParams['font.family'] = 'NanumGothic'"
   ]
  },
  {
   "cell_type": "markdown",
   "id": "66d523d3-9bb1-4226-ba7e-b13c20006ba9",
   "metadata": {},
   "source": [
    "## 데이터 준비"
   ]
  },
  {
   "cell_type": "code",
   "execution_count": 79,
   "id": "84d18240-221e-4e48-b9c7-1ff28b171142",
   "metadata": {},
   "outputs": [],
   "source": [
    "## titanic 데이터 ##\n",
    "# 파일 경로 설정\n",
    "file_path = 'https://raw.githubusercontent.com/datasciencedojo/datasets/master/titanic.csv'\n",
    "\n",
    "# csv를 DF로 가져오기\n",
    "raw = pd.read_csv(file_path, index_col=0)"
   ]
  },
  {
   "cell_type": "code",
   "execution_count": 80,
   "id": "2d8864b4-da9f-450d-af25-827bd8f89806",
   "metadata": {},
   "outputs": [
    {
     "name": "stdout",
     "output_type": "stream",
     "text": [
      "(891, 11)\n"
     ]
    },
    {
     "data": {
      "text/html": [
       "<div>\n",
       "<style scoped>\n",
       "    .dataframe tbody tr th:only-of-type {\n",
       "        vertical-align: middle;\n",
       "    }\n",
       "\n",
       "    .dataframe tbody tr th {\n",
       "        vertical-align: top;\n",
       "    }\n",
       "\n",
       "    .dataframe thead th {\n",
       "        text-align: right;\n",
       "    }\n",
       "</style>\n",
       "<table border=\"1\" class=\"dataframe\">\n",
       "  <thead>\n",
       "    <tr style=\"text-align: right;\">\n",
       "      <th></th>\n",
       "      <th>Survived</th>\n",
       "      <th>Pclass</th>\n",
       "      <th>Name</th>\n",
       "      <th>Sex</th>\n",
       "      <th>Age</th>\n",
       "      <th>SibSp</th>\n",
       "      <th>Parch</th>\n",
       "      <th>Ticket</th>\n",
       "      <th>Fare</th>\n",
       "      <th>Cabin</th>\n",
       "      <th>Embarked</th>\n",
       "    </tr>\n",
       "    <tr>\n",
       "      <th>PassengerId</th>\n",
       "      <th></th>\n",
       "      <th></th>\n",
       "      <th></th>\n",
       "      <th></th>\n",
       "      <th></th>\n",
       "      <th></th>\n",
       "      <th></th>\n",
       "      <th></th>\n",
       "      <th></th>\n",
       "      <th></th>\n",
       "      <th></th>\n",
       "    </tr>\n",
       "  </thead>\n",
       "  <tbody>\n",
       "    <tr>\n",
       "      <th>1</th>\n",
       "      <td>0</td>\n",
       "      <td>3</td>\n",
       "      <td>Braund, Mr. Owen Harris</td>\n",
       "      <td>male</td>\n",
       "      <td>22.0</td>\n",
       "      <td>1</td>\n",
       "      <td>0</td>\n",
       "      <td>A/5 21171</td>\n",
       "      <td>7.2500</td>\n",
       "      <td>NaN</td>\n",
       "      <td>S</td>\n",
       "    </tr>\n",
       "    <tr>\n",
       "      <th>2</th>\n",
       "      <td>1</td>\n",
       "      <td>1</td>\n",
       "      <td>Cumings, Mrs. John Bradley (Florence Briggs Th...</td>\n",
       "      <td>female</td>\n",
       "      <td>38.0</td>\n",
       "      <td>1</td>\n",
       "      <td>0</td>\n",
       "      <td>PC 17599</td>\n",
       "      <td>71.2833</td>\n",
       "      <td>C85</td>\n",
       "      <td>C</td>\n",
       "    </tr>\n",
       "  </tbody>\n",
       "</table>\n",
       "</div>"
      ],
      "text/plain": [
       "             Survived  Pclass  \\\n",
       "PassengerId                     \n",
       "1                   0       3   \n",
       "2                   1       1   \n",
       "\n",
       "                                                          Name     Sex   Age  \\\n",
       "PassengerId                                                                    \n",
       "1                                      Braund, Mr. Owen Harris    male  22.0   \n",
       "2            Cumings, Mrs. John Bradley (Florence Briggs Th...  female  38.0   \n",
       "\n",
       "             SibSp  Parch     Ticket     Fare Cabin Embarked  \n",
       "PassengerId                                                   \n",
       "1                1      0  A/5 21171   7.2500   NaN        S  \n",
       "2                1      0   PC 17599  71.2833   C85        C  "
      ]
     },
     "execution_count": 80,
     "metadata": {},
     "output_type": "execute_result"
    }
   ],
   "source": [
    "titanic = raw.copy()\n",
    "print(titanic.shape)\n",
    "titanic.head(2)"
   ]
  },
  {
   "cell_type": "code",
   "execution_count": 81,
   "id": "141fb159-26e0-4d91-8a3c-a4310812c5a2",
   "metadata": {},
   "outputs": [
    {
     "name": "stdout",
     "output_type": "stream",
     "text": [
      "<class 'pandas.core.frame.DataFrame'>\n",
      "Index: 891 entries, 1 to 891\n",
      "Data columns (total 11 columns):\n",
      " #   Column    Non-Null Count  Dtype  \n",
      "---  ------    --------------  -----  \n",
      " 0   Survived  891 non-null    int64  \n",
      " 1   Pclass    891 non-null    int64  \n",
      " 2   Name      891 non-null    object \n",
      " 3   Sex       891 non-null    object \n",
      " 4   Age       714 non-null    float64\n",
      " 5   SibSp     891 non-null    int64  \n",
      " 6   Parch     891 non-null    int64  \n",
      " 7   Ticket    891 non-null    object \n",
      " 8   Fare      891 non-null    float64\n",
      " 9   Cabin     204 non-null    object \n",
      " 10  Embarked  889 non-null    object \n",
      "dtypes: float64(2), int64(4), object(5)\n",
      "memory usage: 83.5+ KB\n"
     ]
    }
   ],
   "source": [
    "# 컬럼별 정보 확인\n",
    "titanic.info()"
   ]
  },
  {
   "cell_type": "code",
   "execution_count": 82,
   "id": "424d0e79-ac47-4116-a5ae-e71881df7b6b",
   "metadata": {},
   "outputs": [
    {
     "data": {
      "text/plain": [
       "Survived      0\n",
       "Pclass        0\n",
       "Name          0\n",
       "Sex           0\n",
       "Age         177\n",
       "SibSp         0\n",
       "Parch         0\n",
       "Ticket        0\n",
       "Fare          0\n",
       "Cabin       687\n",
       "Embarked      2\n",
       "dtype: int64"
      ]
     },
     "execution_count": 82,
     "metadata": {},
     "output_type": "execute_result"
    }
   ],
   "source": [
    "titanic.isnull().sum()"
   ]
  },
  {
   "cell_type": "markdown",
   "id": "e727817d-a52c-4a60-b3cf-fce947494a77",
   "metadata": {},
   "source": [
    "**결측치**\n",
    "1. Age : 177 (애매하게 결측치가 있어서 대체를 해줘야 할 듯 함.)\n",
    "2. Cabin : 687 (결측치가 가장 많음. 필요하지 않은 데이터이면 삭제해도 괜찮을 것 같음.)\n",
    "3. Embarked : 2 ==> 최빈값으로 대체해줘도 괜찮을 것 같음."
   ]
  },
  {
   "cell_type": "code",
   "execution_count": 83,
   "id": "9e589a2b-1487-4c9f-9f9d-4ba4430f9b42",
   "metadata": {},
   "outputs": [
    {
     "data": {
      "text/html": [
       "<div>\n",
       "<style scoped>\n",
       "    .dataframe tbody tr th:only-of-type {\n",
       "        vertical-align: middle;\n",
       "    }\n",
       "\n",
       "    .dataframe tbody tr th {\n",
       "        vertical-align: top;\n",
       "    }\n",
       "\n",
       "    .dataframe thead th {\n",
       "        text-align: right;\n",
       "    }\n",
       "</style>\n",
       "<table border=\"1\" class=\"dataframe\">\n",
       "  <thead>\n",
       "    <tr style=\"text-align: right;\">\n",
       "      <th></th>\n",
       "      <th>Survived</th>\n",
       "      <th>Pclass</th>\n",
       "      <th>Name</th>\n",
       "      <th>Sex</th>\n",
       "      <th>Age</th>\n",
       "      <th>SibSp</th>\n",
       "      <th>Parch</th>\n",
       "      <th>Ticket</th>\n",
       "      <th>Fare</th>\n",
       "      <th>Cabin</th>\n",
       "      <th>Embarked</th>\n",
       "    </tr>\n",
       "  </thead>\n",
       "  <tbody>\n",
       "    <tr>\n",
       "      <th>count</th>\n",
       "      <td>891.000000</td>\n",
       "      <td>891.000000</td>\n",
       "      <td>891</td>\n",
       "      <td>891</td>\n",
       "      <td>714.000000</td>\n",
       "      <td>891.000000</td>\n",
       "      <td>891.000000</td>\n",
       "      <td>891</td>\n",
       "      <td>891.000000</td>\n",
       "      <td>204</td>\n",
       "      <td>889</td>\n",
       "    </tr>\n",
       "    <tr>\n",
       "      <th>unique</th>\n",
       "      <td>NaN</td>\n",
       "      <td>NaN</td>\n",
       "      <td>891</td>\n",
       "      <td>2</td>\n",
       "      <td>NaN</td>\n",
       "      <td>NaN</td>\n",
       "      <td>NaN</td>\n",
       "      <td>681</td>\n",
       "      <td>NaN</td>\n",
       "      <td>147</td>\n",
       "      <td>3</td>\n",
       "    </tr>\n",
       "    <tr>\n",
       "      <th>top</th>\n",
       "      <td>NaN</td>\n",
       "      <td>NaN</td>\n",
       "      <td>Braund, Mr. Owen Harris</td>\n",
       "      <td>male</td>\n",
       "      <td>NaN</td>\n",
       "      <td>NaN</td>\n",
       "      <td>NaN</td>\n",
       "      <td>347082</td>\n",
       "      <td>NaN</td>\n",
       "      <td>B96 B98</td>\n",
       "      <td>S</td>\n",
       "    </tr>\n",
       "    <tr>\n",
       "      <th>freq</th>\n",
       "      <td>NaN</td>\n",
       "      <td>NaN</td>\n",
       "      <td>1</td>\n",
       "      <td>577</td>\n",
       "      <td>NaN</td>\n",
       "      <td>NaN</td>\n",
       "      <td>NaN</td>\n",
       "      <td>7</td>\n",
       "      <td>NaN</td>\n",
       "      <td>4</td>\n",
       "      <td>644</td>\n",
       "    </tr>\n",
       "    <tr>\n",
       "      <th>mean</th>\n",
       "      <td>0.383838</td>\n",
       "      <td>2.308642</td>\n",
       "      <td>NaN</td>\n",
       "      <td>NaN</td>\n",
       "      <td>29.699118</td>\n",
       "      <td>0.523008</td>\n",
       "      <td>0.381594</td>\n",
       "      <td>NaN</td>\n",
       "      <td>32.204208</td>\n",
       "      <td>NaN</td>\n",
       "      <td>NaN</td>\n",
       "    </tr>\n",
       "    <tr>\n",
       "      <th>std</th>\n",
       "      <td>0.486592</td>\n",
       "      <td>0.836071</td>\n",
       "      <td>NaN</td>\n",
       "      <td>NaN</td>\n",
       "      <td>14.526497</td>\n",
       "      <td>1.102743</td>\n",
       "      <td>0.806057</td>\n",
       "      <td>NaN</td>\n",
       "      <td>49.693429</td>\n",
       "      <td>NaN</td>\n",
       "      <td>NaN</td>\n",
       "    </tr>\n",
       "    <tr>\n",
       "      <th>min</th>\n",
       "      <td>0.000000</td>\n",
       "      <td>1.000000</td>\n",
       "      <td>NaN</td>\n",
       "      <td>NaN</td>\n",
       "      <td>0.420000</td>\n",
       "      <td>0.000000</td>\n",
       "      <td>0.000000</td>\n",
       "      <td>NaN</td>\n",
       "      <td>0.000000</td>\n",
       "      <td>NaN</td>\n",
       "      <td>NaN</td>\n",
       "    </tr>\n",
       "    <tr>\n",
       "      <th>25%</th>\n",
       "      <td>0.000000</td>\n",
       "      <td>2.000000</td>\n",
       "      <td>NaN</td>\n",
       "      <td>NaN</td>\n",
       "      <td>20.125000</td>\n",
       "      <td>0.000000</td>\n",
       "      <td>0.000000</td>\n",
       "      <td>NaN</td>\n",
       "      <td>7.910400</td>\n",
       "      <td>NaN</td>\n",
       "      <td>NaN</td>\n",
       "    </tr>\n",
       "    <tr>\n",
       "      <th>50%</th>\n",
       "      <td>0.000000</td>\n",
       "      <td>3.000000</td>\n",
       "      <td>NaN</td>\n",
       "      <td>NaN</td>\n",
       "      <td>28.000000</td>\n",
       "      <td>0.000000</td>\n",
       "      <td>0.000000</td>\n",
       "      <td>NaN</td>\n",
       "      <td>14.454200</td>\n",
       "      <td>NaN</td>\n",
       "      <td>NaN</td>\n",
       "    </tr>\n",
       "    <tr>\n",
       "      <th>75%</th>\n",
       "      <td>1.000000</td>\n",
       "      <td>3.000000</td>\n",
       "      <td>NaN</td>\n",
       "      <td>NaN</td>\n",
       "      <td>38.000000</td>\n",
       "      <td>1.000000</td>\n",
       "      <td>0.000000</td>\n",
       "      <td>NaN</td>\n",
       "      <td>31.000000</td>\n",
       "      <td>NaN</td>\n",
       "      <td>NaN</td>\n",
       "    </tr>\n",
       "    <tr>\n",
       "      <th>max</th>\n",
       "      <td>1.000000</td>\n",
       "      <td>3.000000</td>\n",
       "      <td>NaN</td>\n",
       "      <td>NaN</td>\n",
       "      <td>80.000000</td>\n",
       "      <td>8.000000</td>\n",
       "      <td>6.000000</td>\n",
       "      <td>NaN</td>\n",
       "      <td>512.329200</td>\n",
       "      <td>NaN</td>\n",
       "      <td>NaN</td>\n",
       "    </tr>\n",
       "  </tbody>\n",
       "</table>\n",
       "</div>"
      ],
      "text/plain": [
       "          Survived      Pclass                     Name   Sex         Age  \\\n",
       "count   891.000000  891.000000                      891   891  714.000000   \n",
       "unique         NaN         NaN                      891     2         NaN   \n",
       "top            NaN         NaN  Braund, Mr. Owen Harris  male         NaN   \n",
       "freq           NaN         NaN                        1   577         NaN   \n",
       "mean      0.383838    2.308642                      NaN   NaN   29.699118   \n",
       "std       0.486592    0.836071                      NaN   NaN   14.526497   \n",
       "min       0.000000    1.000000                      NaN   NaN    0.420000   \n",
       "25%       0.000000    2.000000                      NaN   NaN   20.125000   \n",
       "50%       0.000000    3.000000                      NaN   NaN   28.000000   \n",
       "75%       1.000000    3.000000                      NaN   NaN   38.000000   \n",
       "max       1.000000    3.000000                      NaN   NaN   80.000000   \n",
       "\n",
       "             SibSp       Parch  Ticket        Fare    Cabin Embarked  \n",
       "count   891.000000  891.000000     891  891.000000      204      889  \n",
       "unique         NaN         NaN     681         NaN      147        3  \n",
       "top            NaN         NaN  347082         NaN  B96 B98        S  \n",
       "freq           NaN         NaN       7         NaN        4      644  \n",
       "mean      0.523008    0.381594     NaN   32.204208      NaN      NaN  \n",
       "std       1.102743    0.806057     NaN   49.693429      NaN      NaN  \n",
       "min       0.000000    0.000000     NaN    0.000000      NaN      NaN  \n",
       "25%       0.000000    0.000000     NaN    7.910400      NaN      NaN  \n",
       "50%       0.000000    0.000000     NaN   14.454200      NaN      NaN  \n",
       "75%       1.000000    0.000000     NaN   31.000000      NaN      NaN  \n",
       "max       8.000000    6.000000     NaN  512.329200      NaN      NaN  "
      ]
     },
     "execution_count": 83,
     "metadata": {},
     "output_type": "execute_result"
    }
   ],
   "source": [
    "# 요약 통계량 확인\n",
    "titanic.describe(include='all')"
   ]
  },
  {
   "cell_type": "markdown",
   "id": "baf95380-5e28-4d84-9a51-cb11040e9081",
   "metadata": {},
   "source": [
    "## 데이터 처리"
   ]
  },
  {
   "cell_type": "markdown",
   "id": "a13464c3-114b-4d9c-8e49-716ada13ace5",
   "metadata": {},
   "source": [
    "### Cabin"
   ]
  },
  {
   "cell_type": "code",
   "execution_count": 84,
   "id": "e414c9fc-0012-4829-8d9f-e3769e575792",
   "metadata": {},
   "outputs": [
    {
     "data": {
      "text/plain": [
       "Cabin\n",
       "B96 B98        4\n",
       "G6             4\n",
       "C23 C25 C27    4\n",
       "C22 C26        3\n",
       "F33            3\n",
       "              ..\n",
       "E34            1\n",
       "C7             1\n",
       "C54            1\n",
       "E36            1\n",
       "C148           1\n",
       "Name: count, Length: 147, dtype: int64"
      ]
     },
     "execution_count": 84,
     "metadata": {},
     "output_type": "execute_result"
    }
   ],
   "source": [
    "titanic.Cabin.value_counts()"
   ]
  },
  {
   "cell_type": "markdown",
   "id": "da33f298-ed2c-4772-8a41-aa5f590d0c7d",
   "metadata": {},
   "source": [
    "결측치가 너무 많아 삭제"
   ]
  },
  {
   "cell_type": "code",
   "execution_count": 85,
   "id": "3105c942-c6d6-4c67-8809-e499cdf505aa",
   "metadata": {},
   "outputs": [
    {
     "name": "stdout",
     "output_type": "stream",
     "text": [
      "(891, 10)\n"
     ]
    },
    {
     "data": {
      "text/html": [
       "<div>\n",
       "<style scoped>\n",
       "    .dataframe tbody tr th:only-of-type {\n",
       "        vertical-align: middle;\n",
       "    }\n",
       "\n",
       "    .dataframe tbody tr th {\n",
       "        vertical-align: top;\n",
       "    }\n",
       "\n",
       "    .dataframe thead th {\n",
       "        text-align: right;\n",
       "    }\n",
       "</style>\n",
       "<table border=\"1\" class=\"dataframe\">\n",
       "  <thead>\n",
       "    <tr style=\"text-align: right;\">\n",
       "      <th></th>\n",
       "      <th>Survived</th>\n",
       "      <th>Pclass</th>\n",
       "      <th>Name</th>\n",
       "      <th>Sex</th>\n",
       "      <th>Age</th>\n",
       "      <th>SibSp</th>\n",
       "      <th>Parch</th>\n",
       "      <th>Ticket</th>\n",
       "      <th>Fare</th>\n",
       "      <th>Embarked</th>\n",
       "    </tr>\n",
       "    <tr>\n",
       "      <th>PassengerId</th>\n",
       "      <th></th>\n",
       "      <th></th>\n",
       "      <th></th>\n",
       "      <th></th>\n",
       "      <th></th>\n",
       "      <th></th>\n",
       "      <th></th>\n",
       "      <th></th>\n",
       "      <th></th>\n",
       "      <th></th>\n",
       "    </tr>\n",
       "  </thead>\n",
       "  <tbody>\n",
       "    <tr>\n",
       "      <th>1</th>\n",
       "      <td>0</td>\n",
       "      <td>3</td>\n",
       "      <td>Braund, Mr. Owen Harris</td>\n",
       "      <td>male</td>\n",
       "      <td>22.0</td>\n",
       "      <td>1</td>\n",
       "      <td>0</td>\n",
       "      <td>A/5 21171</td>\n",
       "      <td>7.2500</td>\n",
       "      <td>S</td>\n",
       "    </tr>\n",
       "    <tr>\n",
       "      <th>2</th>\n",
       "      <td>1</td>\n",
       "      <td>1</td>\n",
       "      <td>Cumings, Mrs. John Bradley (Florence Briggs Th...</td>\n",
       "      <td>female</td>\n",
       "      <td>38.0</td>\n",
       "      <td>1</td>\n",
       "      <td>0</td>\n",
       "      <td>PC 17599</td>\n",
       "      <td>71.2833</td>\n",
       "      <td>C</td>\n",
       "    </tr>\n",
       "  </tbody>\n",
       "</table>\n",
       "</div>"
      ],
      "text/plain": [
       "             Survived  Pclass  \\\n",
       "PassengerId                     \n",
       "1                   0       3   \n",
       "2                   1       1   \n",
       "\n",
       "                                                          Name     Sex   Age  \\\n",
       "PassengerId                                                                    \n",
       "1                                      Braund, Mr. Owen Harris    male  22.0   \n",
       "2            Cumings, Mrs. John Bradley (Florence Briggs Th...  female  38.0   \n",
       "\n",
       "             SibSp  Parch     Ticket     Fare Embarked  \n",
       "PassengerId                                             \n",
       "1                1      0  A/5 21171   7.2500        S  \n",
       "2                1      0   PC 17599  71.2833        C  "
      ]
     },
     "execution_count": 85,
     "metadata": {},
     "output_type": "execute_result"
    }
   ],
   "source": [
    "# EDA용 DF를 만든다.\n",
    "titanic_eda = titanic.drop(columns='Cabin')\n",
    "\n",
    "print(titanic_eda.shape)\n",
    "titanic_eda.head(2)"
   ]
  },
  {
   "cell_type": "markdown",
   "id": "6b220818-e7f7-4e4b-9659-48302cb14e35",
   "metadata": {},
   "source": [
    "### Embarked"
   ]
  },
  {
   "cell_type": "code",
   "execution_count": 86,
   "id": "1a2d70f1-a8bc-4182-8323-8253dc85deb1",
   "metadata": {},
   "outputs": [
    {
     "data": {
      "text/plain": [
       "Embarked\n",
       "S    644\n",
       "C    168\n",
       "Q     77\n",
       "Name: count, dtype: int64"
      ]
     },
     "execution_count": 86,
     "metadata": {},
     "output_type": "execute_result"
    }
   ],
   "source": [
    "# 빈도수 확인\n",
    "titanic_eda.Embarked.value_counts()"
   ]
  },
  {
   "cell_type": "markdown",
   "id": "3ec86039-0f9c-4bc9-ad8c-60cdd994161f",
   "metadata": {},
   "source": [
    "S : 가장 많이 존재 >> 이걸로 결측치를 대체할 것임."
   ]
  },
  {
   "cell_type": "code",
   "execution_count": 87,
   "id": "a5ffbacd-ae38-4dd4-b569-60240234a0a8",
   "metadata": {},
   "outputs": [
    {
     "data": {
      "text/plain": [
       "Survived      0\n",
       "Pclass        0\n",
       "Name          0\n",
       "Sex           0\n",
       "Age         177\n",
       "SibSp         0\n",
       "Parch         0\n",
       "Ticket        0\n",
       "Fare          0\n",
       "Embarked      0\n",
       "dtype: int64"
      ]
     },
     "execution_count": 87,
     "metadata": {},
     "output_type": "execute_result"
    }
   ],
   "source": [
    "# 최빈값으로 결측치 대체하기\n",
    "titanic_eda['Embarked'] = titanic_eda.Embarked.fillna('S')\n",
    "titanic_eda.isnull().sum()"
   ]
  },
  {
   "cell_type": "markdown",
   "id": "660a0f3f-f1e3-4f6e-9521-b7779c1ba29e",
   "metadata": {},
   "source": [
    "### AGE"
   ]
  },
  {
   "cell_type": "code",
   "execution_count": 88,
   "id": "54fce39c-3948-4239-9806-af89d76e30e7",
   "metadata": {},
   "outputs": [
    {
     "data": {
      "text/plain": [
       "count    714.000000\n",
       "mean      29.699118\n",
       "std       14.526497\n",
       "min        0.420000\n",
       "25%       20.125000\n",
       "50%       28.000000\n",
       "75%       38.000000\n",
       "max       80.000000\n",
       "Name: Age, dtype: float64"
      ]
     },
     "execution_count": 88,
     "metadata": {},
     "output_type": "execute_result"
    }
   ],
   "source": [
    "# age의 요약 통계량 확인\n",
    "titanic_eda.Age.describe()"
   ]
  },
  {
   "cell_type": "markdown",
   "id": "e9a8857a-a5e7-416b-a462-7880a3eb6e6e",
   "metadata": {},
   "source": [
    "0 ~ 80세까지 존재"
   ]
  },
  {
   "cell_type": "code",
   "execution_count": 90,
   "id": "4b6ceb74-8091-4853-a93e-851d8be97fdc",
   "metadata": {},
   "outputs": [
    {
     "data": {
      "image/png": "[encoded data removed]",
      "text/plain": [
       "<Figure size 600x400 with 1 Axes>"
      ]
     },
     "metadata": {},
     "output_type": "display_data"
    }
   ],
   "source": [
    "# age의 히스토그램 확인\n",
    "plt.figure(figsize=(6, 4))\n",
    "sns.histplot(data=titanic_eda.dropna().Age, kde=True)\n",
    "\n",
    "plt.title('Age의 분포')\n",
    "\n",
    "plt.grid()\n",
    "plt.show()"
   ]
  },
  {
   "cell_type": "markdown",
   "id": "e0b02283-977b-41e8-ab95-00b55606fa38",
   "metadata": {},
   "source": [
    "1. 평균으로 대체할지, 중앙값으로 대체할지 생각해볼 필요가 있음.\n",
    "2. AGE가 결측치가 아닌 데이터 확인하기\n",
    "    * 다른 데이터와 age와의 관계 확인"
   ]
  },
  {
   "cell_type": "code",
   "execution_count": 91,
   "id": "e2414c50-6c56-44c5-98c3-3c807045605f",
   "metadata": {},
   "outputs": [
    {
     "name": "stdout",
     "output_type": "stream",
     "text": [
      "(714, 10)\n"
     ]
    },
    {
     "data": {
      "text/html": [
       "<div>\n",
       "<style scoped>\n",
       "    .dataframe tbody tr th:only-of-type {\n",
       "        vertical-align: middle;\n",
       "    }\n",
       "\n",
       "    .dataframe tbody tr th {\n",
       "        vertical-align: top;\n",
       "    }\n",
       "\n",
       "    .dataframe thead th {\n",
       "        text-align: right;\n",
       "    }\n",
       "</style>\n",
       "<table border=\"1\" class=\"dataframe\">\n",
       "  <thead>\n",
       "    <tr style=\"text-align: right;\">\n",
       "      <th></th>\n",
       "      <th>Survived</th>\n",
       "      <th>Pclass</th>\n",
       "      <th>Name</th>\n",
       "      <th>Sex</th>\n",
       "      <th>Age</th>\n",
       "      <th>SibSp</th>\n",
       "      <th>Parch</th>\n",
       "      <th>Ticket</th>\n",
       "      <th>Fare</th>\n",
       "      <th>Embarked</th>\n",
       "    </tr>\n",
       "    <tr>\n",
       "      <th>PassengerId</th>\n",
       "      <th></th>\n",
       "      <th></th>\n",
       "      <th></th>\n",
       "      <th></th>\n",
       "      <th></th>\n",
       "      <th></th>\n",
       "      <th></th>\n",
       "      <th></th>\n",
       "      <th></th>\n",
       "      <th></th>\n",
       "    </tr>\n",
       "  </thead>\n",
       "  <tbody>\n",
       "    <tr>\n",
       "      <th>1</th>\n",
       "      <td>0</td>\n",
       "      <td>3</td>\n",
       "      <td>Braund, Mr. Owen Harris</td>\n",
       "      <td>male</td>\n",
       "      <td>22.0</td>\n",
       "      <td>1</td>\n",
       "      <td>0</td>\n",
       "      <td>A/5 21171</td>\n",
       "      <td>7.2500</td>\n",
       "      <td>S</td>\n",
       "    </tr>\n",
       "    <tr>\n",
       "      <th>2</th>\n",
       "      <td>1</td>\n",
       "      <td>1</td>\n",
       "      <td>Cumings, Mrs. John Bradley (Florence Briggs Th...</td>\n",
       "      <td>female</td>\n",
       "      <td>38.0</td>\n",
       "      <td>1</td>\n",
       "      <td>0</td>\n",
       "      <td>PC 17599</td>\n",
       "      <td>71.2833</td>\n",
       "      <td>C</td>\n",
       "    </tr>\n",
       "  </tbody>\n",
       "</table>\n",
       "</div>"
      ],
      "text/plain": [
       "             Survived  Pclass  \\\n",
       "PassengerId                     \n",
       "1                   0       3   \n",
       "2                   1       1   \n",
       "\n",
       "                                                          Name     Sex   Age  \\\n",
       "PassengerId                                                                    \n",
       "1                                      Braund, Mr. Owen Harris    male  22.0   \n",
       "2            Cumings, Mrs. John Bradley (Florence Briggs Th...  female  38.0   \n",
       "\n",
       "             SibSp  Parch     Ticket     Fare Embarked  \n",
       "PassengerId                                             \n",
       "1                1      0  A/5 21171   7.2500        S  \n",
       "2                1      0   PC 17599  71.2833        C  "
      ]
     },
     "execution_count": 91,
     "metadata": {},
     "output_type": "execute_result"
    }
   ],
   "source": [
    "# age가 notnull인 DF\n",
    "titanic_eda_notnull = titanic_eda[titanic_eda.Age.notnull()]\n",
    "print(titanic_eda_notnull.shape)\n",
    "titanic_eda_notnull.head(2)"
   ]
  },
  {
   "cell_type": "code",
   "execution_count": 92,
   "id": "f4956c7e-b2f0-4a41-bae5-b793b642723c",
   "metadata": {},
   "outputs": [
    {
     "data": {
      "text/plain": [
       "Age\n",
       "24.00    30\n",
       "22.00    27\n",
       "18.00    26\n",
       "19.00    25\n",
       "28.00    25\n",
       "         ..\n",
       "36.50     1\n",
       "55.50     1\n",
       "0.92      1\n",
       "23.50     1\n",
       "74.00     1\n",
       "Name: count, Length: 88, dtype: int64"
      ]
     },
     "execution_count": 92,
     "metadata": {},
     "output_type": "execute_result"
    }
   ],
   "source": [
    "titanic_eda_notnull.Age.value_counts()"
   ]
  },
  {
   "cell_type": "markdown",
   "id": "caaa0e55-dfb5-4ff4-b4f9-247e48b5c408",
   "metadata": {},
   "source": [
    "20, 30, 40대.. 이렇게 나타내도 좋을 것 같다."
   ]
  },
  {
   "cell_type": "code",
   "execution_count": 93,
   "id": "08534bf4-6e82-4b4e-ac06-0d67e502d788",
   "metadata": {},
   "outputs": [
    {
     "name": "stderr",
     "output_type": "stream",
     "text": [
      "C:\\Users\\tjdtn\\AppData\\Local\\Temp\\ipykernel_15652\\360184332.py:24: SettingWithCopyWarning: \n",
      "A value is trying to be set on a copy of a slice from a DataFrame.\n",
      "Try using .loc[row_indexer,col_indexer] = value instead\n",
      "\n",
      "See the caveats in the documentation: https://pandas.pydata.org/pandas-docs/stable/user_guide/indexing.html#returning-a-view-versus-a-copy\n",
      "  titanic_eda_notnull['Age_range'] = titanic_eda_notnull.Age.apply(age_range)\n"
     ]
    },
    {
     "data": {
      "text/plain": [
       "Survived     0\n",
       "Pclass       0\n",
       "Name         0\n",
       "Sex          0\n",
       "Age          0\n",
       "SibSp        0\n",
       "Parch        0\n",
       "Ticket       0\n",
       "Fare         0\n",
       "Embarked     0\n",
       "Age_range    0\n",
       "dtype: int64"
      ]
     },
     "execution_count": 93,
     "metadata": {},
     "output_type": "execute_result"
    }
   ],
   "source": [
    "# 범주형 데이터로 바꾸기\n",
    "# 컬럼명 : Age_range\n",
    "def age_range(n):\n",
    "    if n >= 80:\n",
    "        return 8\n",
    "    elif n >= 70:\n",
    "        return 7\n",
    "    elif n >= 60:\n",
    "        return 6\n",
    "    elif n >= 50:\n",
    "        return 5\n",
    "    elif n >= 40:\n",
    "        return 4\n",
    "    elif n >= 30:\n",
    "        return 3\n",
    "    elif n >= 20:\n",
    "        return 2\n",
    "    elif n >= 10:\n",
    "        return 1\n",
    "    else:\n",
    "        return 0\n",
    "\n",
    "# 새로운 컬럼 만들기\n",
    "titanic_eda_notnull['Age_range'] = titanic_eda_notnull.Age.apply(age_range)\n",
    "\n",
    "# Age 컬럼은 drop하기 - 일단 삭제하지 않을 것\n",
    "# titanic_eda_notnull = titanic_eda_notnull.drop(columns='Age')\n",
    "\n",
    "titanic_eda_notnull.isnull().sum()"
   ]
  },
  {
   "cell_type": "markdown",
   "id": "426abdf1-b929-45c1-9b2f-840a602bac30",
   "metadata": {},
   "source": [
    "결측치가 없는 것으로 확인해도 좋을 것 같음.\n",
    "* Age 결측치 DF를 test 데이터로 써도 좋을 것 같다. 연령대 예측하는 회귀 모델 만들기로 !\n",
    "\n",
    "이제는 다른 데이터도 확인해보자 !"
   ]
  },
  {
   "cell_type": "markdown",
   "id": "46c5fd18-0d6f-470d-8f34-76a0b9eaf8ba",
   "metadata": {},
   "source": [
    "### Ticket"
   ]
  },
  {
   "cell_type": "code",
   "execution_count": 95,
   "id": "a176d7ec-5a09-435f-b19d-8bdd9a7c77b9",
   "metadata": {},
   "outputs": [
    {
     "data": {
      "text/plain": [
       "PassengerId\n",
       "1             A/5 21171\n",
       "2              PC 17599\n",
       "3      STON/O2. 3101282\n",
       "4                113803\n",
       "5                373450\n",
       "             ...       \n",
       "886              382652\n",
       "887              211536\n",
       "888              112053\n",
       "890              111369\n",
       "891              370376\n",
       "Name: Ticket, Length: 714, dtype: object"
      ]
     },
     "execution_count": 95,
     "metadata": {},
     "output_type": "execute_result"
    }
   ],
   "source": [
    "titanic_eda_notnull.Ticket # 티겟 넘버 ==> 예측에 필요없다고 판단 (제거 해도 될 것 같다 !)"
   ]
  },
  {
   "cell_type": "markdown",
   "id": "0237b15b-479a-4859-a0c6-4212175cf6c3",
   "metadata": {},
   "source": [
    "### Name"
   ]
  },
  {
   "cell_type": "code",
   "execution_count": 96,
   "id": "d96e4f3c-6bbb-418a-b3de-ad4b6ec3369c",
   "metadata": {},
   "outputs": [
    {
     "data": {
      "text/plain": [
       "PassengerId\n",
       "1                                Braund, Mr. Owen Harris\n",
       "2      Cumings, Mrs. John Bradley (Florence Briggs Th...\n",
       "3                                 Heikkinen, Miss. Laina\n",
       "4           Futrelle, Mrs. Jacques Heath (Lily May Peel)\n",
       "5                               Allen, Mr. William Henry\n",
       "                             ...                        \n",
       "886                 Rice, Mrs. William (Margaret Norton)\n",
       "887                                Montvila, Rev. Juozas\n",
       "888                         Graham, Miss. Margaret Edith\n",
       "890                                Behr, Mr. Karl Howell\n",
       "891                                  Dooley, Mr. Patrick\n",
       "Name: Name, Length: 714, dtype: object"
      ]
     },
     "execution_count": 96,
     "metadata": {},
     "output_type": "execute_result"
    }
   ],
   "source": [
    "titanic_eda_notnull.Name # 이름과 성별 확인하기\n",
    "# 'Name' 컬럼은 상관없을 것 같다. >> 삭제"
   ]
  },
  {
   "cell_type": "code",
   "execution_count": 56,
   "id": "23f3d4a1-a5de-4c18-b7eb-d48cde729126",
   "metadata": {},
   "outputs": [],
   "source": [
    "# 이름의 중간 단어가 성별을 나타내는 것이다. >> 'Sex'와 비교해보아도 좋을 듯함.\n",
    "# titanic_eda_notnull['Name_sex'] = titanic_eda_notnull.Name.apply(lambda x : x.split(' ')[1].strip('.'))"
   ]
  },
  {
   "cell_type": "markdown",
   "id": "04519926-14eb-45e6-b330-703cfa9c4713",
   "metadata": {},
   "source": [
    "### SibSp / Parch\n",
    "* Sibsp : 형제자매 + 배우자\n",
    "* Parch : 부모 + 자식\n",
    "* ==> 동승자 처리 해주기 (더해서 0이면 동승자 없)"
   ]
  },
  {
   "cell_type": "code",
   "execution_count": 98,
   "id": "691f7e6e-d50d-4398-871b-9f31ac19043c",
   "metadata": {},
   "outputs": [
    {
     "name": "stderr",
     "output_type": "stream",
     "text": [
      "C:\\Users\\tjdtn\\AppData\\Local\\Temp\\ipykernel_15652\\3202366335.py:1: SettingWithCopyWarning: \n",
      "A value is trying to be set on a copy of a slice from a DataFrame.\n",
      "Try using .loc[row_indexer,col_indexer] = value instead\n",
      "\n",
      "See the caveats in the documentation: https://pandas.pydata.org/pandas-docs/stable/user_guide/indexing.html#returning-a-view-versus-a-copy\n",
      "  titanic_eda_notnull['Together_num'] = titanic_eda_notnull.SibSp + titanic_eda_notnull.Parch\n"
     ]
    },
    {
     "data": {
      "text/html": [
       "<div>\n",
       "<style scoped>\n",
       "    .dataframe tbody tr th:only-of-type {\n",
       "        vertical-align: middle;\n",
       "    }\n",
       "\n",
       "    .dataframe tbody tr th {\n",
       "        vertical-align: top;\n",
       "    }\n",
       "\n",
       "    .dataframe thead th {\n",
       "        text-align: right;\n",
       "    }\n",
       "</style>\n",
       "<table border=\"1\" class=\"dataframe\">\n",
       "  <thead>\n",
       "    <tr style=\"text-align: right;\">\n",
       "      <th></th>\n",
       "      <th>Survived</th>\n",
       "      <th>Pclass</th>\n",
       "      <th>Name</th>\n",
       "      <th>Sex</th>\n",
       "      <th>Age</th>\n",
       "      <th>SibSp</th>\n",
       "      <th>Parch</th>\n",
       "      <th>Ticket</th>\n",
       "      <th>Fare</th>\n",
       "      <th>Embarked</th>\n",
       "      <th>Age_range</th>\n",
       "      <th>Together</th>\n",
       "      <th>Together_num</th>\n",
       "    </tr>\n",
       "    <tr>\n",
       "      <th>PassengerId</th>\n",
       "      <th></th>\n",
       "      <th></th>\n",
       "      <th></th>\n",
       "      <th></th>\n",
       "      <th></th>\n",
       "      <th></th>\n",
       "      <th></th>\n",
       "      <th></th>\n",
       "      <th></th>\n",
       "      <th></th>\n",
       "      <th></th>\n",
       "      <th></th>\n",
       "      <th></th>\n",
       "    </tr>\n",
       "  </thead>\n",
       "  <tbody>\n",
       "    <tr>\n",
       "      <th>1</th>\n",
       "      <td>0</td>\n",
       "      <td>3</td>\n",
       "      <td>Braund, Mr. Owen Harris</td>\n",
       "      <td>male</td>\n",
       "      <td>22.0</td>\n",
       "      <td>1</td>\n",
       "      <td>0</td>\n",
       "      <td>A/5 21171</td>\n",
       "      <td>7.2500</td>\n",
       "      <td>S</td>\n",
       "      <td>2</td>\n",
       "      <td>1</td>\n",
       "      <td>1</td>\n",
       "    </tr>\n",
       "    <tr>\n",
       "      <th>2</th>\n",
       "      <td>1</td>\n",
       "      <td>1</td>\n",
       "      <td>Cumings, Mrs. John Bradley (Florence Briggs Th...</td>\n",
       "      <td>female</td>\n",
       "      <td>38.0</td>\n",
       "      <td>1</td>\n",
       "      <td>0</td>\n",
       "      <td>PC 17599</td>\n",
       "      <td>71.2833</td>\n",
       "      <td>C</td>\n",
       "      <td>3</td>\n",
       "      <td>1</td>\n",
       "      <td>1</td>\n",
       "    </tr>\n",
       "  </tbody>\n",
       "</table>\n",
       "</div>"
      ],
      "text/plain": [
       "             Survived  Pclass  \\\n",
       "PassengerId                     \n",
       "1                   0       3   \n",
       "2                   1       1   \n",
       "\n",
       "                                                          Name     Sex   Age  \\\n",
       "PassengerId                                                                    \n",
       "1                                      Braund, Mr. Owen Harris    male  22.0   \n",
       "2            Cumings, Mrs. John Bradley (Florence Briggs Th...  female  38.0   \n",
       "\n",
       "             SibSp  Parch     Ticket     Fare Embarked  Age_range  Together  \\\n",
       "PassengerId                                                                   \n",
       "1                1      0  A/5 21171   7.2500        S          2         1   \n",
       "2                1      0   PC 17599  71.2833        C          3         1   \n",
       "\n",
       "             Together_num  \n",
       "PassengerId                \n",
       "1                       1  \n",
       "2                       1  "
      ]
     },
     "execution_count": 98,
     "metadata": {},
     "output_type": "execute_result"
    }
   ],
   "source": [
    "titanic_eda_notnull['Together_num'] = titanic_eda_notnull.SibSp + titanic_eda_notnull.Parch\n",
    "titanic_eda_notnull.head(2)"
   ]
  },
  {
   "cell_type": "code",
   "execution_count": 100,
   "id": "b9f2a36c-5aff-4f2f-888c-914c883c26be",
   "metadata": {},
   "outputs": [
    {
     "name": "stderr",
     "output_type": "stream",
     "text": [
      "C:\\Users\\tjdtn\\AppData\\Local\\Temp\\ipykernel_15652\\1556010720.py:2: SettingWithCopyWarning: \n",
      "A value is trying to be set on a copy of a slice from a DataFrame.\n",
      "Try using .loc[row_indexer,col_indexer] = value instead\n",
      "\n",
      "See the caveats in the documentation: https://pandas.pydata.org/pandas-docs/stable/user_guide/indexing.html#returning-a-view-versus-a-copy\n",
      "  titanic_eda_notnull['Together'] = titanic_eda_notnull.Together_num.apply(lambda x : 0 if x == 0 else 1)\n"
     ]
    },
    {
     "data": {
      "text/html": [
       "<div>\n",
       "<style scoped>\n",
       "    .dataframe tbody tr th:only-of-type {\n",
       "        vertical-align: middle;\n",
       "    }\n",
       "\n",
       "    .dataframe tbody tr th {\n",
       "        vertical-align: top;\n",
       "    }\n",
       "\n",
       "    .dataframe thead th {\n",
       "        text-align: right;\n",
       "    }\n",
       "</style>\n",
       "<table border=\"1\" class=\"dataframe\">\n",
       "  <thead>\n",
       "    <tr style=\"text-align: right;\">\n",
       "      <th></th>\n",
       "      <th>Survived</th>\n",
       "      <th>Pclass</th>\n",
       "      <th>Name</th>\n",
       "      <th>Sex</th>\n",
       "      <th>Age</th>\n",
       "      <th>SibSp</th>\n",
       "      <th>Parch</th>\n",
       "      <th>Ticket</th>\n",
       "      <th>Fare</th>\n",
       "      <th>Embarked</th>\n",
       "      <th>Age_range</th>\n",
       "      <th>Together</th>\n",
       "      <th>Together_num</th>\n",
       "    </tr>\n",
       "    <tr>\n",
       "      <th>PassengerId</th>\n",
       "      <th></th>\n",
       "      <th></th>\n",
       "      <th></th>\n",
       "      <th></th>\n",
       "      <th></th>\n",
       "      <th></th>\n",
       "      <th></th>\n",
       "      <th></th>\n",
       "      <th></th>\n",
       "      <th></th>\n",
       "      <th></th>\n",
       "      <th></th>\n",
       "      <th></th>\n",
       "    </tr>\n",
       "  </thead>\n",
       "  <tbody>\n",
       "    <tr>\n",
       "      <th>1</th>\n",
       "      <td>0</td>\n",
       "      <td>3</td>\n",
       "      <td>Braund, Mr. Owen Harris</td>\n",
       "      <td>male</td>\n",
       "      <td>22.0</td>\n",
       "      <td>1</td>\n",
       "      <td>0</td>\n",
       "      <td>A/5 21171</td>\n",
       "      <td>7.2500</td>\n",
       "      <td>S</td>\n",
       "      <td>2</td>\n",
       "      <td>1</td>\n",
       "      <td>1</td>\n",
       "    </tr>\n",
       "    <tr>\n",
       "      <th>2</th>\n",
       "      <td>1</td>\n",
       "      <td>1</td>\n",
       "      <td>Cumings, Mrs. John Bradley (Florence Briggs Th...</td>\n",
       "      <td>female</td>\n",
       "      <td>38.0</td>\n",
       "      <td>1</td>\n",
       "      <td>0</td>\n",
       "      <td>PC 17599</td>\n",
       "      <td>71.2833</td>\n",
       "      <td>C</td>\n",
       "      <td>3</td>\n",
       "      <td>1</td>\n",
       "      <td>1</td>\n",
       "    </tr>\n",
       "  </tbody>\n",
       "</table>\n",
       "</div>"
      ],
      "text/plain": [
       "             Survived  Pclass  \\\n",
       "PassengerId                     \n",
       "1                   0       3   \n",
       "2                   1       1   \n",
       "\n",
       "                                                          Name     Sex   Age  \\\n",
       "PassengerId                                                                    \n",
       "1                                      Braund, Mr. Owen Harris    male  22.0   \n",
       "2            Cumings, Mrs. John Bradley (Florence Briggs Th...  female  38.0   \n",
       "\n",
       "             SibSp  Parch     Ticket     Fare Embarked  Age_range  Together  \\\n",
       "PassengerId                                                                   \n",
       "1                1      0  A/5 21171   7.2500        S          2         1   \n",
       "2                1      0   PC 17599  71.2833        C          3         1   \n",
       "\n",
       "             Together_num  \n",
       "PassengerId                \n",
       "1                       1  \n",
       "2                       1  "
      ]
     },
     "execution_count": 100,
     "metadata": {},
     "output_type": "execute_result"
    }
   ],
   "source": [
    "# 동승자 있나(1) 없나(0) 처리\n",
    "titanic_eda_notnull['Together'] = titanic_eda_notnull.Together_num.apply(lambda x : 0 if x == 0 else 1)\n",
    "titanic_eda_notnull.head(2)"
   ]
  },
  {
   "cell_type": "markdown",
   "id": "78fb2379-45a1-4866-9aa2-12af4055de5c",
   "metadata": {},
   "source": [
    "### Fare"
   ]
  },
  {
   "cell_type": "code",
   "execution_count": 101,
   "id": "6dbccaa0-15b2-4449-bec8-8924d719e4ea",
   "metadata": {},
   "outputs": [
    {
     "data": {
      "image/png": "[encoded data removed]",
      "text/plain": [
       "<Figure size 600x400 with 1 Axes>"
      ]
     },
     "metadata": {},
     "output_type": "display_data"
    }
   ],
   "source": [
    "# 히스토그램으로 분포 확인\n",
    "plt.figure(figsize=(6, 4))\n",
    "sns.histplot(data=titanic_eda_notnull.Fare, kde=True)\n",
    "plt.title('Fare 분포')\n",
    "plt.grid()\n",
    "plt.show()"
   ]
  },
  {
   "cell_type": "markdown",
   "id": "9c74748d-9d04-4aa9-96a9-f6c1b635e952",
   "metadata": {},
   "source": [
    "스케일링 필요함."
   ]
  },
  {
   "cell_type": "code",
   "execution_count": 67,
   "id": "a58fe4bc-c927-4826-ab2a-aa5617b14939",
   "metadata": {},
   "outputs": [
    {
     "name": "stdout",
     "output_type": "stream",
     "text": [
      "<class 'pandas.core.frame.DataFrame'>\n",
      "Index: 714 entries, 1 to 891\n",
      "Data columns (total 11 columns):\n",
      " #   Column     Non-Null Count  Dtype  \n",
      "---  ------     --------------  -----  \n",
      " 0   Survived   714 non-null    int64  \n",
      " 1   Pclass     714 non-null    int64  \n",
      " 2   Name       714 non-null    object \n",
      " 3   Sex        714 non-null    object \n",
      " 4   SibSp      714 non-null    int64  \n",
      " 5   Parch      714 non-null    int64  \n",
      " 6   Ticket     714 non-null    object \n",
      " 7   Fare       714 non-null    float64\n",
      " 8   Embarked   714 non-null    object \n",
      " 9   Age_range  714 non-null    int64  \n",
      " 10  Together   714 non-null    int64  \n",
      "dtypes: float64(1), int64(6), object(4)\n",
      "memory usage: 83.1+ KB\n"
     ]
    }
   ],
   "source": [
    "titanic_eda_notnull.info()"
   ]
  },
  {
   "cell_type": "code",
   "execution_count": 102,
   "id": "f0fbd414-ba89-49fe-baf0-ef9cec2d8da9",
   "metadata": {},
   "outputs": [
    {
     "name": "stdout",
     "output_type": "stream",
     "text": [
      "<class 'pandas.core.frame.DataFrame'>\n",
      "Index: 714 entries, 1 to 891\n",
      "Data columns (total 11 columns):\n",
      " #   Column        Non-Null Count  Dtype  \n",
      "---  ------        --------------  -----  \n",
      " 0   Survived      714 non-null    int64  \n",
      " 1   Pclass        714 non-null    int64  \n",
      " 2   Sex           714 non-null    object \n",
      " 3   Age           714 non-null    float64\n",
      " 4   SibSp         714 non-null    int64  \n",
      " 5   Parch         714 non-null    int64  \n",
      " 6   Fare          714 non-null    float64\n",
      " 7   Embarked      714 non-null    object \n",
      " 8   Age_range     714 non-null    int64  \n",
      " 9   Together      714 non-null    int64  \n",
      " 10  Together_num  714 non-null    int64  \n",
      "dtypes: float64(2), int64(7), object(2)\n",
      "memory usage: 66.9+ KB\n"
     ]
    }
   ],
   "source": [
    "# 삭제할 컬럼 삭제하기\n",
    "titanic_eda_notnull = titanic_eda_notnull.drop(columns=['Name', 'Ticket'])\n",
    "titanic_eda_notnull.info()"
   ]
  },
  {
   "cell_type": "code",
   "execution_count": 103,
   "id": "f3bf3d29-f977-4adb-9f82-fc6025acef03",
   "metadata": {},
   "outputs": [],
   "source": [
    "# Fare 스케일링하기 >> Standardscaler\n",
    "from sklearn.preprocessing import StandardScaler\n",
    "\n",
    "scaler = StandardScaler()\n",
    "titanic_eda_notnull[['Fare_scaled']] = scaler.fit_transform(titanic_eda_notnull[['Fare']])"
   ]
  },
  {
   "cell_type": "code",
   "execution_count": 104,
   "id": "2832aa2e-2c5b-47b5-8b07-37dfcea9ad30",
   "metadata": {},
   "outputs": [
    {
     "data": {
      "text/plain": [
       "Index(['Survived', 'Pclass', 'Sex', 'Age', 'SibSp', 'Parch', 'Fare',\n",
       "       'Embarked', 'Age_range', 'Together', 'Together_num', 'Fare_scaled'],\n",
       "      dtype='object')"
      ]
     },
     "execution_count": 104,
     "metadata": {},
     "output_type": "execute_result"
    }
   ],
   "source": [
    "titanic_eda_notnull.columns"
   ]
  },
  {
   "cell_type": "markdown",
   "id": "96ff778d-3885-4c90-8878-36b89c51a00c",
   "metadata": {},
   "source": [
    "### Sex, Embarked\n",
    "* 라벨인코딩"
   ]
  },
  {
   "cell_type": "code",
   "execution_count": 105,
   "id": "56f6ae21-23c8-4d85-b962-cca576f51a7a",
   "metadata": {},
   "outputs": [],
   "source": [
    "# 라벨 인코딩\n",
    "from sklearn.preprocessing import LabelEncoder\n",
    "\n",
    "encoder = LabelEncoder()\n",
    "\n",
    "titanic_eda_notnull['Sex_label'] = encoder.fit_transform(titanic_eda_notnull.Sex)\n",
    "titanic_eda_notnull['Embarked_label'] = encoder.fit_transform(titanic_eda_notnull.Embarked)"
   ]
  },
  {
   "cell_type": "code",
   "execution_count": 163,
   "id": "3410072d-392c-420a-9a63-7186613175cc",
   "metadata": {},
   "outputs": [],
   "source": [
    "# 원핫인코딩\n",
    "from sklearn.preprocessing import OneHotEncoder\n",
    "\n",
    "encoder = OneHotEncoder(handle_unknown='ignore')\n",
    "\n",
    "# 희소행렬\n",
    "onehot_Sex = encoder.fit_transform(titanic_eda_notnull[['Sex']])\n",
    "# 밀집행렬로 바꾸어서 DF로 만들어주기\n",
    "onehot_Sex_df = pd.DataFrame(data=onehot_Sex.todense(), columns=encoder.get_feature_names_out())\n",
    "\n",
    "# 희소행렬\n",
    "onehot_Embarked = encoder.fit_transform(titanic_eda_notnull[['Embarked']])\n",
    "# 밀집행렬로 바꾸어서 DF로 만들어주기\n",
    "onehot_Embarked_df = pd.DataFrame(data=onehot_Embarked.todense(), columns=encoder.get_feature_names_out())\n",
    "\n",
    "# 'titanic_eda_notnull'에 추가\n",
    "titanic_eda_notnull_final = pd.concat([titanic_eda_notnull.reset_index(drop=True), onehot_Sex_df, onehot_Embarked_df], axis=1)"
   ]
  },
  {
   "cell_type": "code",
   "execution_count": 164,
   "id": "931aee41-945c-4c9b-9283-038126701c80",
   "metadata": {},
   "outputs": [
    {
     "data": {
      "text/plain": [
       "Index(['Survived', 'Pclass', 'Sex', 'Age', 'SibSp', 'Parch', 'Fare',\n",
       "       'Embarked', 'Age_range', 'Together', 'Together_num', 'Fare_scaled',\n",
       "       'Sex_label', 'Embarked_label', 'Sex_female', 'Sex_male', 'Embarked_C',\n",
       "       'Embarked_Q', 'Embarked_S'],\n",
       "      dtype='object')"
      ]
     },
     "execution_count": 164,
     "metadata": {},
     "output_type": "execute_result"
    }
   ],
   "source": [
    "titanic_eda_notnull_final.columns"
   ]
  },
  {
   "cell_type": "code",
   "execution_count": 165,
   "id": "1b7abbdf-2572-44e8-b5ca-1af638d40f82",
   "metadata": {},
   "outputs": [
    {
     "data": {
      "image/png": "[encoded data removed]",
      "text/plain": [
       "<Figure size 640x480 with 2 Axes>"
      ]
     },
     "metadata": {},
     "output_type": "display_data"
    }
   ],
   "source": [
    "# 변수들간의 상관관계 분석\n",
    "features = ['Survived', 'Pclass', 'Sex_label', 'Embarked_label', 'Age', 'Age_range', 'Together_num', 'Together', 'Fare_scaled']\n",
    "\n",
    "sns.heatmap(data=titanic_eda_notnull_final[features].corr(), annot=True, cmap='coolwarm')\n",
    "plt.show()"
   ]
  },
  {
   "cell_type": "markdown",
   "id": "e7bad3db-7b01-4207-aa7c-d0ed8e2f6e23",
   "metadata": {},
   "source": [
    "## 모델링\n",
    "* 생존여부 예측하기 - 분류 분석"
   ]
  },
  {
   "cell_type": "code",
   "execution_count": 166,
   "id": "3534717e-26ca-47b4-9457-e245cd212315",
   "metadata": {},
   "outputs": [
    {
     "name": "stdout",
     "output_type": "stream",
     "text": [
      "(535, 7) (535,) (179, 7) (179,)\n",
      "(535, 9) (535,) (179, 9) (179,)\n"
     ]
    }
   ],
   "source": [
    "## 분석 데이터 준비\n",
    "# 독립변수 - 라벨인코딩\n",
    "X_label = titanic_eda_notnull_final[['Pclass', 'Sex_label', 'Embarked_label', 'Age_range', 'Together_num', 'Together', 'Fare_scaled']]\n",
    "# 독립변수 - 원핫인코딩\n",
    "X_onehot = titanic_eda_notnull_final[['Pclass', 'Sex_female', 'Sex_male', 'Embarked_C', 'Embarked_Q', 'Embarked_S', 'Fare_scaled', 'Together', 'Age_range']]\n",
    "# 종속변수\n",
    "y = titanic_eda_notnull.Survived\n",
    "\n",
    "# training / test data\n",
    "from sklearn.model_selection import train_test_split\n",
    "# 라벨인코딩\n",
    "X_label_train, X_label_test, y_train, y_test = \\\n",
    "train_test_split(X_label, y, test_size=0.25, random_state=42)\n",
    "# 원핫인코딩\n",
    "X_onehot_train, X_onehot_test, y_train, y_test = \\\n",
    "train_test_split(X_onehot, y, test_size=0.25, random_state=42)\n",
    "\n",
    "print(X_label_train.shape, y_train.shape, X_label_test.shape, y_test.shape)\n",
    "print(X_onehot_train.shape, y_train.shape, X_onehot_test.shape, y_test.shape)"
   ]
  },
  {
   "cell_type": "code",
   "execution_count": 167,
   "id": "da7a863e-3d37-4630-afa4-5f0888134187",
   "metadata": {},
   "outputs": [
    {
     "name": "stdout",
     "output_type": "stream",
     "text": [
      "======= LabelEncoding =======\n",
      "ACCURACY SCORE - TRAIN DATA\n",
      ">> 87.10%\n",
      "ACCURACY SCORE - TEST DATA\n",
      ">> 75.42%\n",
      "F1 SCORE : 0.6812\n",
      "CONFUSION MATRIX\n",
      "[[88 19]\n",
      " [25 47]]\n",
      "              precision    recall  f1-score   support\n",
      "\n",
      "           0       0.78      0.82      0.80       107\n",
      "           1       0.71      0.65      0.68        72\n",
      "\n",
      "    accuracy                           0.75       179\n",
      "   macro avg       0.75      0.74      0.74       179\n",
      "weighted avg       0.75      0.75      0.75       179\n",
      "\n",
      "======= OneHotEncoding =======\n",
      "ACCURACY SCORE - TRAIN DATA\n",
      ">> 87.10%\n",
      "ACCURACY SCORE - TEST DATA\n",
      ">> 75.98%\n",
      "F1 SCORE : 0.6906\n",
      "CONFUSION MATRIX\n",
      "[[88 19]\n",
      " [24 48]]\n",
      "              precision    recall  f1-score   support\n",
      "\n",
      "           0       0.79      0.82      0.80       107\n",
      "           1       0.72      0.67      0.69        72\n",
      "\n",
      "    accuracy                           0.76       179\n",
      "   macro avg       0.75      0.74      0.75       179\n",
      "weighted avg       0.76      0.76      0.76       179\n",
      "\n"
     ]
    }
   ],
   "source": [
    "# 모델 생성 - 의사결정나무\n",
    "from sklearn.tree import DecisionTreeClassifier\n",
    "\n",
    "dt = DecisionTreeClassifier(max_depth=5,\n",
    "                            random_state=42)\n",
    "# 라벨인코딩\n",
    "dt.fit(X_label_train, y_train)\n",
    "\n",
    "y_train_pred = dt.predict(X_label_train)\n",
    "y_test_pred = dt.predict(X_label_test)\n",
    "\n",
    "# 성능 평가\n",
    "# MAE, MSE, r2_score\n",
    "from sklearn.metrics import accuracy_score, confusion_matrix, f1_score, classification_report\n",
    "\n",
    "print('='*7, 'LabelEncoding', '='*7)\n",
    "print('ACCURACY SCORE - TRAIN DATA\\n>> {:.2f}%'.format(accuracy_score(y_train, y_train_pred)*100))\n",
    "print('ACCURACY SCORE - TEST DATA\\n>> {:.2f}%'.format(accuracy_score(y_test, y_test_pred)*100))\n",
    "print('F1 SCORE : {:.4f}'.format(f1_score(y_test, y_test_pred)))\n",
    "print(f'CONFUSION MATRIX\\n{confusion_matrix(y_test, y_test_pred)}')\n",
    "print(classification_report(y_test, y_test_pred))\n",
    "\n",
    "# 원핫\n",
    "dt.fit(X_onehot_train, y_train)\n",
    "\n",
    "y_train_pred = dt.predict(X_onehot_train)\n",
    "y_test_pred = dt.predict(X_onehot_test)\n",
    "\n",
    "# 성능 평가\n",
    "# MAE, MSE, r2_score\n",
    "from sklearn.metrics import accuracy_score, confusion_matrix, f1_score, classification_report\n",
    "\n",
    "print('='*7, 'OneHotEncoding', '='*7)\n",
    "print('ACCURACY SCORE - TRAIN DATA\\n>> {:.2f}%'.format(accuracy_score(y_train, y_train_pred)*100))\n",
    "print('ACCURACY SCORE - TEST DATA\\n>> {:.2f}%'.format(accuracy_score(y_test, y_test_pred)*100))\n",
    "print('F1 SCORE : {:.4f}'.format(f1_score(y_test, y_test_pred)))\n",
    "print(f'CONFUSION MATRIX\\n{confusion_matrix(y_test, y_test_pred)}')\n",
    "print(classification_report(y_test, y_test_pred))"
   ]
  },
  {
   "cell_type": "code",
   "execution_count": 169,
   "id": "cf7d632f-a264-4a3e-882f-d4272b2933c3",
   "metadata": {},
   "outputs": [
    {
     "name": "stdout",
     "output_type": "stream",
     "text": [
      "======= LabelEncoding =======\n",
      "ACCURACY SCORE - TRAIN DATA\n",
      ">> 87.66%\n",
      "ACCURACY SCORE - TEST DATA\n",
      ">> 82.68%\n",
      "F1 SCORE : 0.7559\n",
      "CONFUSION MATRIX\n",
      "[[100   7]\n",
      " [ 24  48]]\n",
      "              precision    recall  f1-score   support\n",
      "\n",
      "           0       0.81      0.93      0.87       107\n",
      "           1       0.87      0.67      0.76        72\n",
      "\n",
      "    accuracy                           0.83       179\n",
      "   macro avg       0.84      0.80      0.81       179\n",
      "weighted avg       0.83      0.83      0.82       179\n",
      "\n",
      "======= OneHotEncoding =======\n",
      "ACCURACY SCORE - TRAIN DATA\n",
      ">> 86.17%\n",
      "ACCURACY SCORE - TEST DATA\n",
      ">> 80.45%\n",
      "F1 SCORE : 0.7328\n",
      "CONFUSION MATRIX\n",
      "[[96 11]\n",
      " [24 48]]\n",
      "              precision    recall  f1-score   support\n",
      "\n",
      "           0       0.80      0.90      0.85       107\n",
      "           1       0.81      0.67      0.73        72\n",
      "\n",
      "    accuracy                           0.80       179\n",
      "   macro avg       0.81      0.78      0.79       179\n",
      "weighted avg       0.81      0.80      0.80       179\n",
      "\n"
     ]
    }
   ],
   "source": [
    "# 모델 생성 - 랜덤포레스트\n",
    "from sklearn.ensemble import RandomForestClassifier\n",
    "\n",
    "rf = RandomForestClassifier(n_estimators=200,\n",
    "                            max_depth=5,\n",
    "                            n_jobs=-1,\n",
    "                            random_state=42)\n",
    "# fitting - 라벨인코딩\n",
    "rf.fit(X_label_train, y_train)\n",
    "\n",
    "# predict\n",
    "y_train_pred = rf.predict(X_label_train)\n",
    "y_test_pred = rf.predict(X_label_test)\n",
    "\n",
    "# 성능평가\n",
    "from sklearn.metrics import accuracy_score, confusion_matrix, f1_score, classification_report\n",
    "\n",
    "print('='*7, 'LabelEncoding', '='*7)\n",
    "print('ACCURACY SCORE - TRAIN DATA\\n>> {:.2f}%'.format(accuracy_score(y_train, y_train_pred)*100))\n",
    "print('ACCURACY SCORE - TEST DATA\\n>> {:.2f}%'.format(accuracy_score(y_test, y_test_pred)*100))\n",
    "print('F1 SCORE : {:.4f}'.format(f1_score(y_test, y_test_pred)))\n",
    "print(f'CONFUSION MATRIX\\n{confusion_matrix(y_test, y_test_pred)}')\n",
    "print(classification_report(y_test, y_test_pred))\n",
    "\n",
    "# fitting - 원핫인코딩\n",
    "rf.fit(X_onehot_train, y_train)\n",
    "\n",
    "# predict\n",
    "y_train_pred = rf.predict(X_onehot_train)\n",
    "y_test_pred = rf.predict(X_onehot_test)\n",
    "\n",
    "# 성능평가\n",
    "from sklearn.metrics import accuracy_score, confusion_matrix, f1_score, classification_report\n",
    "\n",
    "print('='*7, 'OneHotEncoding', '='*7)\n",
    "print('ACCURACY SCORE - TRAIN DATA\\n>> {:.2f}%'.format(accuracy_score(y_train, y_train_pred)*100))\n",
    "print('ACCURACY SCORE - TEST DATA\\n>> {:.2f}%'.format(accuracy_score(y_test, y_test_pred)*100))\n",
    "print('F1 SCORE : {:.4f}'.format(f1_score(y_test, y_test_pred)))\n",
    "print(f'CONFUSION MATRIX\\n{confusion_matrix(y_test, y_test_pred)}')\n",
    "print(classification_report(y_test, y_test_pred))"
   ]
  },
  {
   "cell_type": "code",
   "execution_count": 170,
   "id": "7c540e70-8910-475f-b0b7-8cbed9e49504",
   "metadata": {},
   "outputs": [
    {
     "name": "stdout",
     "output_type": "stream",
     "text": [
      "======= LabelEncoding =======\n",
      "ACCURACY SCORE - TRAIN DATA\n",
      ">> 78.69%\n",
      "ACCURACY SCORE - TEST DATA\n",
      ">> 75.98%\n",
      "F1 SCORE : 0.6906\n",
      "CONFUSION MATRIX\n",
      "[[88 19]\n",
      " [24 48]]\n",
      "              precision    recall  f1-score   support\n",
      "\n",
      "           0       0.79      0.82      0.80       107\n",
      "           1       0.72      0.67      0.69        72\n",
      "\n",
      "    accuracy                           0.76       179\n",
      "   macro avg       0.75      0.74      0.75       179\n",
      "weighted avg       0.76      0.76      0.76       179\n",
      "\n",
      "======= LabelEncoding =======\n",
      "ACCURACY SCORE - TRAIN DATA\n",
      ">> 78.69%\n",
      "ACCURACY SCORE - TEST DATA\n",
      ">> 75.98%\n",
      "F1 SCORE : 0.6906\n",
      "CONFUSION MATRIX\n",
      "[[88 19]\n",
      " [24 48]]\n",
      "              precision    recall  f1-score   support\n",
      "\n",
      "           0       0.79      0.82      0.80       107\n",
      "           1       0.72      0.67      0.69        72\n",
      "\n",
      "    accuracy                           0.76       179\n",
      "   macro avg       0.75      0.74      0.75       179\n",
      "weighted avg       0.76      0.76      0.76       179\n",
      "\n"
     ]
    }
   ],
   "source": [
    "# 모델 생성 - 서포트 벡터 머신\n",
    "from sklearn.svm import SVC\n",
    "\n",
    "svc = SVC(kernel='linear',\n",
    "          random_state=42)\n",
    "\n",
    "# fitting - 라벨인코딩\n",
    "svc.fit(X_label_train, y_train)\n",
    "\n",
    "# 예측\n",
    "y_train_pred = svc.predict(X_label_train)\n",
    "y_test_pred = svc.predict(X_label_test)\n",
    "\n",
    "# 성능평가\n",
    "from sklearn.metrics import accuracy_score, confusion_matrix, f1_score, classification_report\n",
    "\n",
    "print('='*7, 'LabelEncoding', '='*7)\n",
    "print('ACCURACY SCORE - TRAIN DATA\\n>> {:.2f}%'.format(accuracy_score(y_train, y_train_pred)*100))\n",
    "print('ACCURACY SCORE - TEST DATA\\n>> {:.2f}%'.format(accuracy_score(y_test, y_test_pred)*100))\n",
    "print('F1 SCORE : {:.4f}'.format(f1_score(y_test, y_test_pred)))\n",
    "print(f'CONFUSION MATRIX\\n{confusion_matrix(y_test, y_test_pred)}')\n",
    "print(classification_report(y_test, y_test_pred))\n",
    "\n",
    "# fitting - 원핫인코딩\n",
    "svc.fit(X_onehot_train, y_train)\n",
    "\n",
    "# 예측\n",
    "y_train_pred = svc.predict(X_onehot_train)\n",
    "y_test_pred = svc.predict(X_onehot_test)\n",
    "\n",
    "# 성능평가\n",
    "from sklearn.metrics import accuracy_score, confusion_matrix, f1_score, classification_report\n",
    "\n",
    "print('='*7, 'OneHotEncoding', '='*7)\n",
    "print('ACCURACY SCORE - TRAIN DATA\\n>> {:.2f}%'.format(accuracy_score(y_train, y_train_pred)*100))\n",
    "print('ACCURACY SCORE - TEST DATA\\n>> {:.2f}%'.format(accuracy_score(y_test, y_test_pred)*100))\n",
    "print('F1 SCORE : {:.4f}'.format(f1_score(y_test, y_test_pred)))\n",
    "print(f'CONFUSION MATRIX\\n{confusion_matrix(y_test, y_test_pred)}')\n",
    "print(classification_report(y_test, y_test_pred))"
   ]
  },
  {
   "cell_type": "markdown",
   "id": "ee9cf1b8-44c5-4288-9771-3ff015a8cf4f",
   "metadata": {},
   "source": [
    "**Gradient Boosting Machine**\n",
    "* AdaBoost와 학습 방법과 비슷하다.\n",
    "* 경사하강법을 이용해 가중치를 업데이트하며 머신러닝을 수행한다.\n",
    "* 분류 뿐만 아니라 회귀도 수행 가능하다.\n",
    "* 과적합 규제 기능이 없다는 단점이 있다.\n",
    "\n",
    "AdaBoost 학습과정\n",
    "* 오류 데이터에 가중치를 부여해 다음 학습에서 오류 데이터를 더 잘 분류할 수 있도록 한다.\n",
    "\n",
    "경사하강법\n",
    "* 기울기를 줄여나감으로써 오류를 최소화하는 방법이다.\n",
    "    * 미분값이 감소하는 방향으로 파라미터를 조정한다.\n",
    "    * 미분값이 더 이상 감소하지 않는 지점을 비용함수가 최소(0)인 지점으로 간주하고 그때의 파라미터를 반환한다.\n",
    "    * ==> 경사 = 기울기 = 비용함수의 미분계수 = 0 인 지점을 찾는 과정\n",
    "\n",
    "하이퍼 파라미터\n",
    "* loss : 경사하강법에서 사용할 비용함수를 지정한다.\n",
    "* learning_rate : GBM이 학습을 진행할 때마다 적용하는 학습률. 약한 학습기가 순차적으로 오류값을 보정해 나가는데 적용하는 계수 (0 ~ 1)\n",
    "* n_estimators : 약한 학습기의 개수\n",
    "* subsample : 약한 학습기가 학습에 사용하는 데이터의 샘플링 비율\n",
    "* 트리 기반 자체의 파라미터도 지정 가능하다."
   ]
  },
  {
   "cell_type": "code",
   "execution_count": 171,
   "id": "447aa76a-0a79-445f-ad1b-1ba85ed593e1",
   "metadata": {},
   "outputs": [
    {
     "name": "stdout",
     "output_type": "stream",
     "text": [
      "======= LabelEncoding =======\n",
      "ACCURACY SCORE - TRAIN DATA\n",
      ">> 95.70%\n",
      "ACCURACY SCORE - TEST DATA\n",
      ">> 80.45%\n",
      "F1 SCORE : 0.7552\n",
      "CONFUSION MATRIX\n",
      "[[90 17]\n",
      " [18 54]]\n",
      "              precision    recall  f1-score   support\n",
      "\n",
      "           0       0.83      0.84      0.84       107\n",
      "           1       0.76      0.75      0.76        72\n",
      "\n",
      "    accuracy                           0.80       179\n",
      "   macro avg       0.80      0.80      0.80       179\n",
      "weighted avg       0.80      0.80      0.80       179\n",
      "\n",
      "======= OneHotEncoding =======\n",
      "ACCURACY SCORE - TRAIN DATA\n",
      ">> 95.51%\n",
      "ACCURACY SCORE - TEST DATA\n",
      ">> 78.21%\n",
      "F1 SCORE : 0.7234\n",
      "CONFUSION MATRIX\n",
      "[[89 18]\n",
      " [21 51]]\n",
      "              precision    recall  f1-score   support\n",
      "\n",
      "           0       0.81      0.83      0.82       107\n",
      "           1       0.74      0.71      0.72        72\n",
      "\n",
      "    accuracy                           0.78       179\n",
      "   macro avg       0.77      0.77      0.77       179\n",
      "weighted avg       0.78      0.78      0.78       179\n",
      "\n"
     ]
    }
   ],
   "source": [
    "# 모델 생성 - GradientBoost\n",
    "from sklearn.ensemble import GradientBoostingClassifier\n",
    "\n",
    "grm = GradientBoostingClassifier(learning_rate=0.7,\n",
    "                                 n_estimators=200,\n",
    "                                 max_depth=5,\n",
    "                                 random_state=42)\n",
    "# fitting - 라벨인코딩\n",
    "grm.fit(X_label_train, y_train)\n",
    "\n",
    "# predict\n",
    "y_train_pred = grm.predict(X_label_train)\n",
    "y_test_pred = grm.predict(X_label_test)\n",
    "\n",
    "# 성능평가\n",
    "from sklearn.metrics import accuracy_score, confusion_matrix, f1_score, classification_report\n",
    "\n",
    "print('='*7, 'LabelEncoding', '='*7)\n",
    "print('ACCURACY SCORE - TRAIN DATA\\n>> {:.2f}%'.format(accuracy_score(y_train, y_train_pred)*100))\n",
    "print('ACCURACY SCORE - TEST DATA\\n>> {:.2f}%'.format(accuracy_score(y_test, y_test_pred)*100))\n",
    "print('F1 SCORE : {:.4f}'.format(f1_score(y_test, y_test_pred)))\n",
    "print(f'CONFUSION MATRIX\\n{confusion_matrix(y_test, y_test_pred)}')\n",
    "print(classification_report(y_test, y_test_pred))\n",
    "\n",
    "# fitting - 원핫인코딩\n",
    "grm.fit(X_onehot_train, y_train)\n",
    "\n",
    "# predict\n",
    "y_train_pred = grm.predict(X_onehot_train)\n",
    "y_test_pred = grm.predict(X_onehot_test)\n",
    "\n",
    "# 성능평가\n",
    "from sklearn.metrics import accuracy_score, confusion_matrix, f1_score, classification_report\n",
    "\n",
    "print('='*7, 'OneHotEncoding', '='*7)\n",
    "print('ACCURACY SCORE - TRAIN DATA\\n>> {:.2f}%'.format(accuracy_score(y_train, y_train_pred)*100))\n",
    "print('ACCURACY SCORE - TEST DATA\\n>> {:.2f}%'.format(accuracy_score(y_test, y_test_pred)*100))\n",
    "print('F1 SCORE : {:.4f}'.format(f1_score(y_test, y_test_pred)))\n",
    "print(f'CONFUSION MATRIX\\n{confusion_matrix(y_test, y_test_pred)}')\n",
    "print(classification_report(y_test, y_test_pred))"
   ]
  },
  {
   "cell_type": "code",
   "execution_count": 172,
   "id": "cafba4c6-824a-4f34-8f3a-a79e03e7c5be",
   "metadata": {},
   "outputs": [
    {
     "name": "stdout",
     "output_type": "stream",
     "text": [
      "======= LabelEncoding =======\n",
      "ACCURACY SCORE - TRAIN DATA\n",
      ">> 88.41%\n",
      "ACCURACY SCORE - TEST DATA\n",
      ">> 72.63%\n",
      "F1 SCORE : 0.5739\n",
      "CONFUSION MATRIX\n",
      "[[97 10]\n",
      " [39 33]]\n",
      "              precision    recall  f1-score   support\n",
      "\n",
      "           0       0.71      0.91      0.80       107\n",
      "           1       0.77      0.46      0.57        72\n",
      "\n",
      "    accuracy                           0.73       179\n",
      "   macro avg       0.74      0.68      0.69       179\n",
      "weighted avg       0.74      0.73      0.71       179\n",
      "\n",
      "======= OneHotEncoding =======\n",
      "ACCURACY SCORE - TRAIN DATA\n",
      ">> 88.41%\n",
      "ACCURACY SCORE - TEST DATA\n",
      ">> 75.98%\n",
      "F1 SCORE : 0.6560\n",
      "CONFUSION MATRIX\n",
      "[[95 12]\n",
      " [31 41]]\n",
      "              precision    recall  f1-score   support\n",
      "\n",
      "           0       0.75      0.89      0.82       107\n",
      "           1       0.77      0.57      0.66        72\n",
      "\n",
      "    accuracy                           0.76       179\n",
      "   macro avg       0.76      0.73      0.74       179\n",
      "weighted avg       0.76      0.76      0.75       179\n",
      "\n"
     ]
    }
   ],
   "source": [
    "# 모델 생성 - KNN\n",
    "from sklearn.neighbors import KNeighborsClassifier\n",
    "\n",
    "knn = KNeighborsClassifier(n_neighbors=2,\n",
    "                           n_jobs=-1)\n",
    "# fitting - 라벨인코딩\n",
    "knn.fit(X_label_train, y_train)\n",
    "\n",
    "# predict\n",
    "y_train_pred = knn.predict(X_label_train)\n",
    "y_test_pred = knn.predict(X_label_test)\n",
    "\n",
    "# 성능평가\n",
    "from sklearn.metrics import accuracy_score, confusion_matrix, f1_score, classification_report\n",
    "\n",
    "print('='*7, 'LabelEncoding', '='*7)\n",
    "print('ACCURACY SCORE - TRAIN DATA\\n>> {:.2f}%'.format(accuracy_score(y_train, y_train_pred)*100))\n",
    "print('ACCURACY SCORE - TEST DATA\\n>> {:.2f}%'.format(accuracy_score(y_test, y_test_pred)*100))\n",
    "print('F1 SCORE : {:.4f}'.format(f1_score(y_test, y_test_pred)))\n",
    "print(f'CONFUSION MATRIX\\n{confusion_matrix(y_test, y_test_pred)}')\n",
    "print(classification_report(y_test, y_test_pred))\n",
    "\n",
    "# fitting - 원핫인코딩\n",
    "knn.fit(X_onehot_train, y_train)\n",
    "\n",
    "# predict\n",
    "y_train_pred = knn.predict(X_onehot_train)\n",
    "y_test_pred = knn.predict(X_onehot_test)\n",
    "\n",
    "# 성능평가\n",
    "from sklearn.metrics import accuracy_score, confusion_matrix, f1_score, classification_report\n",
    "\n",
    "print('='*7, 'OneHotEncoding', '='*7)\n",
    "print('ACCURACY SCORE - TRAIN DATA\\n>> {:.2f}%'.format(accuracy_score(y_train, y_train_pred)*100))\n",
    "print('ACCURACY SCORE - TEST DATA\\n>> {:.2f}%'.format(accuracy_score(y_test, y_test_pred)*100))\n",
    "print('F1 SCORE : {:.4f}'.format(f1_score(y_test, y_test_pred)))\n",
    "print(f'CONFUSION MATRIX\\n{confusion_matrix(y_test, y_test_pred)}')\n",
    "print(classification_report(y_test, y_test_pred))"
   ]
  }
 ],
 "metadata": {
  "kernelspec": {
   "display_name": "Python 3 (ipykernel)",
   "language": "python",
   "name": "python3"
  },
  "language_info": {
   "codemirror_mode": {
    "name": "ipython",
    "version": 3
   },
   "file_extension": ".py",
   "mimetype": "text/x-python",
   "name": "python",
   "nbconvert_exporter": "python",
   "pygments_lexer": "ipython3",
   "version": "3.9.19"
  },
  "widgets": {
   "application/vnd.jupyter.widget-state+json": {
    "state": {},
    "version_major": 2,
    "version_minor": 0
   }
  }
 },
 "nbformat": 4,
 "nbformat_minor": 5
}
