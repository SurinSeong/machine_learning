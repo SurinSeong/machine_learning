{
 "cells": [
  {
   "cell_type": "markdown",
   "id": "ee5d5be0-75ce-4e45-8e57-96eacac51cc9",
   "metadata": {},
   "source": [
    "# 군집분석\n",
    "* KMeans\n",
    "    * k개의 centeroid를 임의로 설정한 후, centeroid의 이동을 확인하면서 군집을 만들어간다.\n",
    "    * 유클리드 거리"
   ]
  },
  {
   "cell_type": "code",
   "execution_count": 2,
   "id": "54db0f68-d53b-4cab-af06-d4161a76dbb5",
   "metadata": {},
   "outputs": [],
   "source": [
    "import numpy as np\n",
    "import pandas as pd\n",
    "import matplotlib.pyplot as plt\n",
    "import seaborn as sns\n",
    "%matplotlib inline\n",
    "\n",
    "import matplotlib\n",
    "plt.rcParams['font.family'] = 'NanumGothic'"
   ]
  },
  {
   "cell_type": "markdown",
   "id": "54f95eae-d4ee-456c-b64a-4b7ef5124a5e",
   "metadata": {},
   "source": [
    "## 데이터 불러오기"
   ]
  },
  {
   "cell_type": "code",
   "execution_count": 3,
   "id": "7f71c854-f003-4e4d-a36b-23824c462bf6",
   "metadata": {},
   "outputs": [],
   "source": [
    "path = '../datasets/ML_data/'"
   ]
  },
  {
   "cell_type": "code",
   "execution_count": 5,
   "id": "89b3d6b9-2dc4-4e58-83f5-9e3935eef0e2",
   "metadata": {},
   "outputs": [
    {
     "name": "stdout",
     "output_type": "stream",
     "text": [
      "(541909, 8)\n"
     ]
    },
    {
     "data": {
      "text/html": [
       "<div>\n",
       "<style scoped>\n",
       "    .dataframe tbody tr th:only-of-type {\n",
       "        vertical-align: middle;\n",
       "    }\n",
       "\n",
       "    .dataframe tbody tr th {\n",
       "        vertical-align: top;\n",
       "    }\n",
       "\n",
       "    .dataframe thead th {\n",
       "        text-align: right;\n",
       "    }\n",
       "</style>\n",
       "<table border=\"1\" class=\"dataframe\">\n",
       "  <thead>\n",
       "    <tr style=\"text-align: right;\">\n",
       "      <th></th>\n",
       "      <th>InvoiceNo</th>\n",
       "      <th>StockCode</th>\n",
       "      <th>Description</th>\n",
       "      <th>Quantity</th>\n",
       "      <th>InvoiceDate</th>\n",
       "      <th>UnitPrice</th>\n",
       "      <th>CustomerID</th>\n",
       "      <th>Country</th>\n",
       "    </tr>\n",
       "  </thead>\n",
       "  <tbody>\n",
       "    <tr>\n",
       "      <th>0</th>\n",
       "      <td>536365</td>\n",
       "      <td>85123A</td>\n",
       "      <td>WHITE HANGING HEART T-LIGHT HOLDER</td>\n",
       "      <td>6</td>\n",
       "      <td>2010-12-01 08:26:00</td>\n",
       "      <td>2.55</td>\n",
       "      <td>17850.0</td>\n",
       "      <td>United Kingdom</td>\n",
       "    </tr>\n",
       "    <tr>\n",
       "      <th>1</th>\n",
       "      <td>536365</td>\n",
       "      <td>71053</td>\n",
       "      <td>WHITE METAL LANTERN</td>\n",
       "      <td>6</td>\n",
       "      <td>2010-12-01 08:26:00</td>\n",
       "      <td>3.39</td>\n",
       "      <td>17850.0</td>\n",
       "      <td>United Kingdom</td>\n",
       "    </tr>\n",
       "  </tbody>\n",
       "</table>\n",
       "</div>"
      ],
      "text/plain": [
       "  InvoiceNo StockCode                         Description  Quantity  \\\n",
       "0    536365    85123A  WHITE HANGING HEART T-LIGHT HOLDER         6   \n",
       "1    536365     71053                 WHITE METAL LANTERN         6   \n",
       "\n",
       "          InvoiceDate  UnitPrice  CustomerID         Country  \n",
       "0 2010-12-01 08:26:00       2.55     17850.0  United Kingdom  \n",
       "1 2010-12-01 08:26:00       3.39     17850.0  United Kingdom  "
      ]
     },
     "execution_count": 5,
     "metadata": {},
     "output_type": "execute_result"
    }
   ],
   "source": [
    "raw = pd.read_excel(path+'/Online_Retail.xlsx')\n",
    "df = raw.copy()\n",
    "\n",
    "print(df.shape)\n",
    "df.head(2)"
   ]
  },
  {
   "cell_type": "markdown",
   "id": "66e1f6e3-c655-4ba3-864a-c8647cf6edba",
   "metadata": {},
   "source": [
    "## 데이터 준비 및 탐색"
   ]
  },
  {
   "cell_type": "code",
   "execution_count": 6,
   "id": "cebe2a87-3a2b-4643-99b9-baf677d3d3dd",
   "metadata": {},
   "outputs": [
    {
     "name": "stdout",
     "output_type": "stream",
     "text": [
      "<class 'pandas.core.frame.DataFrame'>\n",
      "RangeIndex: 541909 entries, 0 to 541908\n",
      "Data columns (total 8 columns):\n",
      " #   Column       Non-Null Count   Dtype         \n",
      "---  ------       --------------   -----         \n",
      " 0   InvoiceNo    541909 non-null  object        \n",
      " 1   StockCode    541909 non-null  object        \n",
      " 2   Description  540455 non-null  object        \n",
      " 3   Quantity     541909 non-null  int64         \n",
      " 4   InvoiceDate  541909 non-null  datetime64[ns]\n",
      " 5   UnitPrice    541909 non-null  float64       \n",
      " 6   CustomerID   406829 non-null  float64       \n",
      " 7   Country      541909 non-null  object        \n",
      "dtypes: datetime64[ns](1), float64(2), int64(1), object(4)\n",
      "memory usage: 33.1+ MB\n"
     ]
    }
   ],
   "source": [
    "df.info()"
   ]
  },
  {
   "cell_type": "code",
   "execution_count": 7,
   "id": "51853f5f-4ec7-4ded-8330-67c1a7dd8eb9",
   "metadata": {},
   "outputs": [
    {
     "data": {
      "text/plain": [
       "Quantity\n",
       " 1        148227\n",
       " 2         81829\n",
       " 12        61063\n",
       " 6         40868\n",
       " 4         38484\n",
       "           ...  \n",
       "-472           1\n",
       "-161           1\n",
       "-1206          1\n",
       "-272           1\n",
       "-80995         1\n",
       "Name: count, Length: 722, dtype: int64"
      ]
     },
     "execution_count": 7,
     "metadata": {},
     "output_type": "execute_result"
    }
   ],
   "source": [
    "# quantity 확인\n",
    "# 판매량이 (-)..? >> 정제 필요\n",
    "df.Quantity.value_counts()"
   ]
  },
  {
   "cell_type": "code",
   "execution_count": 9,
   "id": "05b75f14-8422-45af-bc02-22adfde06046",
   "metadata": {},
   "outputs": [
    {
     "data": {
      "text/plain": [
       "UnitPrice\n",
       "1.25      50496\n",
       "1.65      38181\n",
       "0.85      28497\n",
       "2.95      27768\n",
       "0.42      24533\n",
       "          ...  \n",
       "84.21         1\n",
       "46.86         1\n",
       "28.66         1\n",
       "156.45        1\n",
       "224.69        1\n",
       "Name: count, Length: 1630, dtype: int64"
      ]
     },
     "execution_count": 9,
     "metadata": {},
     "output_type": "execute_result"
    }
   ],
   "source": [
    "# 단위 당 가격 확인 >> 소수점 존재함..\n",
    "df.UnitPrice.value_counts()"
   ]
  },
  {
   "cell_type": "code",
   "execution_count": 10,
   "id": "f9c97af4-1d71-45f7-bc19-115de813fb4e",
   "metadata": {},
   "outputs": [
    {
     "data": {
      "text/plain": [
       "CustomerID\n",
       "17841.0    7983\n",
       "14911.0    5903\n",
       "14096.0    5128\n",
       "12748.0    4642\n",
       "14606.0    2782\n",
       "           ... \n",
       "15070.0       1\n",
       "15753.0       1\n",
       "17065.0       1\n",
       "16881.0       1\n",
       "16995.0       1\n",
       "Name: count, Length: 4372, dtype: int64"
      ]
     },
     "execution_count": 10,
     "metadata": {},
     "output_type": "execute_result"
    }
   ],
   "source": [
    "df.CustomerID.value_counts()"
   ]
  },
  {
   "cell_type": "code",
   "execution_count": 11,
   "id": "4df6da22-a01a-4bea-845d-1613f72f473b",
   "metadata": {},
   "outputs": [
    {
     "data": {
      "text/plain": [
       "135080"
      ]
     },
     "execution_count": 11,
     "metadata": {},
     "output_type": "execute_result"
    }
   ],
   "source": [
    "df.CustomerID.isnull().sum()"
   ]
  },
  {
   "cell_type": "code",
   "execution_count": 13,
   "id": "79a8509c-5ef8-4878-80dc-fc77b8fe7feb",
   "metadata": {},
   "outputs": [
    {
     "name": "stdout",
     "output_type": "stream",
     "text": [
      "(397884, 8)\n"
     ]
    },
    {
     "data": {
      "text/html": [
       "<div>\n",
       "<style scoped>\n",
       "    .dataframe tbody tr th:only-of-type {\n",
       "        vertical-align: middle;\n",
       "    }\n",
       "\n",
       "    .dataframe tbody tr th {\n",
       "        vertical-align: top;\n",
       "    }\n",
       "\n",
       "    .dataframe thead th {\n",
       "        text-align: right;\n",
       "    }\n",
       "</style>\n",
       "<table border=\"1\" class=\"dataframe\">\n",
       "  <thead>\n",
       "    <tr style=\"text-align: right;\">\n",
       "      <th></th>\n",
       "      <th>InvoiceNo</th>\n",
       "      <th>StockCode</th>\n",
       "      <th>Description</th>\n",
       "      <th>Quantity</th>\n",
       "      <th>InvoiceDate</th>\n",
       "      <th>UnitPrice</th>\n",
       "      <th>CustomerID</th>\n",
       "      <th>Country</th>\n",
       "    </tr>\n",
       "  </thead>\n",
       "  <tbody>\n",
       "    <tr>\n",
       "      <th>0</th>\n",
       "      <td>536365</td>\n",
       "      <td>85123A</td>\n",
       "      <td>WHITE HANGING HEART T-LIGHT HOLDER</td>\n",
       "      <td>6</td>\n",
       "      <td>2010-12-01 08:26:00</td>\n",
       "      <td>2.55</td>\n",
       "      <td>17850.0</td>\n",
       "      <td>United Kingdom</td>\n",
       "    </tr>\n",
       "    <tr>\n",
       "      <th>1</th>\n",
       "      <td>536365</td>\n",
       "      <td>71053</td>\n",
       "      <td>WHITE METAL LANTERN</td>\n",
       "      <td>6</td>\n",
       "      <td>2010-12-01 08:26:00</td>\n",
       "      <td>3.39</td>\n",
       "      <td>17850.0</td>\n",
       "      <td>United Kingdom</td>\n",
       "    </tr>\n",
       "  </tbody>\n",
       "</table>\n",
       "</div>"
      ],
      "text/plain": [
       "  InvoiceNo StockCode                         Description  Quantity  \\\n",
       "0    536365    85123A  WHITE HANGING HEART T-LIGHT HOLDER         6   \n",
       "1    536365     71053                 WHITE METAL LANTERN         6   \n",
       "\n",
       "          InvoiceDate  UnitPrice  CustomerID         Country  \n",
       "0 2010-12-01 08:26:00       2.55     17850.0  United Kingdom  \n",
       "1 2010-12-01 08:26:00       3.39     17850.0  United Kingdom  "
      ]
     },
     "execution_count": 13,
     "metadata": {},
     "output_type": "execute_result"
    }
   ],
   "source": [
    "condition1 = (df.Quantity > 0)\n",
    "condition2 = (df.UnitPrice > 0)\n",
    "condition3 = (df.CustomerID.notnull())\n",
    "\n",
    "df = df[condition1 & condition2 & condition3]\n",
    "print(df.shape)\n",
    "df.head(2)"
   ]
  },
  {
   "cell_type": "code",
   "execution_count": 16,
   "id": "e30c359f-2ef1-469e-95ee-e1a4f6403fbb",
   "metadata": {},
   "outputs": [
    {
     "name": "stdout",
     "output_type": "stream",
     "text": [
      "<class 'pandas.core.frame.DataFrame'>\n",
      "Index: 397884 entries, 0 to 541908\n",
      "Data columns (total 8 columns):\n",
      " #   Column       Non-Null Count   Dtype         \n",
      "---  ------       --------------   -----         \n",
      " 0   InvoiceNo    397884 non-null  object        \n",
      " 1   StockCode    397884 non-null  object        \n",
      " 2   Description  397884 non-null  object        \n",
      " 3   Quantity     397884 non-null  int64         \n",
      " 4   InvoiceDate  397884 non-null  datetime64[ns]\n",
      " 5   UnitPrice    397884 non-null  float64       \n",
      " 6   CustomerID   397884 non-null  int32         \n",
      " 7   Country      397884 non-null  object        \n",
      "dtypes: datetime64[ns](1), float64(1), int32(1), int64(1), object(4)\n",
      "memory usage: 25.8+ MB\n"
     ]
    }
   ],
   "source": [
    "df.info()"
   ]
  },
  {
   "cell_type": "code",
   "execution_count": 15,
   "id": "73a92fc0-c22f-4e67-8e9e-1afe8120feb8",
   "metadata": {},
   "outputs": [
    {
     "name": "stderr",
     "output_type": "stream",
     "text": [
      "C:\\Users\\tjdtn\\AppData\\Local\\Temp\\ipykernel_32948\\3382948830.py:2: SettingWithCopyWarning: \n",
      "A value is trying to be set on a copy of a slice from a DataFrame.\n",
      "Try using .loc[row_indexer,col_indexer] = value instead\n",
      "\n",
      "See the caveats in the documentation: https://pandas.pydata.org/pandas-docs/stable/user_guide/indexing.html#returning-a-view-versus-a-copy\n",
      "  df.CustomerID = df.CustomerID.astype(int)\n"
     ]
    }
   ],
   "source": [
    "# CustomerID int로 변경하기\n",
    "df.CustomerID = df.CustomerID.astype(int)"
   ]
  },
  {
   "cell_type": "code",
   "execution_count": 18,
   "id": "ffe31f55-1462-4bd0-a124-800256008537",
   "metadata": {},
   "outputs": [
    {
     "name": "stdout",
     "output_type": "stream",
     "text": [
      "(392692, 8)\n",
      "<class 'pandas.core.frame.DataFrame'>\n",
      "Index: 392692 entries, 0 to 541908\n",
      "Data columns (total 8 columns):\n",
      " #   Column       Non-Null Count   Dtype         \n",
      "---  ------       --------------   -----         \n",
      " 0   InvoiceNo    392692 non-null  object        \n",
      " 1   StockCode    392692 non-null  object        \n",
      " 2   Description  392692 non-null  object        \n",
      " 3   Quantity     392692 non-null  int64         \n",
      " 4   InvoiceDate  392692 non-null  datetime64[ns]\n",
      " 5   UnitPrice    392692 non-null  float64       \n",
      " 6   CustomerID   392692 non-null  int32         \n",
      " 7   Country      392692 non-null  object        \n",
      "dtypes: datetime64[ns](1), float64(1), int32(1), int64(1), object(4)\n",
      "memory usage: 25.5+ MB\n"
     ]
    },
    {
     "name": "stderr",
     "output_type": "stream",
     "text": [
      "C:\\Users\\tjdtn\\AppData\\Local\\Temp\\ipykernel_32948\\4266208410.py:2: SettingWithCopyWarning: \n",
      "A value is trying to be set on a copy of a slice from a DataFrame\n",
      "\n",
      "See the caveats in the documentation: https://pandas.pydata.org/pandas-docs/stable/user_guide/indexing.html#returning-a-view-versus-a-copy\n",
      "  df.drop_duplicates(inplace=True)\n"
     ]
    }
   ],
   "source": [
    "# 중복된 것이 있는지 확인\n",
    "df.drop_duplicates(inplace=True)\n",
    "print(df.shape)\n",
    "df.info()"
   ]
  },
  {
   "cell_type": "markdown",
   "id": "59fae8b2-1d54-4ad4-99aa-e75e683e9f24",
   "metadata": {},
   "source": [
    "## EDA"
   ]
  },
  {
   "cell_type": "markdown",
   "id": "23225751-b2ed-475e-b754-5fa6b0570c4c",
   "metadata": {},
   "source": [
    "### 사용할 데이터 따로 만들기"
   ]
  },
  {
   "cell_type": "code",
   "execution_count": 20,
   "id": "596b8328-0b25-4b0f-a259-247d0773120a",
   "metadata": {},
   "outputs": [
    {
     "data": {
      "text/plain": [
       "StockCode\n",
       "85123A    2023\n",
       "22423     1713\n",
       "85099B    1615\n",
       "84879     1395\n",
       "47566     1389\n",
       "          ... \n",
       "90059A       1\n",
       "20678        1\n",
       "90059D       1\n",
       "90168        1\n",
       "23843        1\n",
       "Name: count, Length: 3665, dtype: int64"
      ]
     },
     "execution_count": 20,
     "metadata": {},
     "output_type": "execute_result"
    }
   ],
   "source": [
    "df.StockCode.value_counts() # 제품 수 : 3665"
   ]
  },
  {
   "cell_type": "code",
   "execution_count": 21,
   "id": "038c1788-cb9c-44d3-9754-b1bb183e2fd8",
   "metadata": {},
   "outputs": [
    {
     "data": {
      "text/html": [
       "<div>\n",
       "<style scoped>\n",
       "    .dataframe tbody tr th:only-of-type {\n",
       "        vertical-align: middle;\n",
       "    }\n",
       "\n",
       "    .dataframe tbody tr th {\n",
       "        vertical-align: top;\n",
       "    }\n",
       "\n",
       "    .dataframe thead th {\n",
       "        text-align: right;\n",
       "    }\n",
       "</style>\n",
       "<table border=\"1\" class=\"dataframe\">\n",
       "  <thead>\n",
       "    <tr style=\"text-align: right;\">\n",
       "      <th></th>\n",
       "      <th>Product</th>\n",
       "      <th>Transaction</th>\n",
       "      <th>Customer</th>\n",
       "    </tr>\n",
       "  </thead>\n",
       "  <tbody>\n",
       "    <tr>\n",
       "      <th>counts</th>\n",
       "      <td>3665</td>\n",
       "      <td>18532</td>\n",
       "      <td>4338</td>\n",
       "    </tr>\n",
       "  </tbody>\n",
       "</table>\n",
       "</div>"
      ],
      "text/plain": [
       "        Product  Transaction  Customer\n",
       "counts     3665        18532      4338"
      ]
     },
     "execution_count": 21,
     "metadata": {},
     "output_type": "execute_result"
    }
   ],
   "source": [
    "# 제품수, 거래건수, 고객수 알아보기\n",
    "pd.DataFrame([\n",
    "    {\n",
    "        'Product' : len(df.StockCode.value_counts()),\n",
    "        'Transaction' : len(df.InvoiceNo.value_counts()),\n",
    "        'Customer' : len(df.CustomerID.value_counts())   \n",
    "    }],\n",
    "    index=['counts']\n",
    ")"
   ]
  },
  {
   "cell_type": "code",
   "execution_count": 22,
   "id": "553f85cf-3c75-432d-9b40-388d20aa542f",
   "metadata": {
    "scrolled": true
   },
   "outputs": [
    {
     "data": {
      "text/plain": [
       "Country\n",
       "United Kingdom          349203\n",
       "Germany                   9025\n",
       "France                    8326\n",
       "EIRE                      7226\n",
       "Spain                     2479\n",
       "Netherlands               2359\n",
       "Belgium                   2031\n",
       "Switzerland               1841\n",
       "Portugal                  1453\n",
       "Australia                 1181\n",
       "Norway                    1071\n",
       "Italy                      758\n",
       "Channel Islands            747\n",
       "Finland                    685\n",
       "Cyprus                     603\n",
       "Sweden                     450\n",
       "Austria                    398\n",
       "Denmark                    380\n",
       "Poland                     330\n",
       "Japan                      321\n",
       "Israel                     245\n",
       "Unspecified                241\n",
       "Singapore                  222\n",
       "Iceland                    182\n",
       "USA                        179\n",
       "Canada                     151\n",
       "Greece                     145\n",
       "Malta                      112\n",
       "United Arab Emirates        68\n",
       "European Community          60\n",
       "RSA                         57\n",
       "Lebanon                     45\n",
       "Lithuania                   35\n",
       "Brazil                      32\n",
       "Czech Republic              25\n",
       "Bahrain                     17\n",
       "Saudi Arabia                 9\n",
       "Name: count, dtype: int64"
      ]
     },
     "execution_count": 22,
     "metadata": {},
     "output_type": "execute_result"
    }
   ],
   "source": [
    "# 국적 알아보기\n",
    "df.Country.value_counts()"
   ]
  },
  {
   "cell_type": "code",
   "execution_count": 24,
   "id": "68935670-7525-4f65-bfb0-738649cc78d5",
   "metadata": {},
   "outputs": [
    {
     "name": "stderr",
     "output_type": "stream",
     "text": [
      "C:\\Users\\tjdtn\\AppData\\Local\\Temp\\ipykernel_32948\\1974281136.py:2: SettingWithCopyWarning: \n",
      "A value is trying to be set on a copy of a slice from a DataFrame.\n",
      "Try using .loc[row_indexer,col_indexer] = value instead\n",
      "\n",
      "See the caveats in the documentation: https://pandas.pydata.org/pandas-docs/stable/user_guide/indexing.html#returning-a-view-versus-a-copy\n",
      "  df['SaleAmount'] = df.UnitPrice * df.Quantity\n"
     ]
    },
    {
     "data": {
      "text/html": [
       "<div>\n",
       "<style scoped>\n",
       "    .dataframe tbody tr th:only-of-type {\n",
       "        vertical-align: middle;\n",
       "    }\n",
       "\n",
       "    .dataframe tbody tr th {\n",
       "        vertical-align: top;\n",
       "    }\n",
       "\n",
       "    .dataframe thead th {\n",
       "        text-align: right;\n",
       "    }\n",
       "</style>\n",
       "<table border=\"1\" class=\"dataframe\">\n",
       "  <thead>\n",
       "    <tr style=\"text-align: right;\">\n",
       "      <th></th>\n",
       "      <th>InvoiceNo</th>\n",
       "      <th>StockCode</th>\n",
       "      <th>Description</th>\n",
       "      <th>Quantity</th>\n",
       "      <th>InvoiceDate</th>\n",
       "      <th>UnitPrice</th>\n",
       "      <th>CustomerID</th>\n",
       "      <th>Country</th>\n",
       "      <th>SaleAmount</th>\n",
       "    </tr>\n",
       "  </thead>\n",
       "  <tbody>\n",
       "    <tr>\n",
       "      <th>0</th>\n",
       "      <td>536365</td>\n",
       "      <td>85123A</td>\n",
       "      <td>WHITE HANGING HEART T-LIGHT HOLDER</td>\n",
       "      <td>6</td>\n",
       "      <td>2010-12-01 08:26:00</td>\n",
       "      <td>2.55</td>\n",
       "      <td>17850</td>\n",
       "      <td>United Kingdom</td>\n",
       "      <td>15.30</td>\n",
       "    </tr>\n",
       "    <tr>\n",
       "      <th>1</th>\n",
       "      <td>536365</td>\n",
       "      <td>71053</td>\n",
       "      <td>WHITE METAL LANTERN</td>\n",
       "      <td>6</td>\n",
       "      <td>2010-12-01 08:26:00</td>\n",
       "      <td>3.39</td>\n",
       "      <td>17850</td>\n",
       "      <td>United Kingdom</td>\n",
       "      <td>20.34</td>\n",
       "    </tr>\n",
       "  </tbody>\n",
       "</table>\n",
       "</div>"
      ],
      "text/plain": [
       "  InvoiceNo StockCode                         Description  Quantity  \\\n",
       "0    536365    85123A  WHITE HANGING HEART T-LIGHT HOLDER         6   \n",
       "1    536365     71053                 WHITE METAL LANTERN         6   \n",
       "\n",
       "          InvoiceDate  UnitPrice  CustomerID         Country  SaleAmount  \n",
       "0 2010-12-01 08:26:00       2.55       17850  United Kingdom       15.30  \n",
       "1 2010-12-01 08:26:00       3.39       17850  United Kingdom       20.34  "
      ]
     },
     "execution_count": 24,
     "metadata": {},
     "output_type": "execute_result"
    }
   ],
   "source": [
    "# 주문금액 컬럼 추가하기\n",
    "# 제품 단가 x 주문 개수 = 주문 금액\n",
    "df['SaleAmount'] = df.UnitPrice * df.Quantity\n",
    "df.head(2)"
   ]
  },
  {
   "cell_type": "code",
   "execution_count": 27,
   "id": "e162a1a0-35b6-4f19-95c1-4be5c127f703",
   "metadata": {},
   "outputs": [
    {
     "data": {
      "text/html": [
       "<div>\n",
       "<style scoped>\n",
       "    .dataframe tbody tr th:only-of-type {\n",
       "        vertical-align: middle;\n",
       "    }\n",
       "\n",
       "    .dataframe tbody tr th {\n",
       "        vertical-align: top;\n",
       "    }\n",
       "\n",
       "    .dataframe thead th {\n",
       "        text-align: right;\n",
       "    }\n",
       "</style>\n",
       "<table border=\"1\" class=\"dataframe\">\n",
       "  <thead>\n",
       "    <tr style=\"text-align: right;\">\n",
       "      <th></th>\n",
       "      <th>CustomerID</th>\n",
       "      <th>InvoiceNo</th>\n",
       "      <th>SaleAmount</th>\n",
       "      <th>InvoiceDate</th>\n",
       "    </tr>\n",
       "  </thead>\n",
       "  <tbody>\n",
       "    <tr>\n",
       "      <th>0</th>\n",
       "      <td>12346</td>\n",
       "      <td>1</td>\n",
       "      <td>77183.6</td>\n",
       "      <td>2011-01-18 10:01:00</td>\n",
       "    </tr>\n",
       "    <tr>\n",
       "      <th>1</th>\n",
       "      <td>12347</td>\n",
       "      <td>182</td>\n",
       "      <td>4310.0</td>\n",
       "      <td>2011-12-07 15:52:00</td>\n",
       "    </tr>\n",
       "  </tbody>\n",
       "</table>\n",
       "</div>"
      ],
      "text/plain": [
       "   CustomerID  InvoiceNo  SaleAmount         InvoiceDate\n",
       "0       12346          1     77183.6 2011-01-18 10:01:00\n",
       "1       12347        182      4310.0 2011-12-07 15:52:00"
      ]
     },
     "execution_count": 27,
     "metadata": {},
     "output_type": "execute_result"
    }
   ],
   "source": [
    "# 각 고객의 정보 추출하기 --> DF 만들기\n",
    "# CustomerID를 기준으로 그룹 만들기\n",
    "# 주문 횟수 계산 --> InvoiceNo : count\n",
    "# 주문 금액 총액 --> SaleAmount : sum\n",
    "# 주문일 중 최근 날짜 --> InvoiceDate : max\n",
    "\n",
    "aggregations = \\\n",
    "{\n",
    "    'InvoiceNo' : 'count',\n",
    "    'SaleAmount' : 'sum',\n",
    "    'InvoiceDate' : 'max'\n",
    "}\n",
    "\n",
    "customers = df.groupby('CustomerID').agg(aggregations).reset_index()\n",
    "customers.head(2)"
   ]
  },
  {
   "cell_type": "code",
   "execution_count": 28,
   "id": "56092d27-96f1-4a46-a142-e6c9f9ea8d6d",
   "metadata": {},
   "outputs": [
    {
     "data": {
      "text/html": [
       "<div>\n",
       "<style scoped>\n",
       "    .dataframe tbody tr th:only-of-type {\n",
       "        vertical-align: middle;\n",
       "    }\n",
       "\n",
       "    .dataframe tbody tr th {\n",
       "        vertical-align: top;\n",
       "    }\n",
       "\n",
       "    .dataframe thead th {\n",
       "        text-align: right;\n",
       "    }\n",
       "</style>\n",
       "<table border=\"1\" class=\"dataframe\">\n",
       "  <thead>\n",
       "    <tr style=\"text-align: right;\">\n",
       "      <th></th>\n",
       "      <th>CustomerID</th>\n",
       "      <th>Freq</th>\n",
       "      <th>SaleAmount</th>\n",
       "      <th>ElapsedDays</th>\n",
       "    </tr>\n",
       "  </thead>\n",
       "  <tbody>\n",
       "    <tr>\n",
       "      <th>0</th>\n",
       "      <td>12346</td>\n",
       "      <td>1</td>\n",
       "      <td>77183.6</td>\n",
       "      <td>2011-01-18 10:01:00</td>\n",
       "    </tr>\n",
       "    <tr>\n",
       "      <th>1</th>\n",
       "      <td>12347</td>\n",
       "      <td>182</td>\n",
       "      <td>4310.0</td>\n",
       "      <td>2011-12-07 15:52:00</td>\n",
       "    </tr>\n",
       "  </tbody>\n",
       "</table>\n",
       "</div>"
      ],
      "text/plain": [
       "   CustomerID  Freq  SaleAmount         ElapsedDays\n",
       "0       12346     1     77183.6 2011-01-18 10:01:00\n",
       "1       12347   182      4310.0 2011-12-07 15:52:00"
      ]
     },
     "execution_count": 28,
     "metadata": {},
     "output_type": "execute_result"
    }
   ],
   "source": [
    "# customers DF의 컬럼명 변경해주기\n",
    "customers = customers.rename(columns={'InvoiceNo' : 'Freq', 'InvoiceDate' : 'ElapsedDays'})\n",
    "customers.head(2)"
   ]
  },
  {
   "cell_type": "code",
   "execution_count": 30,
   "id": "5b52500f-1b4b-4e20-907f-9825f316432b",
   "metadata": {},
   "outputs": [
    {
     "data": {
      "text/html": [
       "<div>\n",
       "<style scoped>\n",
       "    .dataframe tbody tr th:only-of-type {\n",
       "        vertical-align: middle;\n",
       "    }\n",
       "\n",
       "    .dataframe tbody tr th {\n",
       "        vertical-align: top;\n",
       "    }\n",
       "\n",
       "    .dataframe thead th {\n",
       "        text-align: right;\n",
       "    }\n",
       "</style>\n",
       "<table border=\"1\" class=\"dataframe\">\n",
       "  <thead>\n",
       "    <tr style=\"text-align: right;\">\n",
       "      <th></th>\n",
       "      <th>CustomerID</th>\n",
       "      <th>Freq</th>\n",
       "      <th>SaleAmount</th>\n",
       "      <th>ElapsedDays</th>\n",
       "    </tr>\n",
       "  </thead>\n",
       "  <tbody>\n",
       "    <tr>\n",
       "      <th>0</th>\n",
       "      <td>12346</td>\n",
       "      <td>1</td>\n",
       "      <td>77183.6</td>\n",
       "      <td>325 days 13:59:00</td>\n",
       "    </tr>\n",
       "    <tr>\n",
       "      <th>1</th>\n",
       "      <td>12347</td>\n",
       "      <td>182</td>\n",
       "      <td>4310.0</td>\n",
       "      <td>2 days 08:08:00</td>\n",
       "    </tr>\n",
       "  </tbody>\n",
       "</table>\n",
       "</div>"
      ],
      "text/plain": [
       "   CustomerID  Freq  SaleAmount       ElapsedDays\n",
       "0       12346     1     77183.6 325 days 13:59:00\n",
       "1       12347   182      4310.0   2 days 08:08:00"
      ]
     },
     "execution_count": 30,
     "metadata": {},
     "output_type": "execute_result"
    }
   ],
   "source": [
    "import datetime\n",
    "\n",
    "# 마지막 주문일로부터 며칠이 지났는지에 대한 값을 ElapsedDays 컬럼에 저장하기\n",
    "# 기준 날짜 : 2011.12.10\n",
    "\n",
    "customers['ElapsedDays'] = datetime.datetime(2011, 12, 10) - customers.ElapsedDays\n",
    "customers.head(2)"
   ]
  },
  {
   "cell_type": "code",
   "execution_count": 32,
   "id": "931aae30-ede2-4e4e-878e-51fab6f61dc5",
   "metadata": {},
   "outputs": [
    {
     "data": {
      "text/html": [
       "<div>\n",
       "<style scoped>\n",
       "    .dataframe tbody tr th:only-of-type {\n",
       "        vertical-align: middle;\n",
       "    }\n",
       "\n",
       "    .dataframe tbody tr th {\n",
       "        vertical-align: top;\n",
       "    }\n",
       "\n",
       "    .dataframe thead th {\n",
       "        text-align: right;\n",
       "    }\n",
       "</style>\n",
       "<table border=\"1\" class=\"dataframe\">\n",
       "  <thead>\n",
       "    <tr style=\"text-align: right;\">\n",
       "      <th></th>\n",
       "      <th>CustomerID</th>\n",
       "      <th>Freq</th>\n",
       "      <th>SaleAmount</th>\n",
       "      <th>ElapsedDays</th>\n",
       "    </tr>\n",
       "  </thead>\n",
       "  <tbody>\n",
       "    <tr>\n",
       "      <th>0</th>\n",
       "      <td>12346</td>\n",
       "      <td>1</td>\n",
       "      <td>77183.6</td>\n",
       "      <td>326</td>\n",
       "    </tr>\n",
       "    <tr>\n",
       "      <th>1</th>\n",
       "      <td>12347</td>\n",
       "      <td>182</td>\n",
       "      <td>4310.0</td>\n",
       "      <td>3</td>\n",
       "    </tr>\n",
       "  </tbody>\n",
       "</table>\n",
       "</div>"
      ],
      "text/plain": [
       "   CustomerID  Freq  SaleAmount  ElapsedDays\n",
       "0       12346     1     77183.6          326\n",
       "1       12347   182      4310.0            3"
      ]
     },
     "execution_count": 32,
     "metadata": {},
     "output_type": "execute_result"
    }
   ],
   "source": [
    "# 날짜 수로 환산해서 ElapsedDays를 구하기\n",
    "\n",
    "customers.ElapsedDays = customers.ElapsedDays.apply(lambda x : x.days+1)\n",
    "customers.head(2)"
   ]
  },
  {
   "cell_type": "markdown",
   "id": "3699df2c-8ba3-4517-a16e-73f1f3dc712e",
   "metadata": {},
   "source": [
    "### 데이터 값 분포 확인하기"
   ]
  },
  {
   "cell_type": "code",
   "execution_count": 33,
   "id": "6344f739-9364-4de9-92cd-b8dca4e88f39",
   "metadata": {},
   "outputs": [
    {
     "data": {
      "image/png": "[encoded data removed]",
      "text/plain": [
       "<Figure size 640x480 with 1 Axes>"
      ]
     },
     "metadata": {},
     "output_type": "display_data"
    }
   ],
   "source": [
    "fig, ax = plt.subplots()\n",
    "\n",
    "ax.boxplot([customers.Freq, customers.SaleAmount, customers.ElapsedDays],\n",
    "           sym='bo')\n",
    "# x축 눈금명 변경\n",
    "plt.xticks([1, 2, 3], ['Freq', 'SaleAmount', 'ElapsedDays'])\n",
    "plt.show()"
   ]
  },
  {
   "cell_type": "markdown",
   "id": "a783cf78-f0ae-49f8-a90f-4c63af7ae0e6",
   "metadata": {},
   "source": [
    "* 위의 boxplot이 이상치로 잘 그려지지 않아 로그변환을 이용해 데이터값의 분포를 맞춰준다.\n",
    "    * 로그변환하는 이유 : 치우침 조절\n",
    "    * 표준화 : 단위 통일"
   ]
  },
  {
   "cell_type": "code",
   "execution_count": 35,
   "id": "ecd8104a-854e-45d1-b0ea-4a8e8bf7c75a",
   "metadata": {},
   "outputs": [
    {
     "data": {
      "text/html": [
       "<div>\n",
       "<style scoped>\n",
       "    .dataframe tbody tr th:only-of-type {\n",
       "        vertical-align: middle;\n",
       "    }\n",
       "\n",
       "    .dataframe tbody tr th {\n",
       "        vertical-align: top;\n",
       "    }\n",
       "\n",
       "    .dataframe thead th {\n",
       "        text-align: right;\n",
       "    }\n",
       "</style>\n",
       "<table border=\"1\" class=\"dataframe\">\n",
       "  <thead>\n",
       "    <tr style=\"text-align: right;\">\n",
       "      <th></th>\n",
       "      <th>CustomerID</th>\n",
       "      <th>Freq</th>\n",
       "      <th>SaleAmount</th>\n",
       "      <th>ElapsedDays</th>\n",
       "      <th>Freq_log</th>\n",
       "      <th>SalesAmount_log</th>\n",
       "      <th>ElapsedDays_log</th>\n",
       "    </tr>\n",
       "  </thead>\n",
       "  <tbody>\n",
       "    <tr>\n",
       "      <th>0</th>\n",
       "      <td>12346</td>\n",
       "      <td>1</td>\n",
       "      <td>77183.6</td>\n",
       "      <td>326</td>\n",
       "      <td>0.693147</td>\n",
       "      <td>11.253955</td>\n",
       "      <td>5.789960</td>\n",
       "    </tr>\n",
       "    <tr>\n",
       "      <th>1</th>\n",
       "      <td>12347</td>\n",
       "      <td>182</td>\n",
       "      <td>4310.0</td>\n",
       "      <td>3</td>\n",
       "      <td>5.209486</td>\n",
       "      <td>8.368925</td>\n",
       "      <td>1.386294</td>\n",
       "    </tr>\n",
       "  </tbody>\n",
       "</table>\n",
       "</div>"
      ],
      "text/plain": [
       "   CustomerID  Freq  SaleAmount  ElapsedDays  Freq_log  SalesAmount_log  \\\n",
       "0       12346     1     77183.6          326  0.693147        11.253955   \n",
       "1       12347   182      4310.0            3  5.209486         8.368925   \n",
       "\n",
       "   ElapsedDays_log  \n",
       "0         5.789960  \n",
       "1         1.386294  "
      ]
     },
     "execution_count": 35,
     "metadata": {},
     "output_type": "execute_result"
    }
   ],
   "source": [
    "# log1p() : 주어진 숫자에 1을 더해서 자연로그 계산\n",
    "\n",
    "customers['Freq_log'] = np.log1p(customers.Freq)\n",
    "customers['SalesAmount_log'] = np.log1p(customers.SaleAmount)\n",
    "customers['ElapsedDays_log'] = np.log1p(customers.ElapsedDays)\n",
    "customers.head(2)"
   ]
  },
  {
   "cell_type": "code",
   "execution_count": 36,
   "id": "ba2d395b-c46a-47ea-ae1f-4c1416cd6d23",
   "metadata": {},
   "outputs": [
    {
     "data": {
      "image/png": "[encoded data removed]",
      "text/plain": [
       "<Figure size 640x480 with 1 Axes>"
      ]
     },
     "metadata": {},
     "output_type": "display_data"
    }
   ],
   "source": [
    "# 다시 boxplot 그려주기\n",
    "fig, ax = plt.subplots()\n",
    "\n",
    "ax.boxplot([customers.Freq_log, customers.SalesAmount_log, customers.ElapsedDays_log],\n",
    "           sym='bo')\n",
    "# x축 눈금명 변경\n",
    "plt.xticks([1, 2, 3], ['Freq_log', 'SaleAmount_log', 'ElapsedDays_log'])\n",
    "plt.show()"
   ]
  },
  {
   "cell_type": "markdown",
   "id": "7f623bda-e275-4e89-8a8d-de7f28208d7b",
   "metadata": {},
   "source": [
    "## 모델링 - KMeans"
   ]
  },
  {
   "cell_type": "code",
   "execution_count": 37,
   "id": "f944b6d9-93d5-490f-82d9-24da95efc4b4",
   "metadata": {},
   "outputs": [],
   "source": [
    "from sklearn.cluster import KMeans\n",
    "from sklearn.metrics import silhouette_score, silhouette_samples"
   ]
  },
  {
   "cell_type": "code",
   "execution_count": 42,
   "id": "5380b1be-f6c6-462a-a968-e53a8138c6bd",
   "metadata": {},
   "outputs": [
    {
     "data": {
      "text/plain": [
       "array([[ 0.69314718, 11.25395523,  5.78996017],\n",
       "       [ 5.20948615,  8.36892517,  1.38629436],\n",
       "       [ 3.4657359 ,  7.49456369,  4.34380542],\n",
       "       ...,\n",
       "       [ 2.56494936,  5.1876651 ,  2.19722458],\n",
       "       [ 6.58202514,  7.62390095,  1.60943791],\n",
       "       [ 4.26267988,  7.51658563,  3.78418963]])"
      ]
     },
     "execution_count": 42,
     "metadata": {},
     "output_type": "execute_result"
    }
   ],
   "source": [
    "X_features = customers[['Freq_log', 'SalesAmount_log', 'ElapsedDays_log']].values\n",
    "X_features"
   ]
  },
  {
   "cell_type": "code",
   "execution_count": 41,
   "id": "c2c762b4-cee3-42c9-8c60-cca60707aed5",
   "metadata": {},
   "outputs": [
    {
     "data": {
      "text/plain": [
       "array([[-2.43820181,  3.7077163 ,  1.47888429],\n",
       "       [ 1.18898578,  1.41490344, -1.89064214],\n",
       "       [-0.21146474,  0.72002428,  0.37233877],\n",
       "       ...,\n",
       "       [-0.9349095 , -1.11333158, -1.27014755],\n",
       "       [ 2.29130702,  0.82281217, -1.71990073],\n",
       "       [ 0.42858139,  0.73752572, -0.05585907]])"
      ]
     },
     "execution_count": 41,
     "metadata": {},
     "output_type": "execute_result"
    }
   ],
   "source": [
    "# 정규분포로 scaling해야 한다. (서로 단위가 틀린 속성 정보를 지님.)\n",
    "\n",
    "from sklearn.preprocessing import StandardScaler\n",
    "\n",
    "scaler = StandardScaler()\n",
    "\n",
    "X_features_scaled = scaler.fit_transform(X_features)\n",
    "X_features_scaled"
   ]
  },
  {
   "cell_type": "markdown",
   "id": "cd341ac0-fc84-4c6a-a966-6377a4740707",
   "metadata": {},
   "source": [
    "### 최적의 K값 찾기\n",
    "\n",
    "* inertia_ : kmeans에서 각 centroid와 해당 cluster에 속한 데이터 포인트 간 제곱 거리의 합"
   ]
  },
  {
   "cell_type": "code",
   "execution_count": 46,
   "id": "28245395-71ae-4447-a9f8-4a99a43db6ff",
   "metadata": {},
   "outputs": [
    {
     "name": "stderr",
     "output_type": "stream",
     "text": [
      "C:\\ProgramData\\anaconda3\\Lib\\site-packages\\sklearn\\cluster\\_kmeans.py:870: FutureWarning: The default value of `n_init` will change from 10 to 'auto' in 1.4. Set the value of `n_init` explicitly to suppress the warning\n",
      "  warnings.warn(\n",
      "C:\\ProgramData\\anaconda3\\Lib\\site-packages\\sklearn\\cluster\\_kmeans.py:870: FutureWarning: The default value of `n_init` will change from 10 to 'auto' in 1.4. Set the value of `n_init` explicitly to suppress the warning\n",
      "  warnings.warn(\n",
      "C:\\ProgramData\\anaconda3\\Lib\\site-packages\\sklearn\\cluster\\_kmeans.py:870: FutureWarning: The default value of `n_init` will change from 10 to 'auto' in 1.4. Set the value of `n_init` explicitly to suppress the warning\n",
      "  warnings.warn(\n",
      "C:\\ProgramData\\anaconda3\\Lib\\site-packages\\sklearn\\cluster\\_kmeans.py:870: FutureWarning: The default value of `n_init` will change from 10 to 'auto' in 1.4. Set the value of `n_init` explicitly to suppress the warning\n",
      "  warnings.warn(\n",
      "C:\\ProgramData\\anaconda3\\Lib\\site-packages\\sklearn\\cluster\\_kmeans.py:870: FutureWarning: The default value of `n_init` will change from 10 to 'auto' in 1.4. Set the value of `n_init` explicitly to suppress the warning\n",
      "  warnings.warn(\n",
      "C:\\ProgramData\\anaconda3\\Lib\\site-packages\\sklearn\\cluster\\_kmeans.py:870: FutureWarning: The default value of `n_init` will change from 10 to 'auto' in 1.4. Set the value of `n_init` explicitly to suppress the warning\n",
      "  warnings.warn(\n",
      "C:\\ProgramData\\anaconda3\\Lib\\site-packages\\sklearn\\cluster\\_kmeans.py:870: FutureWarning: The default value of `n_init` will change from 10 to 'auto' in 1.4. Set the value of `n_init` explicitly to suppress the warning\n",
      "  warnings.warn(\n",
      "C:\\ProgramData\\anaconda3\\Lib\\site-packages\\sklearn\\cluster\\_kmeans.py:870: FutureWarning: The default value of `n_init` will change from 10 to 'auto' in 1.4. Set the value of `n_init` explicitly to suppress the warning\n",
      "  warnings.warn(\n",
      "C:\\ProgramData\\anaconda3\\Lib\\site-packages\\sklearn\\cluster\\_kmeans.py:870: FutureWarning: The default value of `n_init` will change from 10 to 'auto' in 1.4. Set the value of `n_init` explicitly to suppress the warning\n",
      "  warnings.warn(\n",
      "C:\\ProgramData\\anaconda3\\Lib\\site-packages\\sklearn\\cluster\\_kmeans.py:870: FutureWarning: The default value of `n_init` will change from 10 to 'auto' in 1.4. Set the value of `n_init` explicitly to suppress the warning\n",
      "  warnings.warn(\n"
     ]
    },
    {
     "data": {
      "image/png": "[encoded data removed]",
      "text/plain": [
       "<Figure size 640x480 with 1 Axes>"
      ]
     },
     "metadata": {},
     "output_type": "display_data"
    }
   ],
   "source": [
    "# Elbow\n",
    "\n",
    "distortions = []\n",
    "\n",
    "for i in range(1, 11):\n",
    "    # 모델 생성\n",
    "    kmeans = KMeans(n_clusters=i, random_state=42)\n",
    "    # 모델 훈련\n",
    "    kmeans.fit(X_features_scaled)\n",
    "    distortions.append(kmeans.inertia_)\n",
    "\n",
    "plt.plot(range(1, 11), distortions, marker='o')\n",
    "plt.xlabel('Number of clusters')\n",
    "plt.ylabel('Distortions')\n",
    "plt.show()"
   ]
  },
  {
   "cell_type": "code",
   "execution_count": 48,
   "id": "c4df8ccc-d05a-4f16-94e8-9b18a9ef49cb",
   "metadata": {},
   "outputs": [
    {
     "name": "stderr",
     "output_type": "stream",
     "text": [
      "C:\\ProgramData\\anaconda3\\Lib\\site-packages\\sklearn\\cluster\\_kmeans.py:870: FutureWarning: The default value of `n_init` will change from 10 to 'auto' in 1.4. Set the value of `n_init` explicitly to suppress the warning\n",
      "  warnings.warn(\n"
     ]
    },
    {
     "data": {
      "text/plain": [
       "array([0, 1, 0, ..., 0, 1, 0])"
      ]
     },
     "execution_count": 48,
     "metadata": {},
     "output_type": "execute_result"
    }
   ],
   "source": [
    "# k = 3일 때\n",
    "kmeans = KMeans(n_clusters=3, random_state=42)\n",
    "\n",
    "# 모델이 예측한 값\n",
    "y_pred = kmeans.fit_predict(X_features_scaled)\n",
    "y_pred"
   ]
  },
  {
   "cell_type": "code",
   "execution_count": 49,
   "id": "c2715f1b-ef56-49ea-b0d8-4ee6239fa5df",
   "metadata": {},
   "outputs": [
    {
     "data": {
      "text/html": [
       "<div>\n",
       "<style scoped>\n",
       "    .dataframe tbody tr th:only-of-type {\n",
       "        vertical-align: middle;\n",
       "    }\n",
       "\n",
       "    .dataframe tbody tr th {\n",
       "        vertical-align: top;\n",
       "    }\n",
       "\n",
       "    .dataframe thead th {\n",
       "        text-align: right;\n",
       "    }\n",
       "</style>\n",
       "<table border=\"1\" class=\"dataframe\">\n",
       "  <thead>\n",
       "    <tr style=\"text-align: right;\">\n",
       "      <th></th>\n",
       "      <th>CustomerID</th>\n",
       "      <th>Freq</th>\n",
       "      <th>SaleAmount</th>\n",
       "      <th>ElapsedDays</th>\n",
       "      <th>Freq_log</th>\n",
       "      <th>SalesAmount_log</th>\n",
       "      <th>ElapsedDays_log</th>\n",
       "    </tr>\n",
       "  </thead>\n",
       "  <tbody>\n",
       "    <tr>\n",
       "      <th>0</th>\n",
       "      <td>12346</td>\n",
       "      <td>1</td>\n",
       "      <td>77183.6</td>\n",
       "      <td>326</td>\n",
       "      <td>0.693147</td>\n",
       "      <td>11.253955</td>\n",
       "      <td>5.789960</td>\n",
       "    </tr>\n",
       "    <tr>\n",
       "      <th>1</th>\n",
       "      <td>12347</td>\n",
       "      <td>182</td>\n",
       "      <td>4310.0</td>\n",
       "      <td>3</td>\n",
       "      <td>5.209486</td>\n",
       "      <td>8.368925</td>\n",
       "      <td>1.386294</td>\n",
       "    </tr>\n",
       "  </tbody>\n",
       "</table>\n",
       "</div>"
      ],
      "text/plain": [
       "   CustomerID  Freq  SaleAmount  ElapsedDays  Freq_log  SalesAmount_log  \\\n",
       "0       12346     1     77183.6          326  0.693147        11.253955   \n",
       "1       12347   182      4310.0            3  5.209486         8.368925   \n",
       "\n",
       "   ElapsedDays_log  \n",
       "0         5.789960  \n",
       "1         1.386294  "
      ]
     },
     "execution_count": 49,
     "metadata": {},
     "output_type": "execute_result"
    }
   ],
   "source": [
    "customers.head(2)"
   ]
  },
  {
   "cell_type": "code",
   "execution_count": 50,
   "id": "f776764f-cd9c-4508-8ce3-6202765f2469",
   "metadata": {},
   "outputs": [
    {
     "data": {
      "text/html": [
       "<div>\n",
       "<style scoped>\n",
       "    .dataframe tbody tr th:only-of-type {\n",
       "        vertical-align: middle;\n",
       "    }\n",
       "\n",
       "    .dataframe tbody tr th {\n",
       "        vertical-align: top;\n",
       "    }\n",
       "\n",
       "    .dataframe thead th {\n",
       "        text-align: right;\n",
       "    }\n",
       "</style>\n",
       "<table border=\"1\" class=\"dataframe\">\n",
       "  <thead>\n",
       "    <tr style=\"text-align: right;\">\n",
       "      <th></th>\n",
       "      <th>CustomerID</th>\n",
       "      <th>Freq</th>\n",
       "      <th>SaleAmount</th>\n",
       "      <th>ElapsedDays</th>\n",
       "      <th>Freq_log</th>\n",
       "      <th>SalesAmount_log</th>\n",
       "      <th>ElapsedDays_log</th>\n",
       "      <th>cluster</th>\n",
       "    </tr>\n",
       "  </thead>\n",
       "  <tbody>\n",
       "    <tr>\n",
       "      <th>0</th>\n",
       "      <td>12346</td>\n",
       "      <td>1</td>\n",
       "      <td>77183.6</td>\n",
       "      <td>326</td>\n",
       "      <td>0.693147</td>\n",
       "      <td>11.253955</td>\n",
       "      <td>5.789960</td>\n",
       "      <td>0</td>\n",
       "    </tr>\n",
       "    <tr>\n",
       "      <th>1</th>\n",
       "      <td>12347</td>\n",
       "      <td>182</td>\n",
       "      <td>4310.0</td>\n",
       "      <td>3</td>\n",
       "      <td>5.209486</td>\n",
       "      <td>8.368925</td>\n",
       "      <td>1.386294</td>\n",
       "      <td>1</td>\n",
       "    </tr>\n",
       "  </tbody>\n",
       "</table>\n",
       "</div>"
      ],
      "text/plain": [
       "   CustomerID  Freq  SaleAmount  ElapsedDays  Freq_log  SalesAmount_log  \\\n",
       "0       12346     1     77183.6          326  0.693147        11.253955   \n",
       "1       12347   182      4310.0            3  5.209486         8.368925   \n",
       "\n",
       "   ElapsedDays_log  cluster  \n",
       "0         5.789960        0  \n",
       "1         1.386294        1  "
      ]
     },
     "execution_count": 50,
     "metadata": {},
     "output_type": "execute_result"
    }
   ],
   "source": [
    "customers['cluster'] = y_pred\n",
    "customers.head(2)"
   ]
  },
  {
   "cell_type": "code",
   "execution_count": 52,
   "id": "edc73ce8-f818-465b-b01b-40b8504ec3f1",
   "metadata": {},
   "outputs": [
    {
     "data": {
      "text/plain": [
       "cluster\n",
       "0    1830\n",
       "2    1511\n",
       "1     997\n",
       "Name: count, dtype: int64"
      ]
     },
     "execution_count": 52,
     "metadata": {},
     "output_type": "execute_result"
    }
   ],
   "source": [
    "# 군집별 개수 파악\n",
    "customers.cluster.value_counts()"
   ]
  },
  {
   "cell_type": "markdown",
   "id": "bfc7c122-bab5-477c-a33b-6797f6e6b979",
   "metadata": {},
   "source": [
    "## 결과 분석 및 시각화하기"
   ]
  },
  {
   "cell_type": "code",
   "execution_count": 59,
   "id": "37f2f30e-3aeb-471a-97e8-c5c6cf42316b",
   "metadata": {},
   "outputs": [],
   "source": [
    "# 최적의 K 찾기\n",
    "# 실루엣 점수\n",
    "from matplotlib import cm\n",
    "\n",
    "def silhoutte_viz(k, x_features):\n",
    "    kmeans = KMeans(n_clusters=k, random_state=42)\n",
    "    y_pred = kmeans.fit_predict(x_features)\n",
    "\n",
    "    silhoutte_values = silhouette_samples(x_features, y_pred, metric='euclidean')\n",
    "\n",
    "    # 초기화\n",
    "    y_ax_lower, y_ax_higher = 0, 0\n",
    "    y_ticks = []\n",
    "\n",
    "    for c in range(k):\n",
    "        c_silhouette = silhoutte_values[y_pred == c]\n",
    "        c_silhouette.sort()\n",
    "        y_ax_higher += len(c_silhouette)\n",
    "\n",
    "        color = cm.jet(float(c) / k)\n",
    "        plt.barh(range(y_ax_lower, y_ax_higher), c_silhouette, height=1.0, edgecolor='none', color=color)\n",
    "\n",
    "        y_ticks.append((y_ax_lower + y_ax_higher) / 2.)\n",
    "        y_ax_lower += len(c_silhouette)\n",
    "\n",
    "    silhouette_avg = np.mean(silhoutte_values)\n",
    "    print(silhouette_avg)\n",
    "    plt.axvline(silhouette_avg, color='red', linestyle='--')\n",
    "    plt.title('Number of Cluster : ' + str(k) + '\\nSilhouette Score : ' + str(round(silhouette_avg, 3)))\n",
    "    plt.ylabel('Cluster')\n",
    "    plt.yticks(y_ticks, range(k))\n",
    "    plt.xlabel('Silhouette coefficient')\n",
    "    plt.xticks([0, 0.2, 0.4, 0.6, 0.8, 1.0])\n",
    "    plt.tight_layout()\n",
    "    plt.show()\n",
    "    "
   ]
  },
  {
   "cell_type": "code",
   "execution_count": 60,
   "id": "c4219e7c-a6dc-45a3-8487-d7043b4ebe9f",
   "metadata": {},
   "outputs": [
    {
     "name": "stderr",
     "output_type": "stream",
     "text": [
      "C:\\ProgramData\\anaconda3\\Lib\\site-packages\\sklearn\\cluster\\_kmeans.py:870: FutureWarning: The default value of `n_init` will change from 10 to 'auto' in 1.4. Set the value of `n_init` explicitly to suppress the warning\n",
      "  warnings.warn(\n"
     ]
    },
    {
     "name": "stdout",
     "output_type": "stream",
     "text": [
      "0.3035049678534824\n"
     ]
    },
    {
     "data": {
      "image/png": "[encoded data removed]",
      "text/plain": [
       "<Figure size 640x480 with 1 Axes>"
      ]
     },
     "metadata": {},
     "output_type": "display_data"
    }
   ],
   "source": [
    "silhoutte_viz(3, X_features_scaled)"
   ]
  },
  {
   "cell_type": "code",
   "execution_count": 63,
   "id": "54680c3d-f00f-4e3f-ab6c-2a13a8aaa695",
   "metadata": {},
   "outputs": [
    {
     "name": "stderr",
     "output_type": "stream",
     "text": [
      "C:\\ProgramData\\anaconda3\\Lib\\site-packages\\sklearn\\cluster\\_kmeans.py:870: FutureWarning: The default value of `n_init` will change from 10 to 'auto' in 1.4. Set the value of `n_init` explicitly to suppress the warning\n",
      "  warnings.warn(\n"
     ]
    },
    {
     "name": "stdout",
     "output_type": "stream",
     "text": [
      "0.3090037245277387\n"
     ]
    },
    {
     "data": {
      "image/png": "[encoded data removed]",
      "text/plain": [
       "<Figure size 640x480 with 1 Axes>"
      ]
     },
     "metadata": {},
     "output_type": "display_data"
    }
   ],
   "source": [
    "silhoutte_viz(4, X_features_scaled)"
   ]
  },
  {
   "cell_type": "markdown",
   "id": "391d11ee-0ee7-4a99-861f-ab14208e42e8",
   "metadata": {},
   "source": [
    "### Cluster 수에 따른 cluster 데이터 분포 시각화 함수"
   ]
  },
  {
   "cell_type": "code",
   "execution_count": 69,
   "id": "cb899f8e-14ed-4f8c-ac76-86a007b12d9d",
   "metadata": {},
   "outputs": [],
   "source": [
    "def clusterScatter(k, x_features):\n",
    "    c_color = []\n",
    "    kmeans = KMeans(n_clusters=k, random_state=42)\n",
    "    y_pred = kmeans.fit_predict(x_features)\n",
    "\n",
    "    # cluster 색 지정\n",
    "    for i in range(k):\n",
    "        color = cm.jet(float(i) / k)\n",
    "        c_color.append(color)\n",
    "\n",
    "        # cluster 안의 데이터 분포를 산점도로 표현 --> 동그라미로 시각화\n",
    "        plt.scatter(x_features[y_pred == i, 0], x_features[y_pred == i, 1], \n",
    "                    marker='o', color=color, edgecolors='black', s=50,\n",
    "                    label='cluster' + str(i))\n",
    "        # centroid 표시 --> 별\n",
    "    for i in range(k):\n",
    "        plt.scatter(kmeans.cluster_centers_[i, 0], kmeans.cluster_centers_[i, 1], \n",
    "                    marker='*', color=c_color[i], edgecolors='white', s=200)\n",
    "\n",
    "    plt.legend()\n",
    "    plt.grid()\n",
    "    plt.tight_layout()\n",
    "    plt.show()"
   ]
  },
  {
   "cell_type": "code",
   "execution_count": 71,
   "id": "48dc09c2-9f4d-47a3-abe9-2adee4c52988",
   "metadata": {},
   "outputs": [
    {
     "name": "stderr",
     "output_type": "stream",
     "text": [
      "C:\\ProgramData\\anaconda3\\Lib\\site-packages\\sklearn\\cluster\\_kmeans.py:870: FutureWarning: The default value of `n_init` will change from 10 to 'auto' in 1.4. Set the value of `n_init` explicitly to suppress the warning\n",
      "  warnings.warn(\n",
      "C:\\Users\\tjdtn\\AppData\\Local\\Temp\\ipykernel_32948\\441325768.py:22: UserWarning: Glyph 8722 (\\N{MINUS SIGN}) missing from current font.\n",
      "  plt.tight_layout()\n",
      "C:\\ProgramData\\anaconda3\\Lib\\site-packages\\IPython\\core\\pylabtools.py:152: UserWarning: Glyph 8722 (\\N{MINUS SIGN}) missing from current font.\n",
      "  fig.canvas.print_figure(bytes_io, **kw)\n"
     ]
    },
    {
     "data": {
      "image/png": "[encoded data removed]",
      "text/plain": [
       "<Figure size 640x480 with 1 Axes>"
      ]
     },
     "metadata": {},
     "output_type": "display_data"
    }
   ],
   "source": [
    "clusterScatter(4, X_features_scaled)"
   ]
  },
  {
   "cell_type": "code",
   "execution_count": 73,
   "id": "100bc8dc-f6a3-46c9-a9dc-3b200aa4802f",
   "metadata": {},
   "outputs": [
    {
     "data": {
      "text/plain": [
       "array([[ 0.14815704,  0.08006983, -0.07034678],\n",
       "       [ 1.18782972,  1.2215219 , -1.09002981],\n",
       "       [-0.96604988, -0.90578407,  0.80694128]])"
      ]
     },
     "execution_count": 73,
     "metadata": {},
     "output_type": "execute_result"
    }
   ],
   "source": [
    "kmeans.cluster_centers_"
   ]
  },
  {
   "cell_type": "markdown",
   "id": "f45f86d7-5ab3-4966-b5bd-0da0f07ead69",
   "metadata": {},
   "source": [
    "## 결정된 K를 적용해서 최적의 KMeans 모델 사용하기"
   ]
  },
  {
   "cell_type": "code",
   "execution_count": 74,
   "id": "36f8ea8a-78a1-4951-be8c-1d4fe533b442",
   "metadata": {},
   "outputs": [
    {
     "name": "stderr",
     "output_type": "stream",
     "text": [
      "C:\\ProgramData\\anaconda3\\Lib\\site-packages\\sklearn\\cluster\\_kmeans.py:870: FutureWarning: The default value of `n_init` will change from 10 to 'auto' in 1.4. Set the value of `n_init` explicitly to suppress the warning\n",
      "  warnings.warn(\n"
     ]
    },
    {
     "data": {
      "text/plain": [
       "array([3, 2, 3, ..., 0, 2, 3])"
      ]
     },
     "execution_count": 74,
     "metadata": {},
     "output_type": "execute_result"
    }
   ],
   "source": [
    "best_k = 4\n",
    "\n",
    "kmeans = KMeans(n_clusters=best_k, random_state=42)\n",
    "y_pred = kmeans.fit_predict(X_features_scaled)\n",
    "y_pred"
   ]
  },
  {
   "cell_type": "code",
   "execution_count": 75,
   "id": "7bccad47-357b-44ad-beb6-437b3c7f9300",
   "metadata": {},
   "outputs": [],
   "source": [
    "customers['cluster'] = y_pred"
   ]
  },
  {
   "cell_type": "code",
   "execution_count": 76,
   "id": "a76f2d79-9d22-4993-ae0e-fd41fe86a21d",
   "metadata": {},
   "outputs": [
    {
     "data": {
      "text/html": [
       "<div>\n",
       "<style scoped>\n",
       "    .dataframe tbody tr th:only-of-type {\n",
       "        vertical-align: middle;\n",
       "    }\n",
       "\n",
       "    .dataframe tbody tr th {\n",
       "        vertical-align: top;\n",
       "    }\n",
       "\n",
       "    .dataframe thead th {\n",
       "        text-align: right;\n",
       "    }\n",
       "</style>\n",
       "<table border=\"1\" class=\"dataframe\">\n",
       "  <thead>\n",
       "    <tr style=\"text-align: right;\">\n",
       "      <th></th>\n",
       "      <th>CustomerID</th>\n",
       "      <th>Freq</th>\n",
       "      <th>SaleAmount</th>\n",
       "      <th>ElapsedDays</th>\n",
       "      <th>Freq_log</th>\n",
       "      <th>SalesAmount_log</th>\n",
       "      <th>ElapsedDays_log</th>\n",
       "      <th>cluster</th>\n",
       "    </tr>\n",
       "  </thead>\n",
       "  <tbody>\n",
       "    <tr>\n",
       "      <th>0</th>\n",
       "      <td>12346</td>\n",
       "      <td>1</td>\n",
       "      <td>77183.6</td>\n",
       "      <td>326</td>\n",
       "      <td>0.693147</td>\n",
       "      <td>11.253955</td>\n",
       "      <td>5.789960</td>\n",
       "      <td>3</td>\n",
       "    </tr>\n",
       "    <tr>\n",
       "      <th>1</th>\n",
       "      <td>12347</td>\n",
       "      <td>182</td>\n",
       "      <td>4310.0</td>\n",
       "      <td>3</td>\n",
       "      <td>5.209486</td>\n",
       "      <td>8.368925</td>\n",
       "      <td>1.386294</td>\n",
       "      <td>2</td>\n",
       "    </tr>\n",
       "  </tbody>\n",
       "</table>\n",
       "</div>"
      ],
      "text/plain": [
       "   CustomerID  Freq  SaleAmount  ElapsedDays  Freq_log  SalesAmount_log  \\\n",
       "0       12346     1     77183.6          326  0.693147        11.253955   \n",
       "1       12347   182      4310.0            3  5.209486         8.368925   \n",
       "\n",
       "   ElapsedDays_log  cluster  \n",
       "0         5.789960        3  \n",
       "1         1.386294        2  "
      ]
     },
     "execution_count": 76,
     "metadata": {},
     "output_type": "execute_result"
    }
   ],
   "source": [
    "customers.head(2)"
   ]
  },
  {
   "cell_type": "code",
   "execution_count": 91,
   "id": "c460dedf-dd60-4e6f-bb6c-6de1ad6c868e",
   "metadata": {},
   "outputs": [
    {
     "data": {
      "text/html": [
       "<div>\n",
       "<style scoped>\n",
       "    .dataframe tbody tr th:only-of-type {\n",
       "        vertical-align: middle;\n",
       "    }\n",
       "\n",
       "    .dataframe tbody tr th {\n",
       "        vertical-align: top;\n",
       "    }\n",
       "\n",
       "    .dataframe thead th {\n",
       "        text-align: right;\n",
       "    }\n",
       "</style>\n",
       "<table border=\"1\" class=\"dataframe\">\n",
       "  <thead>\n",
       "    <tr style=\"text-align: right;\">\n",
       "      <th></th>\n",
       "      <th>count</th>\n",
       "    </tr>\n",
       "    <tr>\n",
       "      <th>cluster</th>\n",
       "      <th></th>\n",
       "    </tr>\n",
       "  </thead>\n",
       "  <tbody>\n",
       "    <tr>\n",
       "      <th>0</th>\n",
       "      <td>895</td>\n",
       "    </tr>\n",
       "    <tr>\n",
       "      <th>1</th>\n",
       "      <td>1370</td>\n",
       "    </tr>\n",
       "    <tr>\n",
       "      <th>2</th>\n",
       "      <td>872</td>\n",
       "    </tr>\n",
       "    <tr>\n",
       "      <th>3</th>\n",
       "      <td>1201</td>\n",
       "    </tr>\n",
       "  </tbody>\n",
       "</table>\n",
       "</div>"
      ],
      "text/plain": [
       "         count\n",
       "cluster       \n",
       "0          895\n",
       "1         1370\n",
       "2          872\n",
       "3         1201"
      ]
     },
     "execution_count": 91,
     "metadata": {},
     "output_type": "execute_result"
    }
   ],
   "source": [
    "clusters = \\\n",
    "pd.DataFrame(data={'count' : customers.cluster.value_counts().values},\n",
    "             index=customers.cluster.value_counts().index).sort_index()\n",
    "clusters"
   ]
  },
  {
   "cell_type": "markdown",
   "id": "9531b802-c1d1-4216-b2f6-6c731bd80d35",
   "metadata": {},
   "source": [
    "## 군집별 특징 확인하기"
   ]
  },
  {
   "cell_type": "code",
   "execution_count": 92,
   "id": "15033dd4-35fd-459f-a72a-20e5d29d68bc",
   "metadata": {},
   "outputs": [
    {
     "data": {
      "text/plain": [
       "cluster\n",
       "0     895\n",
       "1    1370\n",
       "2     872\n",
       "3    1201\n",
       "Name: CustomerID, dtype: int64"
      ]
     },
     "execution_count": 92,
     "metadata": {},
     "output_type": "execute_result"
    }
   ],
   "source": [
    "customers.groupby('cluster')['CustomerID'].count()"
   ]
  },
  {
   "cell_type": "code",
   "execution_count": 93,
   "id": "34961289-3f8f-477b-a9be-8356bccc5466",
   "metadata": {},
   "outputs": [
    {
     "data": {
      "text/plain": [
       "Index(['CustomerID', 'Freq', 'SaleAmount', 'ElapsedDays', 'Freq_log',\n",
       "       'SalesAmount_log', 'ElapsedDays_log', 'cluster'],\n",
       "      dtype='object')"
      ]
     },
     "execution_count": 93,
     "metadata": {},
     "output_type": "execute_result"
    }
   ],
   "source": [
    "customers.columns"
   ]
  },
  {
   "cell_type": "code",
   "execution_count": 94,
   "id": "a70710b3-d3e2-4a3d-a6f2-5c86357bb4de",
   "metadata": {},
   "outputs": [
    {
     "data": {
      "text/html": [
       "<div>\n",
       "<style scoped>\n",
       "    .dataframe tbody tr th:only-of-type {\n",
       "        vertical-align: middle;\n",
       "    }\n",
       "\n",
       "    .dataframe tbody tr th {\n",
       "        vertical-align: top;\n",
       "    }\n",
       "\n",
       "    .dataframe thead th {\n",
       "        text-align: right;\n",
       "    }\n",
       "</style>\n",
       "<table border=\"1\" class=\"dataframe\">\n",
       "  <thead>\n",
       "    <tr style=\"text-align: right;\">\n",
       "      <th></th>\n",
       "      <th>CustomerID</th>\n",
       "      <th>Freq</th>\n",
       "      <th>SaleAmount</th>\n",
       "      <th>ElapsedDays</th>\n",
       "      <th>cluster</th>\n",
       "    </tr>\n",
       "  </thead>\n",
       "  <tbody>\n",
       "    <tr>\n",
       "      <th>0</th>\n",
       "      <td>12346</td>\n",
       "      <td>1</td>\n",
       "      <td>77183.6</td>\n",
       "      <td>326</td>\n",
       "      <td>3</td>\n",
       "    </tr>\n",
       "    <tr>\n",
       "      <th>1</th>\n",
       "      <td>12347</td>\n",
       "      <td>182</td>\n",
       "      <td>4310.0</td>\n",
       "      <td>3</td>\n",
       "      <td>2</td>\n",
       "    </tr>\n",
       "  </tbody>\n",
       "</table>\n",
       "</div>"
      ],
      "text/plain": [
       "   CustomerID  Freq  SaleAmount  ElapsedDays  cluster\n",
       "0       12346     1     77183.6          326        3\n",
       "1       12347   182      4310.0            3        2"
      ]
     },
     "execution_count": 94,
     "metadata": {},
     "output_type": "execute_result"
    }
   ],
   "source": [
    "customer_df = customers.drop(columns=['Freq_log', 'SalesAmount_log', 'ElapsedDays_log'])\n",
    "customer_df.head(2)"
   ]
  },
  {
   "cell_type": "code",
   "execution_count": 95,
   "id": "5c23a93d-32a6-4845-b2a8-4385dc2a4245",
   "metadata": {},
   "outputs": [
    {
     "data": {
      "text/html": [
       "<div>\n",
       "<style scoped>\n",
       "    .dataframe tbody tr th:only-of-type {\n",
       "        vertical-align: middle;\n",
       "    }\n",
       "\n",
       "    .dataframe tbody tr th {\n",
       "        vertical-align: top;\n",
       "    }\n",
       "\n",
       "    .dataframe thead th {\n",
       "        text-align: right;\n",
       "    }\n",
       "</style>\n",
       "<table border=\"1\" class=\"dataframe\">\n",
       "  <thead>\n",
       "    <tr style=\"text-align: right;\">\n",
       "      <th></th>\n",
       "      <th>CustomerID</th>\n",
       "      <th>Freq</th>\n",
       "      <th>SaleAmount</th>\n",
       "      <th>ElapsedDays</th>\n",
       "      <th>cluster</th>\n",
       "      <th>SaleAmountAVG</th>\n",
       "    </tr>\n",
       "  </thead>\n",
       "  <tbody>\n",
       "    <tr>\n",
       "      <th>0</th>\n",
       "      <td>12346</td>\n",
       "      <td>1</td>\n",
       "      <td>77183.6</td>\n",
       "      <td>326</td>\n",
       "      <td>3</td>\n",
       "      <td>77183.600000</td>\n",
       "    </tr>\n",
       "    <tr>\n",
       "      <th>1</th>\n",
       "      <td>12347</td>\n",
       "      <td>182</td>\n",
       "      <td>4310.0</td>\n",
       "      <td>3</td>\n",
       "      <td>2</td>\n",
       "      <td>23.681319</td>\n",
       "    </tr>\n",
       "  </tbody>\n",
       "</table>\n",
       "</div>"
      ],
      "text/plain": [
       "   CustomerID  Freq  SaleAmount  ElapsedDays  cluster  SaleAmountAVG\n",
       "0       12346     1     77183.6          326        3   77183.600000\n",
       "1       12347   182      4310.0            3        2      23.681319"
      ]
     },
     "execution_count": 95,
     "metadata": {},
     "output_type": "execute_result"
    }
   ],
   "source": [
    "# 주문 1회당 평균 구매 금액 : SalesAmountAVG\n",
    "\n",
    "customer_df['SaleAmountAVG'] = customer_df['SaleAmount'] / customer_df['Freq']\n",
    "customer_df.head(2)"
   ]
  },
  {
   "cell_type": "code",
   "execution_count": 96,
   "id": "154ca991-f15f-4126-b7d7-374e8931d619",
   "metadata": {},
   "outputs": [
    {
     "data": {
      "text/html": [
       "<div>\n",
       "<style scoped>\n",
       "    .dataframe tbody tr th:only-of-type {\n",
       "        vertical-align: middle;\n",
       "    }\n",
       "\n",
       "    .dataframe tbody tr th {\n",
       "        vertical-align: top;\n",
       "    }\n",
       "\n",
       "    .dataframe thead th {\n",
       "        text-align: right;\n",
       "    }\n",
       "</style>\n",
       "<table border=\"1\" class=\"dataframe\">\n",
       "  <thead>\n",
       "    <tr style=\"text-align: right;\">\n",
       "      <th></th>\n",
       "      <th>Freq</th>\n",
       "      <th>SaleAmount</th>\n",
       "      <th>ElapsedDays</th>\n",
       "      <th>SaleAmountAVG</th>\n",
       "    </tr>\n",
       "    <tr>\n",
       "      <th>cluster</th>\n",
       "      <th></th>\n",
       "      <th></th>\n",
       "      <th></th>\n",
       "      <th></th>\n",
       "    </tr>\n",
       "  </thead>\n",
       "  <tbody>\n",
       "    <tr>\n",
       "      <th>0</th>\n",
       "      <td>38.349721</td>\n",
       "      <td>608.202806</td>\n",
       "      <td>20.870391</td>\n",
       "      <td>32.118196</td>\n",
       "    </tr>\n",
       "    <tr>\n",
       "      <th>1</th>\n",
       "      <td>14.964234</td>\n",
       "      <td>297.675402</td>\n",
       "      <td>187.294891</td>\n",
       "      <td>43.291973</td>\n",
       "    </tr>\n",
       "    <tr>\n",
       "      <th>2</th>\n",
       "      <td>278.464450</td>\n",
       "      <td>7020.739553</td>\n",
       "      <td>13.612385</td>\n",
       "      <td>96.665836</td>\n",
       "    </tr>\n",
       "    <tr>\n",
       "      <th>3</th>\n",
       "      <td>79.139883</td>\n",
       "      <td>1509.548037</td>\n",
       "      <td>97.043297</td>\n",
       "      <td>103.489540</td>\n",
       "    </tr>\n",
       "  </tbody>\n",
       "</table>\n",
       "</div>"
      ],
      "text/plain": [
       "               Freq   SaleAmount  ElapsedDays  SaleAmountAVG\n",
       "cluster                                                     \n",
       "0         38.349721   608.202806    20.870391      32.118196\n",
       "1         14.964234   297.675402   187.294891      43.291973\n",
       "2        278.464450  7020.739553    13.612385      96.665836\n",
       "3         79.139883  1509.548037    97.043297     103.489540"
      ]
     },
     "execution_count": 96,
     "metadata": {},
     "output_type": "execute_result"
    }
   ],
   "source": [
    "# 클러스터별로 분석하기\n",
    "customerAVG_df = customer_df.drop(columns=['CustomerID']).groupby('cluster').mean()\n",
    "customerAVG_df"
   ]
  },
  {
   "cell_type": "code",
   "execution_count": 97,
   "id": "2e59e6de-15cf-4cbc-8323-6be5d5ef2762",
   "metadata": {},
   "outputs": [
    {
     "data": {
      "text/html": [
       "<div>\n",
       "<style scoped>\n",
       "    .dataframe tbody tr th:only-of-type {\n",
       "        vertical-align: middle;\n",
       "    }\n",
       "\n",
       "    .dataframe tbody tr th {\n",
       "        vertical-align: top;\n",
       "    }\n",
       "\n",
       "    .dataframe thead th {\n",
       "        text-align: right;\n",
       "    }\n",
       "</style>\n",
       "<table border=\"1\" class=\"dataframe\">\n",
       "  <thead>\n",
       "    <tr style=\"text-align: right;\">\n",
       "      <th></th>\n",
       "      <th>Freq</th>\n",
       "      <th>SaleAmount</th>\n",
       "      <th>ElapsedDays</th>\n",
       "      <th>SaleAmountAVG</th>\n",
       "    </tr>\n",
       "    <tr>\n",
       "      <th>cluster</th>\n",
       "      <th></th>\n",
       "      <th></th>\n",
       "      <th></th>\n",
       "      <th></th>\n",
       "    </tr>\n",
       "  </thead>\n",
       "  <tbody>\n",
       "    <tr>\n",
       "      <th>1</th>\n",
       "      <td>38.349721</td>\n",
       "      <td>608.202806</td>\n",
       "      <td>20.870391</td>\n",
       "      <td>32.118196</td>\n",
       "    </tr>\n",
       "    <tr>\n",
       "      <th>2</th>\n",
       "      <td>14.964234</td>\n",
       "      <td>297.675402</td>\n",
       "      <td>187.294891</td>\n",
       "      <td>43.291973</td>\n",
       "    </tr>\n",
       "    <tr>\n",
       "      <th>3</th>\n",
       "      <td>278.464450</td>\n",
       "      <td>7020.739553</td>\n",
       "      <td>13.612385</td>\n",
       "      <td>96.665836</td>\n",
       "    </tr>\n",
       "    <tr>\n",
       "      <th>4</th>\n",
       "      <td>79.139883</td>\n",
       "      <td>1509.548037</td>\n",
       "      <td>97.043297</td>\n",
       "      <td>103.489540</td>\n",
       "    </tr>\n",
       "  </tbody>\n",
       "</table>\n",
       "</div>"
      ],
      "text/plain": [
       "               Freq   SaleAmount  ElapsedDays  SaleAmountAVG\n",
       "cluster                                                     \n",
       "1         38.349721   608.202806    20.870391      32.118196\n",
       "2         14.964234   297.675402   187.294891      43.291973\n",
       "3        278.464450  7020.739553    13.612385      96.665836\n",
       "4         79.139883  1509.548037    97.043297     103.489540"
      ]
     },
     "execution_count": 97,
     "metadata": {},
     "output_type": "execute_result"
    }
   ],
   "source": [
    "customerAVG_df.index += 1\n",
    "customerAVG_df"
   ]
  },
  {
   "cell_type": "code",
   "execution_count": null,
   "id": "78eedb57-5748-4397-a008-d66b5fb79390",
   "metadata": {},
   "outputs": [],
   "source": []
  },
  {
   "cell_type": "code",
   "execution_count": null,
   "id": "9719d169-3481-49f8-aeea-f855ab9b9809",
   "metadata": {},
   "outputs": [],
   "source": []
  },
  {
   "cell_type": "code",
   "execution_count": null,
   "id": "2583db02-e9cc-4cbc-a27b-3270d9d2e432",
   "metadata": {},
   "outputs": [],
   "source": []
  }
 ],
 "metadata": {
  "kernelspec": {
   "display_name": "Python 3 (ipykernel)",
   "language": "python",
   "name": "python3"
  },
  "language_info": {
   "codemirror_mode": {
    "name": "ipython",
    "version": 3
   },
   "file_extension": ".py",
   "mimetype": "text/x-python",
   "name": "python",
   "nbconvert_exporter": "python",
   "pygments_lexer": "ipython3",
   "version": "3.11.7"
  }
 },
 "nbformat": 4,
 "nbformat_minor": 5
}
